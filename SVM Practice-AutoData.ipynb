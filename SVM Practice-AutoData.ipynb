{
 "cells": [
  {
   "cell_type": "code",
   "execution_count": 1,
   "id": "6000f5e2",
   "metadata": {},
   "outputs": [],
   "source": [
    "# Importing the libraries \n",
    "\n",
    "import pandas as pd\n",
    "import numpy as np \n",
    "import matplotlib.pyplot as plt \n",
    "import seaborn as sns\n",
    "%matplotlib inline\n",
    "\n",
    "# Ignore harmless warnings \n",
    "\n",
    "import warnings \n",
    "warnings.filterwarnings(\"ignore\")\n",
    "\n",
    "# Set to display all the columns in dataset\n",
    "\n",
    "pd.set_option(\"display.max_columns\", None)\n",
    "\n",
    "# Import psql to run queries \n",
    "\n",
    "import pandasql as psql\n",
    "\n",
    "# import datetime class from datetime module\n",
    "\n",
    "from datetime import datetime"
   ]
  },
  {
   "cell_type": "code",
   "execution_count": 2,
   "id": "325a73d0",
   "metadata": {},
   "outputs": [
    {
     "data": {
      "text/html": [
       "<div>\n",
       "<style scoped>\n",
       "    .dataframe tbody tr th:only-of-type {\n",
       "        vertical-align: middle;\n",
       "    }\n",
       "\n",
       "    .dataframe tbody tr th {\n",
       "        vertical-align: top;\n",
       "    }\n",
       "\n",
       "    .dataframe thead th {\n",
       "        text-align: right;\n",
       "    }\n",
       "</style>\n",
       "<table border=\"1\" class=\"dataframe\">\n",
       "  <thead>\n",
       "    <tr style=\"text-align: right;\">\n",
       "      <th></th>\n",
       "      <th>Quote_Num</th>\n",
       "      <th>Agent_Type</th>\n",
       "      <th>Q_Creation_DT</th>\n",
       "      <th>Q_Valid_DT</th>\n",
       "      <th>Policy_Bind_DT</th>\n",
       "      <th>Region</th>\n",
       "      <th>Agent_Num</th>\n",
       "      <th>Policy_Type</th>\n",
       "      <th>HH_Vehicles</th>\n",
       "      <th>HH_Drivers</th>\n",
       "      <th>Driver_Age</th>\n",
       "      <th>Driving_Exp</th>\n",
       "      <th>Prev_Accidents</th>\n",
       "      <th>Prev_Citations</th>\n",
       "      <th>Gender</th>\n",
       "      <th>Marital_Status</th>\n",
       "      <th>Education</th>\n",
       "      <th>Sal_Range1</th>\n",
       "      <th>Sal_Range2</th>\n",
       "      <th>Coverage</th>\n",
       "      <th>Veh_Usage</th>\n",
       "      <th>Annual_Miles_Range</th>\n",
       "      <th>Vehicl_Cost_Range1</th>\n",
       "      <th>Vehicl_Cost_Range2</th>\n",
       "      <th>Re_Quote</th>\n",
       "      <th>Quoted_Premium</th>\n",
       "      <th>Policy_Bind</th>\n",
       "    </tr>\n",
       "  </thead>\n",
       "  <tbody>\n",
       "    <tr>\n",
       "      <th>0</th>\n",
       "      <td>AQ-C-139212</td>\n",
       "      <td>EA</td>\n",
       "      <td>2020/04/25</td>\n",
       "      <td>2020/06/23</td>\n",
       "      <td>2020/05/23</td>\n",
       "      <td>C</td>\n",
       "      <td>2156</td>\n",
       "      <td>Car</td>\n",
       "      <td>3</td>\n",
       "      <td>3</td>\n",
       "      <td>43</td>\n",
       "      <td>26</td>\n",
       "      <td>0</td>\n",
       "      <td>0</td>\n",
       "      <td>Female</td>\n",
       "      <td>Widow</td>\n",
       "      <td>High School</td>\n",
       "      <td>&gt; $ 25 K &lt;= $ 40 K</td>\n",
       "      <td>&gt;  25 K &lt;=  40 K</td>\n",
       "      <td>Balanced</td>\n",
       "      <td>Commute</td>\n",
       "      <td>&gt; 55 K</td>\n",
       "      <td>&gt; $ 10 K &lt;= $ 20 K</td>\n",
       "      <td>&gt;  10 K &lt;=  20 K</td>\n",
       "      <td>No</td>\n",
       "      <td>693.86</td>\n",
       "      <td>Yes</td>\n",
       "    </tr>\n",
       "    <tr>\n",
       "      <th>1</th>\n",
       "      <td>AQ-F-136117</td>\n",
       "      <td>EA</td>\n",
       "      <td>2020/02/21</td>\n",
       "      <td>2020/04/20</td>\n",
       "      <td>NaN</td>\n",
       "      <td>F</td>\n",
       "      <td>2153</td>\n",
       "      <td>Van</td>\n",
       "      <td>2</td>\n",
       "      <td>2</td>\n",
       "      <td>30</td>\n",
       "      <td>13</td>\n",
       "      <td>0</td>\n",
       "      <td>0</td>\n",
       "      <td>Female</td>\n",
       "      <td>Dirvorced</td>\n",
       "      <td>Ph.D</td>\n",
       "      <td>&gt; $ 40 K &lt;= $ 60 K</td>\n",
       "      <td>&gt;  40 K &lt;=  60 K</td>\n",
       "      <td>Balanced</td>\n",
       "      <td>Pleasure</td>\n",
       "      <td>&gt; 7.5 K &amp; &lt;= 15 K</td>\n",
       "      <td>&lt;= $ 10 K</td>\n",
       "      <td>&lt;=  10 K</td>\n",
       "      <td>No</td>\n",
       "      <td>635.96</td>\n",
       "      <td>No</td>\n",
       "    </tr>\n",
       "    <tr>\n",
       "      <th>2</th>\n",
       "      <td>AQ-F-126801</td>\n",
       "      <td>EA</td>\n",
       "      <td>2020/06/19</td>\n",
       "      <td>2020/08/17</td>\n",
       "      <td>2020/07/12</td>\n",
       "      <td>F</td>\n",
       "      <td>2056</td>\n",
       "      <td>Truck</td>\n",
       "      <td>2</td>\n",
       "      <td>1</td>\n",
       "      <td>25</td>\n",
       "      <td>8</td>\n",
       "      <td>0</td>\n",
       "      <td>0</td>\n",
       "      <td>Female</td>\n",
       "      <td>Dirvorced</td>\n",
       "      <td>Ph.D</td>\n",
       "      <td>&gt; $ 40 K &lt;= $ 60 K</td>\n",
       "      <td>&gt;  40 K &lt;=  60 K</td>\n",
       "      <td>Basic</td>\n",
       "      <td>Commute</td>\n",
       "      <td>&gt; 35 K &amp; &lt;= 45 K</td>\n",
       "      <td>&gt; $ 10 K &lt;= $ 20 K</td>\n",
       "      <td>&gt;  10 K &lt;=  20 K</td>\n",
       "      <td>No</td>\n",
       "      <td>780.64</td>\n",
       "      <td>Yes</td>\n",
       "    </tr>\n",
       "    <tr>\n",
       "      <th>3</th>\n",
       "      <td>AQ-E-143467</td>\n",
       "      <td>EA</td>\n",
       "      <td>2020/05/02</td>\n",
       "      <td>2020/06/30</td>\n",
       "      <td>2020/05/24</td>\n",
       "      <td>E</td>\n",
       "      <td>2138</td>\n",
       "      <td>Car</td>\n",
       "      <td>1</td>\n",
       "      <td>2</td>\n",
       "      <td>43</td>\n",
       "      <td>26</td>\n",
       "      <td>0</td>\n",
       "      <td>0</td>\n",
       "      <td>Female</td>\n",
       "      <td>Married</td>\n",
       "      <td>Ph.D</td>\n",
       "      <td>&gt; $ 90 K</td>\n",
       "      <td>&gt;  90 K</td>\n",
       "      <td>Basic</td>\n",
       "      <td>Pleasure</td>\n",
       "      <td>&lt;= 7.5 K</td>\n",
       "      <td>&lt;= $ 10 K</td>\n",
       "      <td>&lt;=  10 K</td>\n",
       "      <td>No</td>\n",
       "      <td>723.15</td>\n",
       "      <td>Yes</td>\n",
       "    </tr>\n",
       "    <tr>\n",
       "      <th>4</th>\n",
       "      <td>AQ-C-143827</td>\n",
       "      <td>EA</td>\n",
       "      <td>2020/02/12</td>\n",
       "      <td>2020/04/11</td>\n",
       "      <td>2020/02/25</td>\n",
       "      <td>C</td>\n",
       "      <td>2327</td>\n",
       "      <td>Truck</td>\n",
       "      <td>3</td>\n",
       "      <td>1</td>\n",
       "      <td>40</td>\n",
       "      <td>23</td>\n",
       "      <td>0</td>\n",
       "      <td>0</td>\n",
       "      <td>Female</td>\n",
       "      <td>Widow</td>\n",
       "      <td>High School</td>\n",
       "      <td>&lt;= $ 25 K</td>\n",
       "      <td>&lt;=  25 K</td>\n",
       "      <td>Basic</td>\n",
       "      <td>Pleasure</td>\n",
       "      <td>&gt; 35 K &amp; &lt;= 45 K</td>\n",
       "      <td>&lt;= $ 10 K</td>\n",
       "      <td>&lt;=  10 K</td>\n",
       "      <td>No</td>\n",
       "      <td>738.14</td>\n",
       "      <td>Yes</td>\n",
       "    </tr>\n",
       "  </tbody>\n",
       "</table>\n",
       "</div>"
      ],
      "text/plain": [
       "     Quote_Num Agent_Type Q_Creation_DT  Q_Valid_DT Policy_Bind_DT Region  \\\n",
       "0  AQ-C-139212         EA    2020/04/25  2020/06/23     2020/05/23      C   \n",
       "1  AQ-F-136117         EA    2020/02/21  2020/04/20            NaN      F   \n",
       "2  AQ-F-126801         EA    2020/06/19  2020/08/17     2020/07/12      F   \n",
       "3  AQ-E-143467         EA    2020/05/02  2020/06/30     2020/05/24      E   \n",
       "4  AQ-C-143827         EA    2020/02/12  2020/04/11     2020/02/25      C   \n",
       "\n",
       "   Agent_Num Policy_Type  HH_Vehicles  HH_Drivers  Driver_Age  Driving_Exp  \\\n",
       "0       2156         Car            3           3          43           26   \n",
       "1       2153         Van            2           2          30           13   \n",
       "2       2056       Truck            2           1          25            8   \n",
       "3       2138         Car            1           2          43           26   \n",
       "4       2327       Truck            3           1          40           23   \n",
       "\n",
       "   Prev_Accidents  Prev_Citations  Gender Marital_Status    Education  \\\n",
       "0               0               0  Female          Widow  High School   \n",
       "1               0               0  Female      Dirvorced         Ph.D   \n",
       "2               0               0  Female      Dirvorced         Ph.D   \n",
       "3               0               0  Female        Married         Ph.D   \n",
       "4               0               0  Female          Widow  High School   \n",
       "\n",
       "           Sal_Range1        Sal_Range2  Coverage Veh_Usage  \\\n",
       "0  > $ 25 K <= $ 40 K  >  25 K <=  40 K  Balanced   Commute   \n",
       "1  > $ 40 K <= $ 60 K  >  40 K <=  60 K  Balanced  Pleasure   \n",
       "2  > $ 40 K <= $ 60 K  >  40 K <=  60 K     Basic   Commute   \n",
       "3           > $ 90 K           >  90 K      Basic  Pleasure   \n",
       "4           <= $ 25 K          <=  25 K     Basic  Pleasure   \n",
       "\n",
       "  Annual_Miles_Range  Vehicl_Cost_Range1 Vehicl_Cost_Range2 Re_Quote  \\\n",
       "0             > 55 K  > $ 10 K <= $ 20 K   >  10 K <=  20 K       No   \n",
       "1  > 7.5 K & <= 15 K           <= $ 10 K           <=  10 K       No   \n",
       "2   > 35 K & <= 45 K  > $ 10 K <= $ 20 K   >  10 K <=  20 K       No   \n",
       "3           <= 7.5 K           <= $ 10 K           <=  10 K       No   \n",
       "4   > 35 K & <= 45 K           <= $ 10 K           <=  10 K       No   \n",
       "\n",
       "   Quoted_Premium Policy_Bind  \n",
       "0          693.86         Yes  \n",
       "1          635.96          No  \n",
       "2          780.64         Yes  \n",
       "3          723.15         Yes  \n",
       "4          738.14         Yes  "
      ]
     },
     "execution_count": 2,
     "metadata": {},
     "output_type": "execute_result"
    }
   ],
   "source": [
    "# Load the Auto Insurance dataset\n",
    "\n",
    "autodata = pd.read_csv(r\"C:\\Users\\Admin\\Downloads\\Raju Sir DLS\\Auto_Quote_Data_V2.0.csv\", header=0)\n",
    "autodata.head()"
   ]
  },
  {
   "cell_type": "code",
   "execution_count": 3,
   "id": "6bc36dc6",
   "metadata": {},
   "outputs": [
    {
     "name": "stdout",
     "output_type": "stream",
     "text": [
      "<class 'pandas.core.frame.DataFrame'>\n",
      "RangeIndex: 146259 entries, 0 to 146258\n",
      "Data columns (total 27 columns):\n",
      " #   Column              Non-Null Count   Dtype  \n",
      "---  ------              --------------   -----  \n",
      " 0   Quote_Num           146259 non-null  object \n",
      " 1   Agent_Type          146259 non-null  object \n",
      " 2   Q_Creation_DT       146259 non-null  object \n",
      " 3   Q_Valid_DT          146259 non-null  object \n",
      " 4   Policy_Bind_DT      32502 non-null   object \n",
      " 5   Region              146259 non-null  object \n",
      " 6   Agent_Num           146259 non-null  int64  \n",
      " 7   Policy_Type         146259 non-null  object \n",
      " 8   HH_Vehicles         146259 non-null  int64  \n",
      " 9   HH_Drivers          146259 non-null  int64  \n",
      " 10  Driver_Age          146259 non-null  int64  \n",
      " 11  Driving_Exp         146259 non-null  int64  \n",
      " 12  Prev_Accidents      146259 non-null  int64  \n",
      " 13  Prev_Citations      146259 non-null  int64  \n",
      " 14  Gender              146259 non-null  object \n",
      " 15  Marital_Status      146259 non-null  object \n",
      " 16  Education           146259 non-null  object \n",
      " 17  Sal_Range1          146259 non-null  object \n",
      " 18  Sal_Range2          146259 non-null  object \n",
      " 19  Coverage            146259 non-null  object \n",
      " 20  Veh_Usage           146259 non-null  object \n",
      " 21  Annual_Miles_Range  146259 non-null  object \n",
      " 22  Vehicl_Cost_Range1  146259 non-null  object \n",
      " 23  Vehicl_Cost_Range2  146259 non-null  object \n",
      " 24  Re_Quote            146259 non-null  object \n",
      " 25  Quoted_Premium      146259 non-null  float64\n",
      " 26  Policy_Bind         146259 non-null  object \n",
      "dtypes: float64(1), int64(7), object(19)\n",
      "memory usage: 30.1+ MB\n"
     ]
    }
   ],
   "source": [
    "# Display the Dataset information\n",
    "\n",
    "autodata.info()"
   ]
  },
  {
   "cell_type": "code",
   "execution_count": 4,
   "id": "9abf1b57",
   "metadata": {},
   "outputs": [],
   "source": [
    "# Drop the variables which are not infulencing on target variable\n",
    "\n",
    "autodata = autodata.drop(['Quote_Num','Agent_Num','Q_Creation_DT','Q_Valid_DT','Policy_Bind_DT','Vehicl_Cost_Range1','Sal_Range1',], axis=1)"
   ]
  },
  {
   "cell_type": "code",
   "execution_count": 5,
   "id": "d1bfec1a",
   "metadata": {},
   "outputs": [
    {
     "data": {
      "text/plain": [
       "0    113757\n",
       "1     32502\n",
       "Name: Policy_Bind, dtype: int64"
      ]
     },
     "execution_count": 5,
     "metadata": {},
     "output_type": "execute_result"
    }
   ],
   "source": [
    "# Display the Policybind type varibles count\n",
    "\n",
    "autodata['Policy_Bind'].value_counts()\n",
    "\n",
    "# Data Cleaning - Policybind by using map() function\n",
    "\n",
    "policybind_map={'Yes':1,'No':0}\n",
    "autodata['Policy_Bind']=autodata['Policy_Bind'].map(policybind_map)\n",
    "autodata['Policy_Bind'].value_counts()"
   ]
  },
  {
   "cell_type": "code",
   "execution_count": 6,
   "id": "ed3cc13c",
   "metadata": {},
   "outputs": [
    {
     "data": {
      "text/plain": [
       "1    104004\n",
       "0     42255\n",
       "Name: Agent_Type, dtype: int64"
      ]
     },
     "execution_count": 6,
     "metadata": {},
     "output_type": "execute_result"
    }
   ],
   "source": [
    "# Display the agent type varibles count\n",
    "\n",
    "autodata['Agent_Type'].value_counts()\n",
    "\n",
    "# Data Cleaning - agent by using map() function\n",
    "\n",
    "agent_map={'EA':1,'IA':0}\n",
    "autodata['Agent_Type']=autodata['Agent_Type'].map(agent_map)\n",
    "\n",
    "# Display the agent type varibles count\n",
    "\n",
    "autodata['Agent_Type'].value_counts()"
   ]
  },
  {
   "cell_type": "code",
   "execution_count": 7,
   "id": "df597a4f",
   "metadata": {},
   "outputs": [
    {
     "data": {
      "text/plain": [
       "0    110005\n",
       "1     36254\n",
       "Name: Re_Quote, dtype: int64"
      ]
     },
     "execution_count": 7,
     "metadata": {},
     "output_type": "execute_result"
    }
   ],
   "source": [
    "# Use LabelEncoder for Region variables\n",
    "\n",
    "from sklearn.preprocessing import LabelEncoder\n",
    "\n",
    "LE = LabelEncoder()\n",
    "\n",
    "autodata['Region'] = LE.fit_transform(autodata['Region'])\n",
    "autodata['Gender'] = LE.fit_transform(autodata['Gender'])\n",
    "autodata['Re_Quote'] = LE.fit_transform(autodata['Re_Quote'])\n",
    "\n",
    "autodata['Region'].value_counts()\n",
    "autodata['Gender'].value_counts()\n",
    "autodata['Re_Quote'].value_counts()"
   ]
  },
  {
   "cell_type": "code",
   "execution_count": 8,
   "id": "8f7d8d83",
   "metadata": {},
   "outputs": [
    {
     "name": "stdout",
     "output_type": "stream",
     "text": [
      "<class 'pandas.core.frame.DataFrame'>\n",
      "RangeIndex: 146259 entries, 0 to 146258\n",
      "Data columns (total 20 columns):\n",
      " #   Column              Non-Null Count   Dtype  \n",
      "---  ------              --------------   -----  \n",
      " 0   Agent_Type          146259 non-null  int64  \n",
      " 1   Region              146259 non-null  int32  \n",
      " 2   Policy_Type         146259 non-null  object \n",
      " 3   HH_Vehicles         146259 non-null  int64  \n",
      " 4   HH_Drivers          146259 non-null  int64  \n",
      " 5   Driver_Age          146259 non-null  int64  \n",
      " 6   Driving_Exp         146259 non-null  int64  \n",
      " 7   Prev_Accidents      146259 non-null  int64  \n",
      " 8   Prev_Citations      146259 non-null  int64  \n",
      " 9   Gender              146259 non-null  int32  \n",
      " 10  Marital_Status      146259 non-null  object \n",
      " 11  Education           146259 non-null  object \n",
      " 12  Sal_Range2          146259 non-null  object \n",
      " 13  Coverage            146259 non-null  object \n",
      " 14  Veh_Usage           146259 non-null  object \n",
      " 15  Annual_Miles_Range  146259 non-null  object \n",
      " 16  Vehicl_Cost_Range2  146259 non-null  object \n",
      " 17  Re_Quote            146259 non-null  int32  \n",
      " 18  Quoted_Premium      146259 non-null  float64\n",
      " 19  Policy_Bind         146259 non-null  int64  \n",
      "dtypes: float64(1), int32(3), int64(8), object(8)\n",
      "memory usage: 20.6+ MB\n"
     ]
    }
   ],
   "source": [
    "# Displaying the dataset information\n",
    "\n",
    "autodata.info()"
   ]
  },
  {
   "cell_type": "code",
   "execution_count": 9,
   "id": "d3361d6b",
   "metadata": {},
   "outputs": [
    {
     "data": {
      "text/plain": [
       "3    48909\n",
       "2    48702\n",
       "1    48648\n",
       "Name: Policy_Type, dtype: int64"
      ]
     },
     "execution_count": 9,
     "metadata": {},
     "output_type": "execute_result"
    }
   ],
   "source": [
    "# Display the policy type varibles count\n",
    "\n",
    "autodata['Policy_Type'].value_counts()\n",
    "\n",
    "# Data Cleaning - Policy type by using map() function\n",
    "\n",
    "Policytype_map={'Car':1,'Truck':2,'Van':3}\n",
    "autodata['Policy_Type']=autodata['Policy_Type'].map(Policytype_map)\n",
    "\n",
    "# Display the policy type varibles count\n",
    "\n",
    "autodata['Policy_Type'].value_counts()"
   ]
  },
  {
   "cell_type": "code",
   "execution_count": 10,
   "id": "da80bc9e",
   "metadata": {},
   "outputs": [
    {
     "data": {
      "text/plain": [
       "1    36711\n",
       "2    36523\n",
       "3    36520\n",
       "4    36505\n",
       "Name: Marital_Status, dtype: int64"
      ]
     },
     "execution_count": 10,
     "metadata": {},
     "output_type": "execute_result"
    }
   ],
   "source": [
    "# Display the Marital_Status varibles count\n",
    "\n",
    "autodata['Marital_Status'].value_counts()\n",
    "\n",
    "# Data Cleaning - Marital Status by using map() function\n",
    "\n",
    "Maritalstatus_map={'Married':4,'Dirvorced':3,'Widow':2,'Single':1}\n",
    "autodata['Marital_Status']=autodata['Marital_Status'].map(Maritalstatus_map)\n",
    "\n",
    "# Display the Marital_Status varibles count\n",
    "\n",
    "autodata['Marital_Status'].value_counts()"
   ]
  },
  {
   "cell_type": "code",
   "execution_count": 11,
   "id": "afab60d7",
   "metadata": {},
   "outputs": [
    {
     "data": {
      "text/plain": [
       "2    29475\n",
       "4    29433\n",
       "3    29232\n",
       "1    29149\n",
       "5    28970\n",
       "Name: Education, dtype: int64"
      ]
     },
     "execution_count": 11,
     "metadata": {},
     "output_type": "execute_result"
    }
   ],
   "source": [
    "# Display the education varibles count\n",
    "\n",
    "autodata['Education'].value_counts()\n",
    "\n",
    "# Data Cleaning - Education type by using map() function\n",
    "Education_map={'Ph.D':5,'Masters':4,'Bachelors':3,'College':2,'High School':1}\n",
    "autodata['Education']=autodata['Education'].map(Education_map)\n",
    "\n",
    "# Display the education varibles count\n",
    "autodata['Education'].value_counts()"
   ]
  },
  {
   "cell_type": "code",
   "execution_count": 12,
   "id": "797d6f24",
   "metadata": {},
   "outputs": [
    {
     "data": {
      "text/plain": [
       "3    62764\n",
       "2    41775\n",
       "1    41720\n",
       "Name: Coverage, dtype: int64"
      ]
     },
     "execution_count": 12,
     "metadata": {},
     "output_type": "execute_result"
    }
   ],
   "source": [
    "# Display the Coverage type varibles count\n",
    "\n",
    "autodata['Coverage'].value_counts()\n",
    "\n",
    "# Data Cleaning - coverage type by using map() function\n",
    "\n",
    "Coverage_map={'Basic':3,'Balanced':2,'Enhanced':1}\n",
    "autodata['Coverage']=autodata['Coverage'].map(Coverage_map)\n",
    "\n",
    "# Display the Coverage type varibles count\n",
    "\n",
    "autodata['Coverage'].value_counts()"
   ]
  },
  {
   "cell_type": "code",
   "execution_count": 13,
   "id": "b4b28775",
   "metadata": {},
   "outputs": [
    {
     "data": {
      "text/plain": [
       "1    83504\n",
       "2    41921\n",
       "3    20834\n",
       "Name: Veh_Usage, dtype: int64"
      ]
     },
     "execution_count": 13,
     "metadata": {},
     "output_type": "execute_result"
    }
   ],
   "source": [
    "# Display the Veh_Usage type varibles count\n",
    "\n",
    "autodata['Veh_Usage'].value_counts()\n",
    "\n",
    "# Data Cleaning - Veh_Usage type by using map() function\n",
    "\n",
    "VehUsage_map={'Pleasure':1,'Commute':2,'Business':3}\n",
    "autodata['Veh_Usage']=autodata['Veh_Usage'].map(VehUsage_map)\n",
    "\n",
    "# Display the Veh_Usage type varibles count\n",
    "\n",
    "autodata['Veh_Usage'].value_counts()"
   ]
  },
  {
   "cell_type": "code",
   "execution_count": 14,
   "id": "bcbb38cb",
   "metadata": {},
   "outputs": [
    {
     "name": "stdout",
     "output_type": "stream",
     "text": [
      "<class 'pandas.core.frame.DataFrame'>\n",
      "RangeIndex: 146259 entries, 0 to 146258\n",
      "Data columns (total 20 columns):\n",
      " #   Column              Non-Null Count   Dtype  \n",
      "---  ------              --------------   -----  \n",
      " 0   Agent_Type          146259 non-null  int64  \n",
      " 1   Region              146259 non-null  int32  \n",
      " 2   Policy_Type         146259 non-null  int64  \n",
      " 3   HH_Vehicles         146259 non-null  int64  \n",
      " 4   HH_Drivers          146259 non-null  int64  \n",
      " 5   Driver_Age          146259 non-null  int64  \n",
      " 6   Driving_Exp         146259 non-null  int64  \n",
      " 7   Prev_Accidents      146259 non-null  int64  \n",
      " 8   Prev_Citations      146259 non-null  int64  \n",
      " 9   Gender              146259 non-null  int32  \n",
      " 10  Marital_Status      146259 non-null  int64  \n",
      " 11  Education           146259 non-null  int64  \n",
      " 12  Sal_Range2          146259 non-null  object \n",
      " 13  Coverage            146259 non-null  int64  \n",
      " 14  Veh_Usage           146259 non-null  int64  \n",
      " 15  Annual_Miles_Range  146259 non-null  object \n",
      " 16  Vehicl_Cost_Range2  146259 non-null  object \n",
      " 17  Re_Quote            146259 non-null  int32  \n",
      " 18  Quoted_Premium      146259 non-null  float64\n",
      " 19  Policy_Bind         146259 non-null  int64  \n",
      "dtypes: float64(1), int32(3), int64(13), object(3)\n",
      "memory usage: 20.6+ MB\n"
     ]
    }
   ],
   "source": [
    "# Displaying the dataset information\n",
    "\n",
    "autodata.info()"
   ]
  },
  {
   "cell_type": "code",
   "execution_count": 15,
   "id": "810a48f4",
   "metadata": {},
   "outputs": [
    {
     "data": {
      "text/plain": [
       "1    64916\n",
       "2    32340\n",
       "5    16450\n",
       "3    16289\n",
       "4    16264\n",
       "Name: Sal_Range2, dtype: int64"
      ]
     },
     "execution_count": 15,
     "metadata": {},
     "output_type": "execute_result"
    }
   ],
   "source": [
    "# Display the Sal_Range2 varibles count\n",
    "\n",
    "autodata['Sal_Range2'].value_counts()\n",
    "\n",
    "# Replace 'Sal_Range2' variable and convert the 'Sal_Range2' to integer value\n",
    "autodata['Sal_Range2'] = autodata['Sal_Range2'].str.replace('<=  25 K', '1')\n",
    "autodata['Sal_Range2'] = autodata['Sal_Range2'].str.replace('>  25 K <=  40 K', '2')\n",
    "autodata['Sal_Range2'] = autodata['Sal_Range2'].str.replace('>  40 K <=  60 K', '3')\n",
    "autodata['Sal_Range2'] = autodata['Sal_Range2'].str.replace('>  60 K <=  90 K', '4')\n",
    "autodata['Sal_Range2'] = autodata['Sal_Range2'].str.replace('>  90 K', '5')\n",
    "autodata['Sal_Range2'] = autodata['Sal_Range2'].astype(int)\n",
    "\n",
    "# Display the Sal_Range2 varibles count\n",
    "\n",
    "autodata['Sal_Range2'].value_counts()"
   ]
  },
  {
   "cell_type": "code",
   "execution_count": 16,
   "id": "5c8099ba",
   "metadata": {},
   "outputs": [
    {
     "data": {
      "text/plain": [
       "2    36567\n",
       "1    36538\n",
       "3    24145\n",
       "7    12433\n",
       "6    12219\n",
       "5    12192\n",
       "4    12165\n",
       "Name: Annual_Miles_Range, dtype: int64"
      ]
     },
     "execution_count": 16,
     "metadata": {},
     "output_type": "execute_result"
    }
   ],
   "source": [
    "# Display the Annual_Miles_Range varibles count\n",
    "\n",
    "autodata['Annual_Miles_Range'].value_counts()\n",
    "\n",
    "# Replace 'Annual_Miles_Range' variable and convert the 'Annual_Miles_Range' to integer value\n",
    "autodata['Annual_Miles_Range'] = autodata['Annual_Miles_Range'].str.replace('<= 7.5 K', '1')\n",
    "autodata['Annual_Miles_Range'] = autodata['Annual_Miles_Range'].str.replace('> 7.5 K & <= 15 K', '2')\n",
    "autodata['Annual_Miles_Range'] = autodata['Annual_Miles_Range'].str.replace('> 15 K & <= 25 K', '3')\n",
    "autodata['Annual_Miles_Range'] = autodata['Annual_Miles_Range'].str.replace('> 25 K & <= 35 K', '4')\n",
    "autodata['Annual_Miles_Range'] = autodata['Annual_Miles_Range'].str.replace('> 35 K & <= 45 K', '5')\n",
    "autodata['Annual_Miles_Range'] = autodata['Annual_Miles_Range'].str.replace('> 45 K & <= 55 K', '6')\n",
    "autodata['Annual_Miles_Range'] = autodata['Annual_Miles_Range'].str.replace('> 55 K', '7')\n",
    "autodata['Annual_Miles_Range'] = autodata['Annual_Miles_Range'].astype(int)\n",
    "\n",
    "# Display the Annual_Miles_Range varibles count\n",
    "\n",
    "autodata['Annual_Miles_Range'].value_counts()"
   ]
  },
  {
   "cell_type": "code",
   "execution_count": 17,
   "id": "d6a6de18",
   "metadata": {},
   "outputs": [
    {
     "data": {
      "text/plain": [
       "1    60342\n",
       "3    24685\n",
       "2    24548\n",
       "4    24543\n",
       "5    12141\n",
       "Name: Vehicl_Cost_Range2, dtype: int64"
      ]
     },
     "execution_count": 17,
     "metadata": {},
     "output_type": "execute_result"
    }
   ],
   "source": [
    "# Display the Vehicl_Cost_Range2 varibles count\n",
    "\n",
    "autodata['Vehicl_Cost_Range2'].value_counts()\n",
    "\n",
    "# Replace 'Vehicl_Cost_Range2' variable and convert the 'Vehicl_Cost_Range2' to integer value\n",
    "autodata['Vehicl_Cost_Range2'] = autodata['Vehicl_Cost_Range2'].str.replace('<=  10 K', '1')\n",
    "autodata['Vehicl_Cost_Range2'] = autodata['Vehicl_Cost_Range2'].str.replace('>  10 K <=  20 K', '2')\n",
    "autodata['Vehicl_Cost_Range2'] = autodata['Vehicl_Cost_Range2'].str.replace('>  20 K <=  30 K', '3')\n",
    "autodata['Vehicl_Cost_Range2'] = autodata['Vehicl_Cost_Range2'].str.replace('>  30 K <=  40 K', '4')\n",
    "autodata['Vehicl_Cost_Range2'] = autodata['Vehicl_Cost_Range2'].str.replace('>  40 K', '5')\n",
    "autodata['Vehicl_Cost_Range2'] = autodata['Vehicl_Cost_Range2'].astype(int)\n",
    "\n",
    "# Display the Vehicl_Cost_Range2 varibles count\n",
    "\n",
    "autodata['Vehicl_Cost_Range2'].value_counts()\n"
   ]
  },
  {
   "cell_type": "code",
   "execution_count": 18,
   "id": "5e8f44b0",
   "metadata": {},
   "outputs": [
    {
     "name": "stdout",
     "output_type": "stream",
     "text": [
      "<class 'pandas.core.frame.DataFrame'>\n",
      "RangeIndex: 146259 entries, 0 to 146258\n",
      "Data columns (total 20 columns):\n",
      " #   Column              Non-Null Count   Dtype  \n",
      "---  ------              --------------   -----  \n",
      " 0   Agent_Type          146259 non-null  int64  \n",
      " 1   Region              146259 non-null  int32  \n",
      " 2   Policy_Type         146259 non-null  int64  \n",
      " 3   HH_Vehicles         146259 non-null  int64  \n",
      " 4   HH_Drivers          146259 non-null  int64  \n",
      " 5   Driver_Age          146259 non-null  int64  \n",
      " 6   Driving_Exp         146259 non-null  int64  \n",
      " 7   Prev_Accidents      146259 non-null  int64  \n",
      " 8   Prev_Citations      146259 non-null  int64  \n",
      " 9   Gender              146259 non-null  int32  \n",
      " 10  Marital_Status      146259 non-null  int64  \n",
      " 11  Education           146259 non-null  int64  \n",
      " 12  Sal_Range2          146259 non-null  int32  \n",
      " 13  Coverage            146259 non-null  int64  \n",
      " 14  Veh_Usage           146259 non-null  int64  \n",
      " 15  Annual_Miles_Range  146259 non-null  int32  \n",
      " 16  Vehicl_Cost_Range2  146259 non-null  int32  \n",
      " 17  Re_Quote            146259 non-null  int32  \n",
      " 18  Quoted_Premium      146259 non-null  float64\n",
      " 19  Policy_Bind         146259 non-null  int64  \n",
      "dtypes: float64(1), int32(6), int64(13)\n",
      "memory usage: 19.0 MB\n"
     ]
    }
   ],
   "source": [
    "# Displaying the dataset information\n",
    "\n",
    "autodata.info()"
   ]
  },
  {
   "cell_type": "code",
   "execution_count": 19,
   "id": "ab03ccc0",
   "metadata": {},
   "outputs": [],
   "source": [
    "# Identify the dependent and Target variables\n",
    "\n",
    "IndepVar = []\n",
    "for col in autodata.columns:\n",
    "    if col != 'Policy_Bind':\n",
    "        IndepVar.append(col)\n",
    "\n",
    "TargetVar = 'Policy_Bind'\n",
    "\n",
    "x = autodata[IndepVar]\n",
    "y = autodata[TargetVar]"
   ]
  },
  {
   "cell_type": "code",
   "execution_count": 20,
   "id": "8e226ff8",
   "metadata": {},
   "outputs": [],
   "source": [
    "#Splitting the dataset into train and test\n",
    "\n",
    "from sklearn.model_selection import train_test_split\n",
    "x_train, x_test, y_train, y_test = train_test_split(x, y, test_size = 0.30, random_state = 42) \n",
    "x_test_F1 = x_test.copy()"
   ]
  },
  {
   "cell_type": "code",
   "execution_count": 22,
   "id": "ed027a59",
   "metadata": {},
   "outputs": [],
   "source": [
    "# Scaling the features\n",
    "\n",
    "from sklearn.preprocessing import MinMaxScaler\n",
    "\n",
    "scaler = MinMaxScaler(feature_range=(0, 1))\n",
    "\n",
    "x_train_scaled = scaler.fit_transform(x_train)\n",
    "x_train = pd.DataFrame(x_train_scaled)\n",
    "\n",
    "x_test_scaled = scaler.fit_transform(x_test)\n",
    "x_test = pd.DataFrame(x_test_scaled)"
   ]
  },
  {
   "cell_type": "code",
   "execution_count": null,
   "id": "c48730db",
   "metadata": {},
   "outputs": [],
   "source": [
    "# Training the SVM algorithm with train dataset\n",
    "\n",
    "from sklearn.svm import SVC\n",
    "\n",
    "autodataSVM = SVC(C=1.0, kernel='linear', degree=3, gamma='scale', coef0=0.0, shrinking=True, \n",
    "                  probability=True, tol=0.001, cache_size=200, class_weight=None, verbose=False, \n",
    "                  max_iter=- 1, decision_function_shape='ovr', break_ties=False, random_state=None)\n",
    "\n",
    "# Train the model with train data \n",
    "\n",
    "autodataSVM = autodataSVM.fit(x_train, y_train)\n",
    "\n",
    "# Predict the model with test data set\n",
    "\n",
    "y_pred = autodataSVM.predict(x_test)\n",
    "y_pred_prob = autodataSVM.predict_proba(x_test)\n",
    "\n",
    "# Confusion matrix in sklearn\n",
    "\n",
    "from sklearn.metrics import confusion_matrix\n",
    "from sklearn.metrics import classification_report\n",
    "\n",
    "# actual values\n",
    "\n",
    "actual = y_test\n",
    "\n",
    "# predicted values\n",
    "\n",
    "predicted = y_pred\n",
    "\n",
    "# confusion matrix\n",
    "\n",
    "matrix = confusion_matrix(actual,predicted, labels=[1,0],sample_weight=None, normalize=None)\n",
    "print('Confusion matrix : \\n', matrix)\n",
    "\n",
    "# outcome values order in sklearn\n",
    "\n",
    "tp, fn, fp, tn = confusion_matrix(actual,predicted,labels=[1,0]).reshape(-1)\n",
    "print('Outcome values : \\n', tp, fn, fp, tn)\n",
    "\n",
    "# classification report for precision, recall f1-score and accuracy\n",
    "\n",
    "C_Report = classification_report(actual,predicted,labels=[1,0])\n",
    "\n",
    "print('Classification report : \\n', C_Report)\n",
    "\n",
    "# calculating the metrics\n",
    "\n",
    "sensitivity = round(tp/(tp+fn), 3);\n",
    "specificity = round(tn/(tn+fp), 3);\n",
    "accuracy = round((tp+tn)/(tp+fp+tn+fn), 3);\n",
    "balanced_accuracy = round((sensitivity+specificity)/2, 3);\n",
    "precision = round(tp/(tp+fp), 3);\n",
    "f1Score = round((2*tp/(2*tp + fp + fn)), 3);\n",
    "\n",
    "# Matthews Correlation Coefficient (MCC). Range of values of MCC lie between -1 to +1. \n",
    "# A model with a score of +1 is a perfect model and -1 is a poor model\n",
    "\n",
    "from math import sqrt\n",
    "\n",
    "mx = (tp+fp) * (tp+fn) * (tn+fp) * (tn+fn)\n",
    "MCC = round(((tp * tn) - (fp * fn)) / sqrt(mx), 3)\n",
    "\n",
    "print('Accuracy :', round(accuracy*100, 2),'%')\n",
    "print('Precision :', round(precision*100, 2),'%')\n",
    "print('Recall :', round(sensitivity*100,2), '%')\n",
    "print('F1 Score :', f1Score)\n",
    "print('Specificity or True Negative Rate :', round(specificity*100,2), '%'  )\n",
    "print('Balanced Accuracy :', round(balanced_accuracy*100, 2),'%')\n",
    "print('MCC :', MCC)\n",
    "\n",
    "# Area under ROC curve \n",
    "\n",
    "from sklearn.metrics import roc_curve, roc_auc_score\n",
    "\n",
    "print('roc_auc_score:', round(roc_auc_score(y_test, y_pred), 3))\n",
    "\n",
    "# ROC Curve\n",
    "\n",
    "from sklearn.metrics import roc_auc_score\n",
    "from sklearn.metrics import roc_curve\n",
    "logit_roc_auc = roc_auc_score(y_test, y_pred)\n",
    "fpr, tpr, thresholds = roc_curve(y_test,autodataSVM.predict_proba(x_test)[:,1])\n",
    "plt.figure()\n",
    "# plt.plot(fpr, tpr, label='Logistic Regression (area = %0.2f)' % logit_roc_auc)\n",
    "plt.plot(fpr, tpr, label= 'Classification Model' % logit_roc_auc)\n",
    "plt.plot([0, 1], [0, 1],'r--')\n",
    "plt.xlim([0.0, 1.0])\n",
    "plt.ylim([0.0, 1.05])\n",
    "plt.xlabel('False Positive Rate')\n",
    "plt.ylabel('True Positive Rate')\n",
    "plt.title('Receiver operating characteristic')\n",
    "plt.legend(loc=\"lower right\")\n",
    "plt.savefig('Log_ROC')\n",
    "plt.show() \n",
    "print('-----------------------------------------------------------------------------------------------------')"
   ]
  },
  {
   "cell_type": "code",
   "execution_count": null,
   "id": "108f679a",
   "metadata": {},
   "outputs": [],
   "source": []
  }
 ],
 "metadata": {
  "kernelspec": {
   "display_name": "Python 3 (ipykernel)",
   "language": "python",
   "name": "python3"
  },
  "language_info": {
   "codemirror_mode": {
    "name": "ipython",
    "version": 3
   },
   "file_extension": ".py",
   "mimetype": "text/x-python",
   "name": "python",
   "nbconvert_exporter": "python",
   "pygments_lexer": "ipython3",
   "version": "3.9.12"
  }
 },
 "nbformat": 4,
 "nbformat_minor": 5
}
