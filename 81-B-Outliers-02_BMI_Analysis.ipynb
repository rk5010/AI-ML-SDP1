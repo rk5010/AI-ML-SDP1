{
 "cells": [
  {
   "cell_type": "code",
   "execution_count": 29,
   "metadata": {},
   "outputs": [],
   "source": [
    "# Importing the libraries\n",
    "\n",
    "import pandas as pd\n",
    "import numpy as np \n",
    "import matplotlib.pyplot as plt\n",
    "\n",
    "%matplotlib inline\n",
    "\n",
    "# Ignore harmless warnings \n",
    "\n",
    "import warnings \n",
    "warnings.filterwarnings(\"ignore\")\n",
    "\n",
    "# Set to display all the columns in dataset\n",
    "\n",
    "pd.set_option(\"display.max_columns\", None)\n",
    "\n",
    "# Import psql to run queries \n",
    "\n",
    "import pandasql as psql"
   ]
  },
  {
   "cell_type": "code",
   "execution_count": 31,
   "metadata": {},
   "outputs": [
    {
     "data": {
      "text/html": [
       "<div>\n",
       "<style scoped>\n",
       "    .dataframe tbody tr th:only-of-type {\n",
       "        vertical-align: middle;\n",
       "    }\n",
       "\n",
       "    .dataframe tbody tr th {\n",
       "        vertical-align: top;\n",
       "    }\n",
       "\n",
       "    .dataframe thead th {\n",
       "        text-align: right;\n",
       "    }\n",
       "</style>\n",
       "<table border=\"1\" class=\"dataframe\">\n",
       "  <thead>\n",
       "    <tr style=\"text-align: right;\">\n",
       "      <th></th>\n",
       "      <th>Height_M</th>\n",
       "      <th>Weight_kg</th>\n",
       "      <th>Fat_age</th>\n",
       "      <th>BMI</th>\n",
       "    </tr>\n",
       "  </thead>\n",
       "  <tbody>\n",
       "    <tr>\n",
       "      <th>0</th>\n",
       "      <td>1.60</td>\n",
       "      <td>49.44</td>\n",
       "      <td>23.9</td>\n",
       "      <td>19.31</td>\n",
       "    </tr>\n",
       "    <tr>\n",
       "      <th>1</th>\n",
       "      <td>1.65</td>\n",
       "      <td>62.60</td>\n",
       "      <td>28.8</td>\n",
       "      <td>22.96</td>\n",
       "    </tr>\n",
       "    <tr>\n",
       "      <th>2</th>\n",
       "      <td>1.65</td>\n",
       "      <td>75.75</td>\n",
       "      <td>32.4</td>\n",
       "      <td>27.79</td>\n",
       "    </tr>\n",
       "    <tr>\n",
       "      <th>3</th>\n",
       "      <td>1.53</td>\n",
       "      <td>48.99</td>\n",
       "      <td>25.8</td>\n",
       "      <td>20.92</td>\n",
       "    </tr>\n",
       "    <tr>\n",
       "      <th>4</th>\n",
       "      <td>1.45</td>\n",
       "      <td>43.09</td>\n",
       "      <td>22.5</td>\n",
       "      <td>20.38</td>\n",
       "    </tr>\n",
       "  </tbody>\n",
       "</table>\n",
       "</div>"
      ],
      "text/plain": [
       "   Height_M  Weight_kg  Fat_age    BMI\n",
       "0      1.60      49.44     23.9  19.31\n",
       "1      1.65      62.60     28.8  22.96\n",
       "2      1.65      75.75     32.4  27.79\n",
       "3      1.53      48.99     25.8  20.92\n",
       "4      1.45      43.09     22.5  20.38"
      ]
     },
     "execution_count": 31,
     "metadata": {},
     "output_type": "execute_result"
    }
   ],
   "source": [
    "# Load the general dataset\n",
    "\n",
    "BMIData = pd.read_csv(r\"C:\\Users\\Admin\\Downloads\\Raju Sir DLS\\BMI_Analysis_V1.1.csv\", header=0)\n",
    "\n",
    "# Copy the data to backup file\n",
    "\n",
    "BMIData_BK = BMIData.copy()\n",
    "\n",
    "# Display first 5 records\n",
    "\n",
    "BMIData.head()"
   ]
  },
  {
   "cell_type": "code",
   "execution_count": 32,
   "metadata": {},
   "outputs": [
    {
     "name": "stdout",
     "output_type": "stream",
     "text": [
      "<class 'pandas.core.frame.DataFrame'>\n",
      "RangeIndex: 92 entries, 0 to 91\n",
      "Data columns (total 4 columns):\n",
      " #   Column     Non-Null Count  Dtype  \n",
      "---  ------     --------------  -----  \n",
      " 0   Height_M   92 non-null     float64\n",
      " 1   Weight_kg  92 non-null     float64\n",
      " 2   Fat_age    92 non-null     float64\n",
      " 3   BMI        92 non-null     float64\n",
      "dtypes: float64(4)\n",
      "memory usage: 3.0 KB\n"
     ]
    }
   ],
   "source": [
    "BMIData.info()"
   ]
  },
  {
   "cell_type": "code",
   "execution_count": 33,
   "metadata": {},
   "outputs": [
    {
     "data": {
      "text/plain": [
       "(92, 4)"
      ]
     },
     "execution_count": 33,
     "metadata": {},
     "output_type": "execute_result"
    }
   ],
   "source": [
    "# Display the shape of the dataset\n",
    "\n",
    "BMIData.shape"
   ]
  },
  {
   "cell_type": "code",
   "execution_count": 34,
   "metadata": {},
   "outputs": [
    {
     "data": {
      "text/html": [
       "<div>\n",
       "<style scoped>\n",
       "    .dataframe tbody tr th:only-of-type {\n",
       "        vertical-align: middle;\n",
       "    }\n",
       "\n",
       "    .dataframe tbody tr th {\n",
       "        vertical-align: top;\n",
       "    }\n",
       "\n",
       "    .dataframe thead th {\n",
       "        text-align: right;\n",
       "    }\n",
       "</style>\n",
       "<table border=\"1\" class=\"dataframe\">\n",
       "  <thead>\n",
       "    <tr style=\"text-align: right;\">\n",
       "      <th></th>\n",
       "      <th>count</th>\n",
       "      <th>mean</th>\n",
       "      <th>std</th>\n",
       "      <th>min</th>\n",
       "      <th>25%</th>\n",
       "      <th>50%</th>\n",
       "      <th>75%</th>\n",
       "      <th>max</th>\n",
       "    </tr>\n",
       "  </thead>\n",
       "  <tbody>\n",
       "    <tr>\n",
       "      <th>Height_M</th>\n",
       "      <td>92.0</td>\n",
       "      <td>1.511522</td>\n",
       "      <td>0.074035</td>\n",
       "      <td>1.33</td>\n",
       "      <td>1.4600</td>\n",
       "      <td>1.500</td>\n",
       "      <td>1.570</td>\n",
       "      <td>1.66</td>\n",
       "    </tr>\n",
       "    <tr>\n",
       "      <th>Weight_kg</th>\n",
       "      <td>92.0</td>\n",
       "      <td>47.865000</td>\n",
       "      <td>13.077016</td>\n",
       "      <td>29.26</td>\n",
       "      <td>38.9525</td>\n",
       "      <td>45.475</td>\n",
       "      <td>52.705</td>\n",
       "      <td>87.54</td>\n",
       "    </tr>\n",
       "    <tr>\n",
       "      <th>Fat_age</th>\n",
       "      <td>92.0</td>\n",
       "      <td>26.961957</td>\n",
       "      <td>7.142888</td>\n",
       "      <td>15.60</td>\n",
       "      <td>21.0750</td>\n",
       "      <td>25.500</td>\n",
       "      <td>31.975</td>\n",
       "      <td>46.00</td>\n",
       "    </tr>\n",
       "    <tr>\n",
       "      <th>BMI</th>\n",
       "      <td>92.0</td>\n",
       "      <td>20.705435</td>\n",
       "      <td>4.325066</td>\n",
       "      <td>14.99</td>\n",
       "      <td>17.7075</td>\n",
       "      <td>19.480</td>\n",
       "      <td>22.735</td>\n",
       "      <td>34.46</td>\n",
       "    </tr>\n",
       "  </tbody>\n",
       "</table>\n",
       "</div>"
      ],
      "text/plain": [
       "           count       mean        std    min      25%     50%     75%    max\n",
       "Height_M    92.0   1.511522   0.074035   1.33   1.4600   1.500   1.570   1.66\n",
       "Weight_kg   92.0  47.865000  13.077016  29.26  38.9525  45.475  52.705  87.54\n",
       "Fat_age     92.0  26.961957   7.142888  15.60  21.0750  25.500  31.975  46.00\n",
       "BMI         92.0  20.705435   4.325066  14.99  17.7075  19.480  22.735  34.46"
      ]
     },
     "execution_count": 34,
     "metadata": {},
     "output_type": "execute_result"
    }
   ],
   "source": [
    "# Display \"Descriptive Statistical Analysis\"\n",
    "\n",
    "BMIData.describe().T"
   ]
  },
  {
   "cell_type": "code",
   "execution_count": 35,
   "metadata": {},
   "outputs": [
    {
     "data": {
      "image/png": "[encoded data removed]",
      "text/plain": [
       "<Figure size 432x288 with 1 Axes>"
      ]
     },
     "metadata": {
      "needs_background": "light"
     },
     "output_type": "display_data"
    }
   ],
   "source": [
    "# Plot Histogram with 'Height'\n",
    "\n",
    "plt.hist(BMIData.Height_M, bins=20, rwidth=0.8)\n",
    "plt.xlabel('Height (Metres)')\n",
    "plt.ylabel('Count')\n",
    "plt.show()"
   ]
  },
  {
   "cell_type": "code",
   "execution_count": 36,
   "metadata": {},
   "outputs": [
    {
     "data": {
      "text/plain": [
       "[<matplotlib.lines.Line2D at 0x19cd33acc40>]"
      ]
     },
     "execution_count": 36,
     "metadata": {},
     "output_type": "execute_result"
    },
    {
     "data": {
      "image/png": "[encoded data removed]",
      "text/plain": [
       "<Figure size 432x288 with 1 Axes>"
      ]
     },
     "metadata": {
      "needs_background": "light"
     },
     "output_type": "display_data"
    }
   ],
   "source": [
    "# Gaussian distribution (also known as normal distribution) is a bell-shaped curve\n",
    "\n",
    "from scipy.stats import norm\n",
    "\n",
    "plt.hist(BMIData.Height_M, bins=20, rwidth=0.8, density=True)\n",
    "plt.xlabel('Height (Metres)')\n",
    "plt.ylabel('Count')\n",
    "\n",
    "rng = np.arange(BMIData.Height_M.min(), BMIData.Height_M.max(), 0.1)\n",
    "plt.plot(rng, norm.pdf(rng, BMIData.Height_M.mean(),BMIData.Height_M.std()))"
   ]
  },
  {
   "cell_type": "code",
   "execution_count": 37,
   "metadata": {},
   "outputs": [
    {
     "data": {
      "image/png": "[encoded data removed]",
      "text/plain": [
       "<Figure size 432x288 with 1 Axes>"
      ]
     },
     "metadata": {
      "needs_background": "light"
     },
     "output_type": "display_data"
    }
   ],
   "source": [
    "# Plot Histogram with 'Weight'\n",
    "\n",
    "plt.hist(BMIData.Weight_kg, bins=20, rwidth=0.8)\n",
    "plt.xlabel('Weight (Kgs)')\n",
    "plt.ylabel('Count')\n",
    "plt.show()"
   ]
  },
  {
   "cell_type": "code",
   "execution_count": 38,
   "metadata": {},
   "outputs": [
    {
     "data": {
      "text/plain": [
       "[<matplotlib.lines.Line2D at 0x19cd457f460>]"
      ]
     },
     "execution_count": 38,
     "metadata": {},
     "output_type": "execute_result"
    },
    {
     "data": {
      "image/png": "[encoded data removed]",
      "text/plain": [
       "<Figure size 432x288 with 1 Axes>"
      ]
     },
     "metadata": {
      "needs_background": "light"
     },
     "output_type": "display_data"
    }
   ],
   "source": [
    "# Gaussian distribution (also known as normal distribution) is a bell-shaped curve\n",
    "\n",
    "from scipy.stats import norm\n",
    "\n",
    "plt.hist(BMIData.Weight_kg, bins=20, rwidth=0.8, density=True)\n",
    "plt.xlabel('Weight (Kgs)')\n",
    "plt.ylabel('Count')\n",
    "\n",
    "rng = np.arange(BMIData.Weight_kg.min(), BMIData.Weight_kg.max(), 0.1)\n",
    "plt.plot(rng, norm.pdf(rng, BMIData.Weight_kg.mean(),BMIData.Weight_kg.std()))"
   ]
  },
  {
   "cell_type": "code",
   "execution_count": 39,
   "metadata": {},
   "outputs": [
    {
     "data": {
      "image/png": "[encoded data removed]",
      "text/plain": [
       "<Figure size 432x288 with 1 Axes>"
      ]
     },
     "metadata": {
      "needs_background": "light"
     },
     "output_type": "display_data"
    }
   ],
   "source": [
    "# Plot Histogram with 'Fat %'\n",
    "\n",
    "plt.hist(BMIData.Fat_age, bins=20, rwidth=0.8)\n",
    "plt.xlabel('Fat (%age)')\n",
    "plt.ylabel('Count')\n",
    "plt.show()"
   ]
  },
  {
   "cell_type": "code",
   "execution_count": 40,
   "metadata": {},
   "outputs": [
    {
     "data": {
      "text/plain": [
       "[<matplotlib.lines.Line2D at 0x19cd4e83370>]"
      ]
     },
     "execution_count": 40,
     "metadata": {},
     "output_type": "execute_result"
    },
    {
     "data": {
      "image/png": "[encoded data removed]",
      "text/plain": [
       "<Figure size 432x288 with 1 Axes>"
      ]
     },
     "metadata": {
      "needs_background": "light"
     },
     "output_type": "display_data"
    }
   ],
   "source": [
    "# Gaussian distribution (also known as normal distribution) is a bell-shaped curve\n",
    "\n",
    "from scipy.stats import norm\n",
    "\n",
    "plt.hist(BMIData.Fat_age, bins=20, rwidth=0.8, density=True)\n",
    "plt.xlabel('Fat (%age)')\n",
    "plt.ylabel('Count')\n",
    "\n",
    "rng = np.arange(BMIData.Fat_age.min(), BMIData.Fat_age.max(), 0.1)\n",
    "plt.plot(rng, norm.pdf(rng, BMIData.Fat_age.mean(),BMIData.Fat_age.std()))"
   ]
  },
  {
   "cell_type": "code",
   "execution_count": 41,
   "metadata": {},
   "outputs": [
    {
     "data": {
      "image/png": "[encoded data removed]",
      "text/plain": [
       "<Figure size 432x288 with 1 Axes>"
      ]
     },
     "metadata": {
      "needs_background": "light"
     },
     "output_type": "display_data"
    }
   ],
   "source": [
    "# Plot Histogram with 'BMI'\n",
    "\n",
    "plt.hist(BMIData.BMI, bins=20, rwidth=0.8)\n",
    "plt.xlabel('BMI (scale)')\n",
    "plt.ylabel('Count')\n",
    "plt.show()"
   ]
  },
  {
   "cell_type": "code",
   "execution_count": 42,
   "metadata": {},
   "outputs": [
    {
     "data": {
      "text/plain": [
       "[<matplotlib.lines.Line2D at 0x19cd64e9be0>]"
      ]
     },
     "execution_count": 42,
     "metadata": {},
     "output_type": "execute_result"
    },
    {
     "data": {
      "image/png": "[encoded data removed]",
      "text/plain": [
       "<Figure size 432x288 with 1 Axes>"
      ]
     },
     "metadata": {
      "needs_background": "light"
     },
     "output_type": "display_data"
    }
   ],
   "source": [
    "# Gaussian distribution (also known as normal distribution) is a bell-shaped curve\n",
    "\n",
    "from scipy.stats import norm\n",
    "\n",
    "plt.hist(BMIData.Fat_age, bins=20, rwidth=0.8, density=True)\n",
    "plt.xlabel('BMI (scale)')\n",
    "plt.ylabel('Count')\n",
    "\n",
    "rng = np.arange(BMIData.BMI.min(), BMIData.BMI.max(), 0.1)\n",
    "plt.plot(rng, norm.pdf(rng, BMIData.BMI.mean(),BMIData.BMI.std()))"
   ]
  },
  {
   "cell_type": "code",
   "execution_count": 43,
   "metadata": {},
   "outputs": [
    {
     "name": "stdout",
     "output_type": "stream",
     "text": [
      "<class 'pandas.core.frame.DataFrame'>\n",
      "RangeIndex: 92 entries, 0 to 91\n",
      "Data columns (total 4 columns):\n",
      " #   Column     Non-Null Count  Dtype  \n",
      "---  ------     --------------  -----  \n",
      " 0   Height_M   92 non-null     float64\n",
      " 1   Weight_kg  92 non-null     float64\n",
      " 2   Fat_age    92 non-null     float64\n",
      " 3   BMI        92 non-null     float64\n",
      "dtypes: float64(4)\n",
      "memory usage: 3.0 KB\n"
     ]
    }
   ],
   "source": [
    "BMIData.info()"
   ]
  },
  {
   "cell_type": "code",
   "execution_count": 44,
   "metadata": {},
   "outputs": [],
   "source": [
    "# Calculate the Lower Limit and Upper Limit of each variable\n",
    "\n",
    "hll = round(BMIData.Height_M.mean() - 3 * BMIData.Height_M.std(), 3)\n",
    "hul = round(BMIData.Height_M.mean() + 3 * BMIData.Height_M.std(),3)\n",
    "wll = round(BMIData.Weight_kg.mean() - 3 * BMIData.Weight_kg.std(), 3)\n",
    "wul = round(BMIData.Weight_kg.mean() + 3 * BMIData.Weight_kg.std(), 3)\n",
    "fll = round(BMIData.Fat_age.mean() - 3 * BMIData.Fat_age.std(), 3)\n",
    "ful = round(BMIData.Fat_age.mean() + 3 * BMIData.Fat_age.std(),3)\n",
    "bll = round(BMIData.BMI.mean() - 3 * BMIData.BMI.std(), 3)\n",
    "bul = round(BMIData.BMI.mean() + 3 * BMIData.BMI.std(),3)"
   ]
  },
  {
   "cell_type": "code",
   "execution_count": 45,
   "metadata": {},
   "outputs": [
    {
     "data": {
      "text/html": [
       "<div>\n",
       "<style scoped>\n",
       "    .dataframe tbody tr th:only-of-type {\n",
       "        vertical-align: middle;\n",
       "    }\n",
       "\n",
       "    .dataframe tbody tr th {\n",
       "        vertical-align: top;\n",
       "    }\n",
       "\n",
       "    .dataframe thead th {\n",
       "        text-align: right;\n",
       "    }\n",
       "</style>\n",
       "<table border=\"1\" class=\"dataframe\">\n",
       "  <thead>\n",
       "    <tr style=\"text-align: right;\">\n",
       "      <th></th>\n",
       "      <th>Height_M</th>\n",
       "      <th>Weight_kg</th>\n",
       "      <th>Fat_age</th>\n",
       "      <th>BMI</th>\n",
       "    </tr>\n",
       "  </thead>\n",
       "  <tbody>\n",
       "    <tr>\n",
       "      <th>0</th>\n",
       "      <td>1.60</td>\n",
       "      <td>49.44</td>\n",
       "      <td>23.9</td>\n",
       "      <td>19.31</td>\n",
       "    </tr>\n",
       "    <tr>\n",
       "      <th>1</th>\n",
       "      <td>1.65</td>\n",
       "      <td>62.60</td>\n",
       "      <td>28.8</td>\n",
       "      <td>22.96</td>\n",
       "    </tr>\n",
       "    <tr>\n",
       "      <th>2</th>\n",
       "      <td>1.65</td>\n",
       "      <td>75.75</td>\n",
       "      <td>32.4</td>\n",
       "      <td>27.79</td>\n",
       "    </tr>\n",
       "    <tr>\n",
       "      <th>3</th>\n",
       "      <td>1.53</td>\n",
       "      <td>48.99</td>\n",
       "      <td>25.8</td>\n",
       "      <td>20.92</td>\n",
       "    </tr>\n",
       "    <tr>\n",
       "      <th>4</th>\n",
       "      <td>1.45</td>\n",
       "      <td>43.09</td>\n",
       "      <td>22.5</td>\n",
       "      <td>20.38</td>\n",
       "    </tr>\n",
       "  </tbody>\n",
       "</table>\n",
       "</div>"
      ],
      "text/plain": [
       "   Height_M  Weight_kg  Fat_age    BMI\n",
       "0      1.60      49.44     23.9  19.31\n",
       "1      1.65      62.60     28.8  22.96\n",
       "2      1.65      75.75     32.4  27.79\n",
       "3      1.53      48.99     25.8  20.92\n",
       "4      1.45      43.09     22.5  20.38"
      ]
     },
     "execution_count": 45,
     "metadata": {},
     "output_type": "execute_result"
    }
   ],
   "source": [
    "# Eliminate the outliers\n",
    "\n",
    "BMIData_new = BMIData[(BMIData.Height_M > hll) & (BMIData.Height_M < hul)]\n",
    "BMIData_new = BMIData_new[(BMIData_new.Weight_kg > wll) & (BMIData_new.Weight_kg < wul)]\n",
    "BMIData_new = BMIData_new[(BMIData_new.Fat_age > fll) & (BMIData_new.Fat_age < ful)]\n",
    "BMIData_new = BMIData_new[(BMIData_new.BMI > bll) & (BMIData_new.BMI < bul)]\n",
    "BMIData_new.head()"
   ]
  },
  {
   "cell_type": "code",
   "execution_count": 46,
   "metadata": {},
   "outputs": [
    {
     "data": {
      "text/plain": [
       "(91, 4)"
      ]
     },
     "execution_count": 46,
     "metadata": {},
     "output_type": "execute_result"
    }
   ],
   "source": [
    "BMIData_new.shape"
   ]
  },
  {
   "cell_type": "code",
   "execution_count": 47,
   "metadata": {},
   "outputs": [
    {
     "data": {
      "text/plain": [
       "(92, 4)"
      ]
     },
     "execution_count": 47,
     "metadata": {},
     "output_type": "execute_result"
    }
   ],
   "source": [
    "BMIData.shape"
   ]
  },
  {
   "cell_type": "code",
   "execution_count": 48,
   "metadata": {},
   "outputs": [
    {
     "data": {
      "text/plain": [
       "1"
      ]
     },
     "execution_count": 48,
     "metadata": {},
     "output_type": "execute_result"
    }
   ],
   "source": [
    "BMIData.shape[0] - BMIData_new.shape[0]"
   ]
  },
  {
   "cell_type": "markdown",
   "metadata": {},
   "source": [
    "# Box Plot Method"
   ]
  },
  {
   "cell_type": "code",
   "execution_count": 49,
   "metadata": {},
   "outputs": [
    {
     "data": {
      "text/plain": [
       "<AxesSubplot:xlabel='Height_M'>"
      ]
     },
     "execution_count": 49,
     "metadata": {},
     "output_type": "execute_result"
    },
    {
     "data": {
      "image/png": "[encoded data removed]",
      "text/plain": [
       "<Figure size 432x288 with 1 Axes>"
      ]
     },
     "metadata": {
      "needs_background": "light"
     },
     "output_type": "display_data"
    }
   ],
   "source": [
    "# Display the box plot to show the outliers\n",
    "\n",
    "import seaborn as sns\n",
    "\n",
    "sns.boxplot(x=BMIData[\"Height_M\"])"
   ]
  },
  {
   "cell_type": "code",
   "execution_count": 50,
   "metadata": {},
   "outputs": [
    {
     "name": "stdout",
     "output_type": "stream",
     "text": [
      "<class 'pandas.core.frame.DataFrame'>\n",
      "RangeIndex: 92 entries, 0 to 91\n",
      "Data columns (total 4 columns):\n",
      " #   Column     Non-Null Count  Dtype  \n",
      "---  ------     --------------  -----  \n",
      " 0   Height_M   92 non-null     float64\n",
      " 1   Weight_kg  92 non-null     float64\n",
      " 2   Fat_age    92 non-null     float64\n",
      " 3   BMI        92 non-null     float64\n",
      "dtypes: float64(4)\n",
      "memory usage: 3.0 KB\n"
     ]
    }
   ],
   "source": [
    "BMIData.info()"
   ]
  },
  {
   "cell_type": "code",
   "execution_count": 51,
   "metadata": {},
   "outputs": [
    {
     "name": "stdout",
     "output_type": "stream",
     "text": [
      "1.735\n",
      "1.295\n",
      "73.334\n",
      "18.324\n"
     ]
    }
   ],
   "source": [
    "# Calculating the Q1, Q3 and Inter quartile range (IQR) for Height\n",
    "\n",
    "H_first_quantile = BMIData[\"Height_M\"].quantile(.25)\n",
    "H_third_quantile = BMIData[\"Height_M\"].quantile(.75)\n",
    "H_IQR = H_third_quantile - H_first_quantile\n",
    "\n",
    "# Calculate the Upper bound\n",
    "\n",
    "H_Upper_bound = round(H_third_quantile + 1.5 * H_IQR, 3)\n",
    "print(H_Upper_bound)\n",
    "\n",
    "# Calculate the lower bound\n",
    "\n",
    "H_Lower_bound = round(H_first_quantile - 1.5 * H_IQR, 3)\n",
    "print(H_Lower_bound)\n",
    "\n",
    "# Calculating the Q1, Q3 and Inter quartile range (IQR) for Weight\n",
    "\n",
    "W_first_quantile = BMIData[\"Weight_kg\"].quantile(.25)\n",
    "W_third_quantile = BMIData[\"Weight_kg\"].quantile(.75)\n",
    "W_IQR = W_third_quantile - W_first_quantile\n",
    "\n",
    "# Calculate the Upper bound\n",
    "\n",
    "W_Upper_bound = round(W_third_quantile + 1.5 * W_IQR, 3)\n",
    "print(W_Upper_bound)\n",
    "\n",
    "# Calculate the lower bound\n",
    "\n",
    "W_Lower_bound = round(W_first_quantile - 1.5 * W_IQR, 3)\n",
    "print(W_Lower_bound)\n",
    "\n"
   ]
  },
  {
   "cell_type": "code",
   "execution_count": 52,
   "metadata": {},
   "outputs": [],
   "source": [
    "BMIData_new = BMIData[(BMIData.Height_M > H_Lower_bound) & (BMIData.Height_M < H_Upper_bound)]\n",
    "BMIData_new = BMIData_new[(BMIData_new.Weight_kg > H_Lower_bound) & (BMIData_new.Weight_kg < H_Upper_bound)]"
   ]
  },
  {
   "cell_type": "code",
   "execution_count": 58,
   "metadata": {},
   "outputs": [
    {
     "name": "stdout",
     "output_type": "stream",
     "text": [
      "<class 'pandas.core.frame.DataFrame'>\n",
      "Int64Index: 0 entries\n",
      "Data columns (total 4 columns):\n",
      " #   Column     Non-Null Count  Dtype  \n",
      "---  ------     --------------  -----  \n",
      " 0   Height_M   0 non-null      float64\n",
      " 1   Weight_kg  0 non-null      float64\n",
      " 2   Fat_age    0 non-null      float64\n",
      " 3   BMI        0 non-null      float64\n",
      "dtypes: float64(4)\n",
      "memory usage: 0.0 bytes\n"
     ]
    }
   ],
   "source": [
    "BMIData_new.info()"
   ]
  },
  {
   "cell_type": "code",
   "execution_count": 53,
   "metadata": {},
   "outputs": [],
   "source": [
    "# Identify the Independent and Target variables\n",
    "\n",
    "IndepVar = []\n",
    "for col in BMIData_new.columns:\n",
    "    if col != 'BMI':\n",
    "        IndepVar.append(col)\n",
    "\n",
    "TargetVar = 'BMI'\n",
    "\n",
    "x = BMIData_new[IndepVar]\n",
    "y = BMIData_new[TargetVar]"
   ]
  },
  {
   "cell_type": "code",
   "execution_count": 54,
   "metadata": {},
   "outputs": [
    {
     "data": {
      "text/plain": [
       "0"
      ]
     },
     "execution_count": 54,
     "metadata": {},
     "output_type": "execute_result"
    }
   ],
   "source": [
    "len(BMIData_new)"
   ]
  },
  {
   "cell_type": "code",
   "execution_count": 57,
   "metadata": {},
   "outputs": [
    {
     "name": "stdout",
     "output_type": "stream",
     "text": [
      "<class 'pandas.core.frame.DataFrame'>\n",
      "Int64Index: 0 entries\n",
      "Data columns (total 4 columns):\n",
      " #   Column     Non-Null Count  Dtype  \n",
      "---  ------     --------------  -----  \n",
      " 0   Height_M   0 non-null      float64\n",
      " 1   Weight_kg  0 non-null      float64\n",
      " 2   Fat_age    0 non-null      float64\n",
      " 3   BMI        0 non-null      float64\n",
      "dtypes: float64(4)\n",
      "memory usage: 0.0 bytes\n"
     ]
    }
   ],
   "source": [
    "BMIData_new.info()"
   ]
  },
  {
   "cell_type": "code",
   "execution_count": 55,
   "metadata": {},
   "outputs": [
    {
     "data": {
      "text/html": [
       "<div>\n",
       "<style scoped>\n",
       "    .dataframe tbody tr th:only-of-type {\n",
       "        vertical-align: middle;\n",
       "    }\n",
       "\n",
       "    .dataframe tbody tr th {\n",
       "        vertical-align: top;\n",
       "    }\n",
       "\n",
       "    .dataframe thead th {\n",
       "        text-align: right;\n",
       "    }\n",
       "</style>\n",
       "<table border=\"1\" class=\"dataframe\">\n",
       "  <thead>\n",
       "    <tr style=\"text-align: right;\">\n",
       "      <th></th>\n",
       "      <th>Height_M</th>\n",
       "      <th>Weight_kg</th>\n",
       "      <th>Fat_age</th>\n",
       "    </tr>\n",
       "  </thead>\n",
       "  <tbody>\n",
       "  </tbody>\n",
       "</table>\n",
       "</div>"
      ],
      "text/plain": [
       "Empty DataFrame\n",
       "Columns: [Height_M, Weight_kg, Fat_age]\n",
       "Index: []"
      ]
     },
     "execution_count": 55,
     "metadata": {},
     "output_type": "execute_result"
    }
   ],
   "source": [
    "x"
   ]
  },
  {
   "cell_type": "code",
   "execution_count": 46,
   "metadata": {},
   "outputs": [
    {
     "ename": "ValueError",
     "evalue": "With n_samples=0, test_size=0.3 and train_size=0.7, the resulting train set will be empty. Adjust any of the aforementioned parameters.",
     "output_type": "error",
     "traceback": [
      "\u001b[1;31m---------------------------------------------------------------------------\u001b[0m",
      "\u001b[1;31mValueError\u001b[0m                                Traceback (most recent call last)",
      "Input \u001b[1;32mIn [46]\u001b[0m, in \u001b[0;36m<cell line: 5>\u001b[1;34m()\u001b[0m\n\u001b[0;32m      1\u001b[0m \u001b[38;5;66;03m# Splitting the dataset into train and test \u001b[39;00m\n\u001b[0;32m      3\u001b[0m \u001b[38;5;28;01mfrom\u001b[39;00m \u001b[38;5;21;01msklearn\u001b[39;00m\u001b[38;5;21;01m.\u001b[39;00m\u001b[38;5;21;01mmodel_selection\u001b[39;00m \u001b[38;5;28;01mimport\u001b[39;00m train_test_split\n\u001b[1;32m----> 5\u001b[0m x_train, x_test, y_train, y_test \u001b[38;5;241m=\u001b[39m \u001b[43mtrain_test_split\u001b[49m\u001b[43m(\u001b[49m\u001b[43mx\u001b[49m\u001b[43m,\u001b[49m\u001b[43m \u001b[49m\u001b[43my\u001b[49m\u001b[43m,\u001b[49m\u001b[43mtrain_size\u001b[49m\u001b[43m \u001b[49m\u001b[38;5;241;43m=\u001b[39;49m\u001b[43m \u001b[49m\u001b[38;5;241;43m0.7\u001b[39;49m\u001b[43m,\u001b[49m\u001b[43m \u001b[49m\u001b[43mtest_size\u001b[49m\u001b[43m \u001b[49m\u001b[38;5;241;43m=\u001b[39;49m\u001b[43m \u001b[49m\u001b[38;5;241;43m0.30\u001b[39;49m\u001b[43m,\u001b[49m\u001b[43m \u001b[49m\u001b[43mrandom_state\u001b[49m\u001b[43m \u001b[49m\u001b[38;5;241;43m=\u001b[39;49m\u001b[43m \u001b[49m\u001b[38;5;241;43m42\u001b[39;49m\u001b[43m)\u001b[49m\n",
      "File \u001b[1;32m~\\anaconda3\\lib\\site-packages\\sklearn\\model_selection\\_split.py:2420\u001b[0m, in \u001b[0;36mtrain_test_split\u001b[1;34m(test_size, train_size, random_state, shuffle, stratify, *arrays)\u001b[0m\n\u001b[0;32m   2417\u001b[0m arrays \u001b[38;5;241m=\u001b[39m indexable(\u001b[38;5;241m*\u001b[39marrays)\n\u001b[0;32m   2419\u001b[0m n_samples \u001b[38;5;241m=\u001b[39m _num_samples(arrays[\u001b[38;5;241m0\u001b[39m])\n\u001b[1;32m-> 2420\u001b[0m n_train, n_test \u001b[38;5;241m=\u001b[39m \u001b[43m_validate_shuffle_split\u001b[49m\u001b[43m(\u001b[49m\n\u001b[0;32m   2421\u001b[0m \u001b[43m    \u001b[49m\u001b[43mn_samples\u001b[49m\u001b[43m,\u001b[49m\u001b[43m \u001b[49m\u001b[43mtest_size\u001b[49m\u001b[43m,\u001b[49m\u001b[43m \u001b[49m\u001b[43mtrain_size\u001b[49m\u001b[43m,\u001b[49m\u001b[43m \u001b[49m\u001b[43mdefault_test_size\u001b[49m\u001b[38;5;241;43m=\u001b[39;49m\u001b[38;5;241;43m0.25\u001b[39;49m\n\u001b[0;32m   2422\u001b[0m \u001b[43m\u001b[49m\u001b[43m)\u001b[49m\n\u001b[0;32m   2424\u001b[0m \u001b[38;5;28;01mif\u001b[39;00m shuffle \u001b[38;5;129;01mis\u001b[39;00m \u001b[38;5;28;01mFalse\u001b[39;00m:\n\u001b[0;32m   2425\u001b[0m     \u001b[38;5;28;01mif\u001b[39;00m stratify \u001b[38;5;129;01mis\u001b[39;00m \u001b[38;5;129;01mnot\u001b[39;00m \u001b[38;5;28;01mNone\u001b[39;00m:\n",
      "File \u001b[1;32m~\\anaconda3\\lib\\site-packages\\sklearn\\model_selection\\_split.py:2098\u001b[0m, in \u001b[0;36m_validate_shuffle_split\u001b[1;34m(n_samples, test_size, train_size, default_test_size)\u001b[0m\n\u001b[0;32m   2095\u001b[0m n_train, n_test \u001b[38;5;241m=\u001b[39m \u001b[38;5;28mint\u001b[39m(n_train), \u001b[38;5;28mint\u001b[39m(n_test)\n\u001b[0;32m   2097\u001b[0m \u001b[38;5;28;01mif\u001b[39;00m n_train \u001b[38;5;241m==\u001b[39m \u001b[38;5;241m0\u001b[39m:\n\u001b[1;32m-> 2098\u001b[0m     \u001b[38;5;28;01mraise\u001b[39;00m \u001b[38;5;167;01mValueError\u001b[39;00m(\n\u001b[0;32m   2099\u001b[0m         \u001b[38;5;124m\"\u001b[39m\u001b[38;5;124mWith n_samples=\u001b[39m\u001b[38;5;132;01m{}\u001b[39;00m\u001b[38;5;124m, test_size=\u001b[39m\u001b[38;5;132;01m{}\u001b[39;00m\u001b[38;5;124m and train_size=\u001b[39m\u001b[38;5;132;01m{}\u001b[39;00m\u001b[38;5;124m, the \u001b[39m\u001b[38;5;124m\"\u001b[39m\n\u001b[0;32m   2100\u001b[0m         \u001b[38;5;124m\"\u001b[39m\u001b[38;5;124mresulting train set will be empty. Adjust any of the \u001b[39m\u001b[38;5;124m\"\u001b[39m\n\u001b[0;32m   2101\u001b[0m         \u001b[38;5;124m\"\u001b[39m\u001b[38;5;124maforementioned parameters.\u001b[39m\u001b[38;5;124m\"\u001b[39m\u001b[38;5;241m.\u001b[39mformat(n_samples, test_size, train_size)\n\u001b[0;32m   2102\u001b[0m     )\n\u001b[0;32m   2104\u001b[0m \u001b[38;5;28;01mreturn\u001b[39;00m n_train, n_test\n",
      "\u001b[1;31mValueError\u001b[0m: With n_samples=0, test_size=0.3 and train_size=0.7, the resulting train set will be empty. Adjust any of the aforementioned parameters."
     ]
    }
   ],
   "source": [
    "# Splitting the dataset into train and test \n",
    "\n",
    "from sklearn.model_selection import train_test_split\n",
    "\n",
    "x_train, x_test, y_train, y_test = train_test_split(x, y,train_size = 0.7, test_size = 0.30, random_state = 42)"
   ]
  },
  {
   "cell_type": "code",
   "execution_count": 44,
   "metadata": {},
   "outputs": [
    {
     "ename": "NameError",
     "evalue": "name 'x_train' is not defined",
     "output_type": "error",
     "traceback": [
      "\u001b[1;31m---------------------------------------------------------------------------\u001b[0m",
      "\u001b[1;31mNameError\u001b[0m                                 Traceback (most recent call last)",
      "Input \u001b[1;32mIn [44]\u001b[0m, in \u001b[0;36m<cell line: 7>\u001b[1;34m()\u001b[0m\n\u001b[0;32m      3\u001b[0m \u001b[38;5;28;01mfrom\u001b[39;00m \u001b[38;5;21;01msklearn\u001b[39;00m\u001b[38;5;21;01m.\u001b[39;00m\u001b[38;5;21;01mpreprocessing\u001b[39;00m \u001b[38;5;28;01mimport\u001b[39;00m MinMaxScaler\n\u001b[0;32m      5\u001b[0m mmscaler \u001b[38;5;241m=\u001b[39m MinMaxScaler(feature_range\u001b[38;5;241m=\u001b[39m(\u001b[38;5;241m0\u001b[39m, \u001b[38;5;241m1\u001b[39m))\n\u001b[1;32m----> 7\u001b[0m x_train \u001b[38;5;241m=\u001b[39m mmscaler\u001b[38;5;241m.\u001b[39mfit_transform(\u001b[43mx_train\u001b[49m)\n\u001b[0;32m      8\u001b[0m x_train \u001b[38;5;241m=\u001b[39m pd\u001b[38;5;241m.\u001b[39mDataFrame(x_train)\n\u001b[0;32m     10\u001b[0m x_test \u001b[38;5;241m=\u001b[39m mmscaler\u001b[38;5;241m.\u001b[39mfit_transform(x_test)\n",
      "\u001b[1;31mNameError\u001b[0m: name 'x_train' is not defined"
     ]
    }
   ],
   "source": [
    "# Scaling the features by using MinMaxScaler\n",
    "\n",
    "from sklearn.preprocessing import MinMaxScaler\n",
    "\n",
    "mmscaler = MinMaxScaler(feature_range=(0, 1))\n",
    "\n",
    "x_train = mmscaler.fit_transform(x_train)\n",
    "x_train = pd.DataFrame(x_train)\n",
    "\n",
    "x_test = mmscaler.fit_transform(x_test)\n",
    "x_test = pd.DataFrame(x_test)"
   ]
  },
  {
   "cell_type": "markdown",
   "metadata": {},
   "source": [
    "# Build the Multi Regression model"
   ]
  },
  {
   "cell_type": "code",
   "execution_count": 45,
   "metadata": {},
   "outputs": [
    {
     "name": "stdout",
     "output_type": "stream",
     "text": [
      "Mean Absolute Error (MAE): 0.548\n",
      "Mean Squared Error (MSE): 0.478\n",
      "Root Mean Squared Error (RMSE): 0.691\n",
      "R2_score: 0.972903\n",
      "Root Mean Squared Log Error (RMSLE): -0.369\n",
      "Mean Absolute Percentage Error (MAPE): 2.763 %\n",
      "Adj R Square:  0.971969\n"
     ]
    }
   ],
   "source": [
    "# Train the algorithm and build the model with train dataset\n",
    "\n",
    "from sklearn.linear_model import LinearRegression\n",
    "\n",
    "MulRGR = LinearRegression()\n",
    "\n",
    "# Train the model with training dataset\n",
    "\n",
    "MulRGR.fit(x_train, y_train)\n",
    "\n",
    "# Predict the model with test dataset\n",
    "\n",
    "y_pred = MulRGR.predict(x_test)\n",
    "\n",
    "# Evaluation metrics for Regression analysis\n",
    "\n",
    "from sklearn import metrics\n",
    "\n",
    "print('Mean Absolute Error (MAE):', round(metrics.mean_absolute_error(y_test, y_pred),3))  \n",
    "print('Mean Squared Error (MSE):', round(metrics.mean_squared_error(y_test, y_pred),3))  \n",
    "print('Root Mean Squared Error (RMSE):', round(np.sqrt(metrics.mean_squared_error(y_test, y_pred)),3))\n",
    "print('R2_score:', round(metrics.r2_score(y_test, y_pred),6))\n",
    "print('Root Mean Squared Log Error (RMSLE):', round(np.log(np.sqrt(metrics.mean_squared_error(y_test, y_pred))),3))\n",
    "\n",
    "# Define the function to calculate the MAPE - Mean Absolute Percentage Error\n",
    "\n",
    "def MAPE (y_test, y_pred): \n",
    "    y_test, y_pred = np.array(y_test), np.array(y_pred)\n",
    "    return np.mean(np.abs((y_test - y_pred) / y_test)) * 100\n",
    "\n",
    "# Evaluation of MAPE \n",
    "\n",
    "result = MAPE(y_test, y_pred)\n",
    "print('Mean Absolute Percentage Error (MAPE):', round(result, 3), '%')\n",
    "\n",
    "# Calculate Adjusted R squared values \n",
    "\n",
    "r_squared = round(metrics.r2_score(y_test, y_pred),6)\n",
    "adjusted_r_squared = round(1 - (1-r_squared)*(len(y)-1)/(len(y)-x.shape[1]-1),6)\n",
    "print('Adj R Square: ', adjusted_r_squared)"
   ]
  },
  {
   "cell_type": "code",
   "execution_count": 46,
   "metadata": {},
   "outputs": [
    {
     "data": {
      "text/html": [
       "<div>\n",
       "<style scoped>\n",
       "    .dataframe tbody tr th:only-of-type {\n",
       "        vertical-align: middle;\n",
       "    }\n",
       "\n",
       "    .dataframe tbody tr th {\n",
       "        vertical-align: top;\n",
       "    }\n",
       "\n",
       "    .dataframe thead th {\n",
       "        text-align: right;\n",
       "    }\n",
       "</style>\n",
       "<table border=\"1\" class=\"dataframe\">\n",
       "  <thead>\n",
       "    <tr style=\"text-align: right;\">\n",
       "      <th></th>\n",
       "      <th>Height_M</th>\n",
       "      <th>Weight_kg</th>\n",
       "      <th>Fat_age</th>\n",
       "      <th>BMI</th>\n",
       "      <th>BMI_A</th>\n",
       "      <th>BMI_P</th>\n",
       "    </tr>\n",
       "  </thead>\n",
       "  <tbody>\n",
       "    <tr>\n",
       "      <th>0</th>\n",
       "      <td>1.60</td>\n",
       "      <td>49.44</td>\n",
       "      <td>23.9</td>\n",
       "      <td>19.31</td>\n",
       "      <td>19.31</td>\n",
       "      <td>18.206956</td>\n",
       "    </tr>\n",
       "    <tr>\n",
       "      <th>11</th>\n",
       "      <td>1.55</td>\n",
       "      <td>53.07</td>\n",
       "      <td>27.9</td>\n",
       "      <td>22.11</td>\n",
       "      <td>22.11</td>\n",
       "      <td>21.562702</td>\n",
       "    </tr>\n",
       "    <tr>\n",
       "      <th>44</th>\n",
       "      <td>1.55</td>\n",
       "      <td>44.68</td>\n",
       "      <td>22.9</td>\n",
       "      <td>18.61</td>\n",
       "      <td>18.61</td>\n",
       "      <td>17.618054</td>\n",
       "    </tr>\n",
       "    <tr>\n",
       "      <th>66</th>\n",
       "      <td>1.53</td>\n",
       "      <td>73.37</td>\n",
       "      <td>40.5</td>\n",
       "      <td>31.33</td>\n",
       "      <td>31.33</td>\n",
       "      <td>31.755510</td>\n",
       "    </tr>\n",
       "    <tr>\n",
       "      <th>67</th>\n",
       "      <td>1.57</td>\n",
       "      <td>59.87</td>\n",
       "      <td>26.4</td>\n",
       "      <td>24.14</td>\n",
       "      <td>24.14</td>\n",
       "      <td>23.870479</td>\n",
       "    </tr>\n",
       "    <tr>\n",
       "      <th>71</th>\n",
       "      <td>1.47</td>\n",
       "      <td>41.28</td>\n",
       "      <td>24.5</td>\n",
       "      <td>19.02</td>\n",
       "      <td>19.02</td>\n",
       "      <td>18.690785</td>\n",
       "    </tr>\n",
       "    <tr>\n",
       "      <th>33</th>\n",
       "      <td>1.53</td>\n",
       "      <td>44.11</td>\n",
       "      <td>21.3</td>\n",
       "      <td>18.84</td>\n",
       "      <td>18.84</td>\n",
       "      <td>17.914574</td>\n",
       "    </tr>\n",
       "    <tr>\n",
       "      <th>4</th>\n",
       "      <td>1.45</td>\n",
       "      <td>43.09</td>\n",
       "      <td>22.5</td>\n",
       "      <td>20.38</td>\n",
       "      <td>20.38</td>\n",
       "      <td>20.019596</td>\n",
       "    </tr>\n",
       "    <tr>\n",
       "      <th>86</th>\n",
       "      <td>1.49</td>\n",
       "      <td>41.62</td>\n",
       "      <td>24.5</td>\n",
       "      <td>18.69</td>\n",
       "      <td>18.69</td>\n",
       "      <td>18.216381</td>\n",
       "    </tr>\n",
       "    <tr>\n",
       "      <th>55</th>\n",
       "      <td>1.49</td>\n",
       "      <td>58.29</td>\n",
       "      <td>36.7</td>\n",
       "      <td>26.17</td>\n",
       "      <td>26.17</td>\n",
       "      <td>26.161972</td>\n",
       "    </tr>\n",
       "  </tbody>\n",
       "</table>\n",
       "</div>"
      ],
      "text/plain": [
       "    Height_M  Weight_kg  Fat_age    BMI  BMI_A      BMI_P\n",
       "0       1.60      49.44     23.9  19.31  19.31  18.206956\n",
       "11      1.55      53.07     27.9  22.11  22.11  21.562702\n",
       "44      1.55      44.68     22.9  18.61  18.61  17.618054\n",
       "66      1.53      73.37     40.5  31.33  31.33  31.755510\n",
       "67      1.57      59.87     26.4  24.14  24.14  23.870479\n",
       "71      1.47      41.28     24.5  19.02  19.02  18.690785\n",
       "33      1.53      44.11     21.3  18.84  18.84  17.914574\n",
       "4       1.45      43.09     22.5  20.38  20.38  20.019596\n",
       "86      1.49      41.62     24.5  18.69  18.69  18.216381\n",
       "55      1.49      58.29     36.7  26.17  26.17  26.161972"
      ]
     },
     "execution_count": 46,
     "metadata": {},
     "output_type": "execute_result"
    }
   ],
   "source": [
    "Results = pd.DataFrame({'BMI_A':y_test, 'BMI_P':y_pred})\n",
    "\n",
    "# Merge two Dataframes on index of both the dataframes\n",
    "\n",
    "ResultsFinal = BMIData_BK.merge(Results, left_index=True, right_index=True)\n",
    "ResultsFinal.sample(10)"
   ]
  },
  {
   "cell_type": "code",
   "execution_count": 47,
   "metadata": {},
   "outputs": [
    {
     "data": {
      "text/html": [
       "<div>\n",
       "<style scoped>\n",
       "    .dataframe tbody tr th:only-of-type {\n",
       "        vertical-align: middle;\n",
       "    }\n",
       "\n",
       "    .dataframe tbody tr th {\n",
       "        vertical-align: top;\n",
       "    }\n",
       "\n",
       "    .dataframe thead th {\n",
       "        text-align: right;\n",
       "    }\n",
       "</style>\n",
       "<table border=\"1\" class=\"dataframe\">\n",
       "  <thead>\n",
       "    <tr style=\"text-align: right;\">\n",
       "      <th></th>\n",
       "      <th>Height_M</th>\n",
       "      <th>Weight_kg</th>\n",
       "      <th>Fat_age</th>\n",
       "      <th>BMI</th>\n",
       "    </tr>\n",
       "  </thead>\n",
       "  <tbody>\n",
       "    <tr>\n",
       "      <th>Height_M</th>\n",
       "      <td>1.000000</td>\n",
       "      <td>0.692645</td>\n",
       "      <td>0.260275</td>\n",
       "      <td>0.419131</td>\n",
       "    </tr>\n",
       "    <tr>\n",
       "      <th>Weight_kg</th>\n",
       "      <td>0.692645</td>\n",
       "      <td>1.000000</td>\n",
       "      <td>0.779047</td>\n",
       "      <td>0.940749</td>\n",
       "    </tr>\n",
       "    <tr>\n",
       "      <th>Fat_age</th>\n",
       "      <td>0.260275</td>\n",
       "      <td>0.779047</td>\n",
       "      <td>1.000000</td>\n",
       "      <td>0.869151</td>\n",
       "    </tr>\n",
       "    <tr>\n",
       "      <th>BMI</th>\n",
       "      <td>0.419131</td>\n",
       "      <td>0.940749</td>\n",
       "      <td>0.869151</td>\n",
       "      <td>1.000000</td>\n",
       "    </tr>\n",
       "  </tbody>\n",
       "</table>\n",
       "</div>"
      ],
      "text/plain": [
       "           Height_M  Weight_kg   Fat_age       BMI\n",
       "Height_M   1.000000   0.692645  0.260275  0.419131\n",
       "Weight_kg  0.692645   1.000000  0.779047  0.940749\n",
       "Fat_age    0.260275   0.779047  1.000000  0.869151\n",
       "BMI        0.419131   0.940749  0.869151  1.000000"
      ]
     },
     "execution_count": 47,
     "metadata": {},
     "output_type": "execute_result"
    }
   ],
   "source": [
    "# Correlation coefficient \n",
    "\n",
    "BMIData_new.corr()"
   ]
  },
  {
   "cell_type": "code",
   "execution_count": 48,
   "metadata": {},
   "outputs": [
    {
     "name": "stdout",
     "output_type": "stream",
     "text": [
      "Feature: 0, Score: -7.18288\n",
      "Feature: 1, Score: 20.78868\n",
      "Feature: 2, Score: 1.08701\n"
     ]
    },
    {
     "data": {
      "image/png": "[encoded data removed]",
      "text/plain": [
       "<Figure size 432x288 with 1 Axes>"
      ]
     },
     "metadata": {
      "needs_background": "light"
     },
     "output_type": "display_data"
    }
   ],
   "source": [
    "# Display feature importance\n",
    "\n",
    "importance = MulRGR.coef_\n",
    "\n",
    "# Summarize feature importance\n",
    "\n",
    "for i,v in enumerate(importance):\n",
    "    print('Feature: %0d, Score: %.5f' % (i,v))\n",
    "    \n",
    "# Plot feature importance\n",
    "\n",
    "plt.bar([x for x in range(len(importance))], importance)\n",
    "plt.show()"
   ]
  },
  {
   "cell_type": "markdown",
   "metadata": {},
   "source": [
    "# Run and compare all regression algorithms"
   ]
  },
  {
   "cell_type": "code",
   "execution_count": 49,
   "metadata": {},
   "outputs": [
    {
     "name": "stdout",
     "output_type": "stream",
     "text": [
      "Model Name:  LinearRegression()\n",
      "Mean Absolute Error (MAE): 0.548\n",
      "Mean Squared Error (MSE): 0.478\n",
      "Root Mean Squared Error (RMSE): 0.691\n",
      "R2_score: 0.972903\n",
      "Root Mean Squared Log Error (RMSLE): -0.369\n",
      "Mean Absolute Percentage Error (MAPE): 2.76 %\n",
      "Adj R Square:  0.971969\n",
      "------------------------------------------------------------------------------------------------------------\n",
      "Model Name:  DecisionTreeRegressor()\n",
      "Mean Absolute Error (MAE): 1.64\n",
      "Mean Squared Error (MSE): 3.924\n",
      "Root Mean Squared Error (RMSE): 1.981\n",
      "R2_score: 0.777501\n",
      "Root Mean Squared Log Error (RMSLE): 0.684\n",
      "Mean Absolute Percentage Error (MAPE): 7.76 %\n",
      "Adj R Square:  0.769829\n",
      "------------------------------------------------------------------------------------------------------------\n",
      "Model Name:  RandomForestRegressor()\n",
      "Mean Absolute Error (MAE): 1.212\n",
      "Mean Squared Error (MSE): 2.17\n",
      "Root Mean Squared Error (RMSE): 1.473\n",
      "R2_score: 0.876977\n",
      "Root Mean Squared Log Error (RMSLE): 0.387\n",
      "Mean Absolute Percentage Error (MAPE): 5.64 %\n",
      "Adj R Square:  0.872735\n",
      "------------------------------------------------------------------------------------------------------------\n",
      "Model Name:  AdaBoostRegressor(learning_rate=1)\n",
      "Mean Absolute Error (MAE): 1.472\n",
      "Mean Squared Error (MSE): 3.465\n",
      "Root Mean Squared Error (RMSE): 1.861\n",
      "R2_score: 0.803562\n",
      "Root Mean Squared Log Error (RMSLE): 0.621\n",
      "Mean Absolute Percentage Error (MAPE): 6.73 %\n",
      "Adj R Square:  0.796788\n",
      "------------------------------------------------------------------------------------------------------------\n",
      "Model Name:  SVR()\n",
      "Mean Absolute Error (MAE): 1.579\n",
      "Mean Squared Error (MSE): 5.436\n",
      "Root Mean Squared Error (RMSE): 2.332\n",
      "R2_score: 0.691805\n",
      "Root Mean Squared Log Error (RMSLE): 0.847\n",
      "Mean Absolute Percentage Error (MAPE): 6.58 %\n",
      "Adj R Square:  0.681178\n",
      "------------------------------------------------------------------------------------------------------------\n",
      "Model Name:  GradientBoostingRegressor()\n",
      "Mean Absolute Error (MAE): 1.223\n",
      "Mean Squared Error (MSE): 2.392\n",
      "Root Mean Squared Error (RMSE): 1.547\n",
      "R2_score: 0.864378\n",
      "Root Mean Squared Log Error (RMSLE): 0.436\n",
      "Mean Absolute Percentage Error (MAPE): 5.95 %\n",
      "Adj R Square:  0.859701\n",
      "------------------------------------------------------------------------------------------------------------\n",
      "Model Name:  XGBRegressor(base_score=0.5, booster='gbtree', colsample_bylevel=1,\n",
      "             colsample_bynode=1, colsample_bytree=1, gamma=0, gpu_id=-1,\n",
      "             importance_type='gain', interaction_constraints='',\n",
      "             learning_rate=0.300000012, max_delta_step=0, max_depth=6,\n",
      "             min_child_weight=1, missing=nan, monotone_constraints='()',\n",
      "             n_estimators=100, n_jobs=0, num_parallel_tree=1, random_state=0,\n",
      "             reg_alpha=0, reg_lambda=1, scale_pos_weight=1, subsample=1,\n",
      "             tree_method='exact', validate_parameters=1, verbosity=None)\n",
      "Mean Absolute Error (MAE): 1.216\n",
      "Mean Squared Error (MSE): 2.359\n",
      "Root Mean Squared Error (RMSE): 1.536\n",
      "R2_score: 0.866239\n",
      "Root Mean Squared Log Error (RMSLE): 0.429\n",
      "Mean Absolute Percentage Error (MAPE): 5.64 %\n",
      "Adj R Square:  0.861627\n",
      "------------------------------------------------------------------------------------------------------------\n",
      "Model Name:  KNeighborsRegressor()\n",
      "Mean Absolute Error (MAE): 1.476\n",
      "Mean Squared Error (MSE): 3.784\n",
      "Root Mean Squared Error (RMSE): 1.945\n",
      "R2_score: 0.785452\n",
      "Root Mean Squared Log Error (RMSLE): 0.665\n",
      "Mean Absolute Percentage Error (MAPE): 6.65 %\n",
      "Adj R Square:  0.778054\n",
      "------------------------------------------------------------------------------------------------------------\n",
      "Model Name:  ExtraTreesRegressor()\n",
      "Mean Absolute Error (MAE): 1.099\n",
      "Mean Squared Error (MSE): 1.925\n",
      "Root Mean Squared Error (RMSE): 1.387\n",
      "R2_score: 0.890882\n",
      "Root Mean Squared Log Error (RMSLE): 0.327\n",
      "Mean Absolute Percentage Error (MAPE): 5.22 %\n",
      "Adj R Square:  0.887119\n",
      "------------------------------------------------------------------------------------------------------------\n",
      "Model Name:  MLPRegressor()\n",
      "Mean Absolute Error (MAE): 12.689\n",
      "Mean Squared Error (MSE): 167.431\n",
      "Root Mean Squared Error (RMSE): 12.939\n",
      "R2_score: -8.492662\n",
      "Root Mean Squared Log Error (RMSLE): 2.56\n",
      "Mean Absolute Percentage Error (MAPE): 59.44 %\n",
      "Adj R Square:  -8.819995\n",
      "------------------------------------------------------------------------------------------------------------\n"
     ]
    }
   ],
   "source": [
    "# Build the Regression / Regressor models\n",
    "\n",
    "from sklearn.linear_model import LinearRegression\n",
    "from sklearn.tree import DecisionTreeRegressor\n",
    "from sklearn.ensemble import RandomForestRegressor\n",
    "from sklearn.ensemble import AdaBoostRegressor\n",
    "from sklearn.svm import SVR\n",
    "from sklearn.ensemble import GradientBoostingRegressor\n",
    "import xgboost as xgb\n",
    "from sklearn.neighbors import KNeighborsRegressor\n",
    "from sklearn.ensemble import ExtraTreesRegressor\n",
    "from sklearn.neural_network import MLPRegressor\n",
    "\n",
    "# Create objects of Regression / Regressor models with default hyper-parameters\n",
    "\n",
    "modelmlg = LinearRegression()\n",
    "modeldcr = DecisionTreeRegressor()\n",
    "modelrfr = RandomForestRegressor()\n",
    "modelABR = AdaBoostRegressor(n_estimators=50, base_estimator=None ,learning_rate=1)\n",
    "modelSVR = SVR()\n",
    "modelGBR = GradientBoostingRegressor()\n",
    "modelXGR = xgb.XGBRegressor()\n",
    "modelKNN = KNeighborsRegressor(n_neighbors=5)\n",
    "modelETR = ExtraTreesRegressor()\n",
    "modelMLPR = MLPRegressor()\n",
    "\n",
    "# Evalution matrix for all the algorithms\n",
    "\n",
    "MM = [modelmlg, modeldcr, modelrfr, modelABR, modelSVR, modelGBR, modelXGR, modelKNN, modelETR, modelMLPR]\n",
    "\n",
    "for models in MM:\n",
    "    \n",
    "    # Fit the model with train data\n",
    "    \n",
    "    models.fit(x_train, y_train)\n",
    "    \n",
    "    # Predict the model with test data\n",
    "\n",
    "    y_pred = models.predict(x_test)\n",
    "    \n",
    "    # Print the model name\n",
    "    \n",
    "    print('Model Name: ', models)\n",
    "    \n",
    "    # Evaluation metrics for Regression analysis\n",
    "\n",
    "    from sklearn import metrics\n",
    "\n",
    "    print('Mean Absolute Error (MAE):', round(metrics.mean_absolute_error(y_test, y_pred),3))  \n",
    "    print('Mean Squared Error (MSE):', round(metrics.mean_squared_error(y_test, y_pred),3))  \n",
    "    print('Root Mean Squared Error (RMSE):', round(np.sqrt(metrics.mean_squared_error(y_test, y_pred)),3))\n",
    "    print('R2_score:', round(metrics.r2_score(y_test, y_pred),6))\n",
    "    print('Root Mean Squared Log Error (RMSLE):', round(np.log(np.sqrt(metrics.mean_squared_error(y_test, y_pred))),3))\n",
    "    \n",
    "    # Define the function to calculate the MAPE - Mean Absolute Percentage Error\n",
    "\n",
    "    def MAPE (y_test, y_pred):\n",
    "        y_test, y_pred = np.array(y_test), np.array(y_pred)\n",
    "        return np.mean(np.abs((y_test - y_pred) / y_test)) * 100\n",
    "    \n",
    "    # Evaluation of MAPE \n",
    "\n",
    "    result = MAPE(y_test, y_pred)\n",
    "    print('Mean Absolute Percentage Error (MAPE):', round(result, 2), '%')\n",
    "    \n",
    "    # Calculate Adjusted R squared values \n",
    "\n",
    "    r_squared = round(metrics.r2_score(y_test, y_pred),6)\n",
    "    adjusted_r_squared = round(1 - (1-r_squared)*(len(y)-1)/(len(y)-x.shape[1]-1),6)\n",
    "    print('Adj R Square: ', adjusted_r_squared)\n",
    "    print('------------------------------------------------------------------------------------------------------------')"
   ]
  },
  {
   "cell_type": "code",
   "execution_count": null,
   "metadata": {},
   "outputs": [],
   "source": []
  }
 ],
 "metadata": {
  "kernelspec": {
   "display_name": "Python 3 (ipykernel)",
   "language": "python",
   "name": "python3"
  },
  "language_info": {
   "codemirror_mode": {
    "name": "ipython",
    "version": 3
   },
   "file_extension": ".py",
   "mimetype": "text/x-python",
   "name": "python",
   "nbconvert_exporter": "python",
   "pygments_lexer": "ipython3",
   "version": "3.9.12"
  }
 },
 "nbformat": 4,
 "nbformat_minor": 4
}
