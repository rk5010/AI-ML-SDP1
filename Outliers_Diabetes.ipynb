{
 "cells": [
  {
   "cell_type": "code",
   "execution_count": 1,
   "id": "f4316c66",
   "metadata": {},
   "outputs": [],
   "source": [
    "# Importing the libraries\n",
    "\n",
    "import pandas as pd\n",
    "import numpy as np \n",
    "import matplotlib.pyplot as plt\n",
    "\n",
    "%matplotlib inline\n",
    "\n",
    "# Ignore harmless warnings \n",
    "\n",
    "import warnings \n",
    "warnings.filterwarnings(\"ignore\")\n",
    "\n",
    "# Set to display all the columns in dataset\n",
    "\n",
    "pd.set_option(\"display.max_columns\", None)\n",
    "\n",
    "# Import psql to run queries \n",
    "\n",
    "import pandasql as psql"
   ]
  },
  {
   "cell_type": "code",
   "execution_count": 2,
   "id": "23066cb1",
   "metadata": {},
   "outputs": [
    {
     "data": {
      "text/html": [
       "<div>\n",
       "<style scoped>\n",
       "    .dataframe tbody tr th:only-of-type {\n",
       "        vertical-align: middle;\n",
       "    }\n",
       "\n",
       "    .dataframe tbody tr th {\n",
       "        vertical-align: top;\n",
       "    }\n",
       "\n",
       "    .dataframe thead th {\n",
       "        text-align: right;\n",
       "    }\n",
       "</style>\n",
       "<table border=\"1\" class=\"dataframe\">\n",
       "  <thead>\n",
       "    <tr style=\"text-align: right;\">\n",
       "      <th></th>\n",
       "      <th>Age</th>\n",
       "      <th>Glucose</th>\n",
       "      <th>BMI</th>\n",
       "      <th>Diabetes</th>\n",
       "    </tr>\n",
       "  </thead>\n",
       "  <tbody>\n",
       "    <tr>\n",
       "      <th>0</th>\n",
       "      <td>50</td>\n",
       "      <td>148</td>\n",
       "      <td>33.6</td>\n",
       "      <td>0.627</td>\n",
       "    </tr>\n",
       "    <tr>\n",
       "      <th>1</th>\n",
       "      <td>31</td>\n",
       "      <td>85</td>\n",
       "      <td>26.6</td>\n",
       "      <td>0.351</td>\n",
       "    </tr>\n",
       "    <tr>\n",
       "      <th>2</th>\n",
       "      <td>32</td>\n",
       "      <td>183</td>\n",
       "      <td>23.3</td>\n",
       "      <td>0.672</td>\n",
       "    </tr>\n",
       "    <tr>\n",
       "      <th>3</th>\n",
       "      <td>21</td>\n",
       "      <td>89</td>\n",
       "      <td>28.1</td>\n",
       "      <td>0.167</td>\n",
       "    </tr>\n",
       "    <tr>\n",
       "      <th>4</th>\n",
       "      <td>33</td>\n",
       "      <td>137</td>\n",
       "      <td>43.1</td>\n",
       "      <td>2.288</td>\n",
       "    </tr>\n",
       "  </tbody>\n",
       "</table>\n",
       "</div>"
      ],
      "text/plain": [
       "   Age  Glucose   BMI  Diabetes\n",
       "0   50      148  33.6     0.627\n",
       "1   31       85  26.6     0.351\n",
       "2   32      183  23.3     0.672\n",
       "3   21       89  28.1     0.167\n",
       "4   33      137  43.1     2.288"
      ]
     },
     "execution_count": 2,
     "metadata": {},
     "output_type": "execute_result"
    }
   ],
   "source": [
    "# Load the general dataset\n",
    "\n",
    "DiabData = pd.read_excel(r\"C:\\Users\\Admin\\Downloads\\Raju Sir DLS\\Outliers_Diabetes.xlsx\", header=0)\n",
    "\n",
    "\n",
    "# Display first 5 records\n",
    "\n",
    "DiabData.head()\n",
    "\n",
    "# Copy the data to backup file\n",
    "\n",
    "#DiabData_BK = DaibData.copy()\n"
   ]
  },
  {
   "cell_type": "code",
   "execution_count": 3,
   "id": "a8f9b74c",
   "metadata": {},
   "outputs": [
    {
     "data": {
      "text/plain": [
       "(768, 4)"
      ]
     },
     "execution_count": 3,
     "metadata": {},
     "output_type": "execute_result"
    }
   ],
   "source": [
    "# Display the shape of the dataset\n",
    "\n",
    "DiabData.shape"
   ]
  },
  {
   "cell_type": "code",
   "execution_count": 4,
   "id": "0ae67b93",
   "metadata": {},
   "outputs": [
    {
     "data": {
      "text/html": [
       "<div>\n",
       "<style scoped>\n",
       "    .dataframe tbody tr th:only-of-type {\n",
       "        vertical-align: middle;\n",
       "    }\n",
       "\n",
       "    .dataframe tbody tr th {\n",
       "        vertical-align: top;\n",
       "    }\n",
       "\n",
       "    .dataframe thead th {\n",
       "        text-align: right;\n",
       "    }\n",
       "</style>\n",
       "<table border=\"1\" class=\"dataframe\">\n",
       "  <thead>\n",
       "    <tr style=\"text-align: right;\">\n",
       "      <th></th>\n",
       "      <th>count</th>\n",
       "      <th>mean</th>\n",
       "      <th>std</th>\n",
       "      <th>min</th>\n",
       "      <th>25%</th>\n",
       "      <th>50%</th>\n",
       "      <th>75%</th>\n",
       "      <th>max</th>\n",
       "    </tr>\n",
       "  </thead>\n",
       "  <tbody>\n",
       "    <tr>\n",
       "      <th>Age</th>\n",
       "      <td>768.0</td>\n",
       "      <td>33.240885</td>\n",
       "      <td>11.760232</td>\n",
       "      <td>21.000</td>\n",
       "      <td>24.00000</td>\n",
       "      <td>29.0000</td>\n",
       "      <td>41.00000</td>\n",
       "      <td>81.00</td>\n",
       "    </tr>\n",
       "    <tr>\n",
       "      <th>Glucose</th>\n",
       "      <td>768.0</td>\n",
       "      <td>120.894531</td>\n",
       "      <td>31.972618</td>\n",
       "      <td>0.000</td>\n",
       "      <td>99.00000</td>\n",
       "      <td>117.0000</td>\n",
       "      <td>140.25000</td>\n",
       "      <td>199.00</td>\n",
       "    </tr>\n",
       "    <tr>\n",
       "      <th>BMI</th>\n",
       "      <td>768.0</td>\n",
       "      <td>31.992578</td>\n",
       "      <td>7.884160</td>\n",
       "      <td>0.000</td>\n",
       "      <td>27.30000</td>\n",
       "      <td>32.0000</td>\n",
       "      <td>36.60000</td>\n",
       "      <td>67.10</td>\n",
       "    </tr>\n",
       "    <tr>\n",
       "      <th>Diabetes</th>\n",
       "      <td>768.0</td>\n",
       "      <td>0.471876</td>\n",
       "      <td>0.331329</td>\n",
       "      <td>0.078</td>\n",
       "      <td>0.24375</td>\n",
       "      <td>0.3725</td>\n",
       "      <td>0.62625</td>\n",
       "      <td>2.42</td>\n",
       "    </tr>\n",
       "  </tbody>\n",
       "</table>\n",
       "</div>"
      ],
      "text/plain": [
       "          count        mean        std     min       25%       50%        75%  \\\n",
       "Age       768.0   33.240885  11.760232  21.000  24.00000   29.0000   41.00000   \n",
       "Glucose   768.0  120.894531  31.972618   0.000  99.00000  117.0000  140.25000   \n",
       "BMI       768.0   31.992578   7.884160   0.000  27.30000   32.0000   36.60000   \n",
       "Diabetes  768.0    0.471876   0.331329   0.078   0.24375    0.3725    0.62625   \n",
       "\n",
       "             max  \n",
       "Age        81.00  \n",
       "Glucose   199.00  \n",
       "BMI        67.10  \n",
       "Diabetes    2.42  "
      ]
     },
     "execution_count": 4,
     "metadata": {},
     "output_type": "execute_result"
    }
   ],
   "source": [
    "# Display \"Descriptive Statistical Analysis\"\n",
    "\n",
    "DiabData.describe().T"
   ]
  },
  {
   "cell_type": "code",
   "execution_count": 5,
   "id": "4305dba5",
   "metadata": {},
   "outputs": [
    {
     "data": {
      "image/png": "[encoded data removed]",
      "text/plain": [
       "<Figure size 432x288 with 1 Axes>"
      ]
     },
     "metadata": {
      "needs_background": "light"
     },
     "output_type": "display_data"
    }
   ],
   "source": [
    "# Plot Histogram with 'Age'\n",
    "\n",
    "plt.hist(DiabData.Age, bins=20, rwidth=0.8)\n",
    "plt.xlabel('Age')\n",
    "plt.ylabel('Count')\n",
    "plt.show()"
   ]
  },
  {
   "cell_type": "code",
   "execution_count": 6,
   "id": "6a1bdab6",
   "metadata": {},
   "outputs": [
    {
     "data": {
      "text/plain": [
       "[<matplotlib.lines.Line2D at 0x176e18a16a0>]"
      ]
     },
     "execution_count": 6,
     "metadata": {},
     "output_type": "execute_result"
    },
    {
     "data": {
      "image/png": "[encoded data removed]",
      "text/plain": [
       "<Figure size 432x288 with 1 Axes>"
      ]
     },
     "metadata": {
      "needs_background": "light"
     },
     "output_type": "display_data"
    }
   ],
   "source": [
    "# Gaussian distribution (also known as normal distribution) is a bell-shaped curve\n",
    "\n",
    "from scipy.stats import norm\n",
    "\n",
    "plt.hist(DiabData.Age, bins=20, rwidth=0.8, density=True)\n",
    "plt.xlabel('Age')\n",
    "plt.ylabel('Count')\n",
    "\n",
    "rng = np.arange(DiabData.Age.min(), DiabData.Age.max(), 0.1)\n",
    "plt.plot(rng, norm.pdf(rng, DiabData.Age.mean(),DiabData.Age.std()))"
   ]
  },
  {
   "cell_type": "code",
   "execution_count": 7,
   "id": "a17e7725",
   "metadata": {},
   "outputs": [
    {
     "data": {
      "image/png": "[encoded data removed]",
      "text/plain": [
       "<Figure size 432x288 with 1 Axes>"
      ]
     },
     "metadata": {
      "needs_background": "light"
     },
     "output_type": "display_data"
    }
   ],
   "source": [
    "# Plot Histogram with 'Glucose'\n",
    "\n",
    "plt.hist(DiabData.Glucose, bins=20, rwidth=0.8)\n",
    "plt.xlabel('Glucose')\n",
    "plt.ylabel('Count')\n",
    "plt.show()"
   ]
  },
  {
   "cell_type": "code",
   "execution_count": 8,
   "id": "7880e3c9",
   "metadata": {},
   "outputs": [
    {
     "data": {
      "text/plain": [
       "[<matplotlib.lines.Line2D at 0x176e1972580>]"
      ]
     },
     "execution_count": 8,
     "metadata": {},
     "output_type": "execute_result"
    },
    {
     "data": {
      "image/png": "[encoded data removed]",
      "text/plain": [
       "<Figure size 432x288 with 1 Axes>"
      ]
     },
     "metadata": {
      "needs_background": "light"
     },
     "output_type": "display_data"
    }
   ],
   "source": [
    "# Gaussian distribution (also known as normal distribution) is a bell-shaped curve\n",
    "\n",
    "from scipy.stats import norm\n",
    "\n",
    "plt.hist(DiabData.Glucose, bins=20, rwidth=0.8, density=True)\n",
    "plt.xlabel('Glucose')\n",
    "plt.ylabel('Count')\n",
    "\n",
    "rng = np.arange(DiabData.Glucose.min(), DiabData.Glucose.max(), 0.1)\n",
    "plt.plot(rng, norm.pdf(rng, DiabData.Glucose.mean(),DiabData.Glucose.std()))"
   ]
  },
  {
   "cell_type": "code",
   "execution_count": 9,
   "id": "0b6c1d16",
   "metadata": {},
   "outputs": [
    {
     "data": {
      "image/png": "[encoded data removed]",
      "text/plain": [
       "<Figure size 432x288 with 1 Axes>"
      ]
     },
     "metadata": {
      "needs_background": "light"
     },
     "output_type": "display_data"
    }
   ],
   "source": [
    "# Plot Histogram with 'BMI'\n",
    "\n",
    "plt.hist(DiabData.BMI, bins=20, rwidth=0.8)\n",
    "plt.xlabel('BMI')\n",
    "plt.ylabel('Count')\n",
    "plt.show()"
   ]
  },
  {
   "cell_type": "code",
   "execution_count": 10,
   "id": "80f63ccd",
   "metadata": {},
   "outputs": [
    {
     "data": {
      "text/plain": [
       "[<matplotlib.lines.Line2D at 0x176e19dd910>]"
      ]
     },
     "execution_count": 10,
     "metadata": {},
     "output_type": "execute_result"
    },
    {
     "data": {
      "image/png": "[encoded data removed]",
      "text/plain": [
       "<Figure size 432x288 with 1 Axes>"
      ]
     },
     "metadata": {
      "needs_background": "light"
     },
     "output_type": "display_data"
    }
   ],
   "source": [
    "# Gaussian distribution (also known as normal distribution) is a bell-shaped curve\n",
    "\n",
    "from scipy.stats import norm\n",
    "\n",
    "plt.hist(DiabData.BMI, bins=20, rwidth=0.8, density=True)\n",
    "plt.xlabel('BMI')\n",
    "plt.ylabel('Count')\n",
    "\n",
    "rng = np.arange(DiabData.BMI.min(), DiabData.BMI.max(), 0.1)\n",
    "plt.plot(rng, norm.pdf(rng, DiabData.BMI.mean(),DiabData.BMI.std()))"
   ]
  },
  {
   "cell_type": "code",
   "execution_count": 11,
   "id": "42118b34",
   "metadata": {},
   "outputs": [
    {
     "data": {
      "image/png": "[encoded data removed]",
      "text/plain": [
       "<Figure size 432x288 with 1 Axes>"
      ]
     },
     "metadata": {
      "needs_background": "light"
     },
     "output_type": "display_data"
    }
   ],
   "source": [
    "# Plot Histogram with 'Diabetes'\n",
    "\n",
    "plt.hist(DiabData.Diabetes, bins=20, rwidth=0.8)\n",
    "plt.xlabel('Diabetes')\n",
    "plt.ylabel('Count')\n",
    "plt.show()"
   ]
  },
  {
   "cell_type": "code",
   "execution_count": 12,
   "id": "46dad034",
   "metadata": {},
   "outputs": [
    {
     "data": {
      "text/plain": [
       "[<matplotlib.lines.Line2D at 0x176e661bdf0>]"
      ]
     },
     "execution_count": 12,
     "metadata": {},
     "output_type": "execute_result"
    },
    {
     "data": {
      "image/png": "[encoded data removed]",
      "text/plain": [
       "<Figure size 432x288 with 1 Axes>"
      ]
     },
     "metadata": {
      "needs_background": "light"
     },
     "output_type": "display_data"
    }
   ],
   "source": [
    "# Gaussian distribution (also known as normal distribution) is a bell-shaped curve\n",
    "\n",
    "from scipy.stats import norm\n",
    "\n",
    "plt.hist(DiabData.Diabetes, bins=20, rwidth=0.8, density=True)\n",
    "plt.xlabel('Diabetes')\n",
    "plt.ylabel('Count')\n",
    "\n",
    "rng = np.arange(DiabData.Diabetes.min(), DiabData.Diabetes.max(), 0.1)\n",
    "plt.plot(rng, norm.pdf(rng, DiabData.Diabetes.mean(),DiabData.Diabetes.std()))"
   ]
  },
  {
   "cell_type": "code",
   "execution_count": 13,
   "id": "929f74b7",
   "metadata": {},
   "outputs": [
    {
     "name": "stdout",
     "output_type": "stream",
     "text": [
      "<class 'pandas.core.frame.DataFrame'>\n",
      "RangeIndex: 768 entries, 0 to 767\n",
      "Data columns (total 4 columns):\n",
      " #   Column    Non-Null Count  Dtype  \n",
      "---  ------    --------------  -----  \n",
      " 0   Age       768 non-null    int64  \n",
      " 1   Glucose   768 non-null    int64  \n",
      " 2   BMI       768 non-null    float64\n",
      " 3   Diabetes  768 non-null    float64\n",
      "dtypes: float64(2), int64(2)\n",
      "memory usage: 24.1 KB\n"
     ]
    }
   ],
   "source": [
    "DiabData.info()"
   ]
  },
  {
   "cell_type": "code",
   "execution_count": 14,
   "id": "ebfc7d05",
   "metadata": {},
   "outputs": [],
   "source": [
    "# Calculate the Lower Limit and Upper Limit of each variable\n",
    "\n",
    "Agell = round(DiabData.Age.mean() - 3 * DiabData.Age.std(), 3)\n",
    "Ageul = round(DiabData.Age.mean() + 3 * DiabData.Age.std(),3)\n",
    "Glull = round(DiabData.Glucose.mean() - 3 * DiabData.Glucose.std(), 3)\n",
    "Gluul = round(DiabData.Glucose.mean() + 3 * DiabData.Glucose.std(), 3)\n",
    "BMIll = round(DiabData.BMI.mean() - 3 * DiabData.BMI.std(), 3)\n",
    "BMIul = round(DiabData.BMI.mean() + 3 * DiabData.BMI.std(),3)\n",
    "Diabll = round(DiabData.Diabetes.mean() - 3 * DiabData.Diabetes.std(), 3)\n",
    "Diabul = round(DiabData.Diabetes.mean() + 3 * DiabData.Diabetes.std(),3)"
   ]
  },
  {
   "cell_type": "code",
   "execution_count": 15,
   "id": "73210bbc",
   "metadata": {},
   "outputs": [
    {
     "data": {
      "text/html": [
       "<div>\n",
       "<style scoped>\n",
       "    .dataframe tbody tr th:only-of-type {\n",
       "        vertical-align: middle;\n",
       "    }\n",
       "\n",
       "    .dataframe tbody tr th {\n",
       "        vertical-align: top;\n",
       "    }\n",
       "\n",
       "    .dataframe thead th {\n",
       "        text-align: right;\n",
       "    }\n",
       "</style>\n",
       "<table border=\"1\" class=\"dataframe\">\n",
       "  <thead>\n",
       "    <tr style=\"text-align: right;\">\n",
       "      <th></th>\n",
       "      <th>Age</th>\n",
       "      <th>Glucose</th>\n",
       "      <th>BMI</th>\n",
       "      <th>Diabetes</th>\n",
       "    </tr>\n",
       "  </thead>\n",
       "  <tbody>\n",
       "    <tr>\n",
       "      <th>0</th>\n",
       "      <td>50</td>\n",
       "      <td>148</td>\n",
       "      <td>33.6</td>\n",
       "      <td>0.627</td>\n",
       "    </tr>\n",
       "    <tr>\n",
       "      <th>1</th>\n",
       "      <td>31</td>\n",
       "      <td>85</td>\n",
       "      <td>26.6</td>\n",
       "      <td>0.351</td>\n",
       "    </tr>\n",
       "    <tr>\n",
       "      <th>2</th>\n",
       "      <td>32</td>\n",
       "      <td>183</td>\n",
       "      <td>23.3</td>\n",
       "      <td>0.672</td>\n",
       "    </tr>\n",
       "    <tr>\n",
       "      <th>3</th>\n",
       "      <td>21</td>\n",
       "      <td>89</td>\n",
       "      <td>28.1</td>\n",
       "      <td>0.167</td>\n",
       "    </tr>\n",
       "    <tr>\n",
       "      <th>5</th>\n",
       "      <td>30</td>\n",
       "      <td>116</td>\n",
       "      <td>25.6</td>\n",
       "      <td>0.201</td>\n",
       "    </tr>\n",
       "  </tbody>\n",
       "</table>\n",
       "</div>"
      ],
      "text/plain": [
       "   Age  Glucose   BMI  Diabetes\n",
       "0   50      148  33.6     0.627\n",
       "1   31       85  26.6     0.351\n",
       "2   32      183  23.3     0.672\n",
       "3   21       89  28.1     0.167\n",
       "5   30      116  25.6     0.201"
      ]
     },
     "execution_count": 15,
     "metadata": {},
     "output_type": "execute_result"
    }
   ],
   "source": [
    "# Eliminate the outliers\n",
    "\n",
    "DiabData_new = DiabData[(DiabData.Age > Agell) & (DiabData.Age < Ageul)]\n",
    "DiabData_new = DiabData_new[(DiabData_new.Glucose > Glull) & (DiabData_new.Glucose < Gluul)]\n",
    "DiabData_new = DiabData_new[(DiabData_new.BMI > BMIll) & (DiabData_new.BMI < BMIul)]\n",
    "DiabData_new = DiabData_new[(DiabData_new.Diabetes > Diabll) & (DiabData_new.Diabetes < Diabul)]\n",
    "DiabData_new.head()"
   ]
  },
  {
   "cell_type": "code",
   "execution_count": 16,
   "id": "5da36a7b",
   "metadata": {},
   "outputs": [
    {
     "data": {
      "text/plain": [
       "(736, 4)"
      ]
     },
     "execution_count": 16,
     "metadata": {},
     "output_type": "execute_result"
    }
   ],
   "source": [
    "# New data shape with no of deleted records\n",
    "\n",
    "DiabData_new.shape"
   ]
  },
  {
   "cell_type": "code",
   "execution_count": 23,
   "id": "168b92f7",
   "metadata": {},
   "outputs": [
    {
     "data": {
      "text/plain": [
       "(768, 4)"
      ]
     },
     "execution_count": 23,
     "metadata": {},
     "output_type": "execute_result"
    }
   ],
   "source": [
    "#Original data\n",
    "\n",
    "DiabData.shape"
   ]
  },
  {
   "cell_type": "code",
   "execution_count": 24,
   "id": "1118ac15",
   "metadata": {},
   "outputs": [
    {
     "data": {
      "text/plain": [
       "32"
      ]
     },
     "execution_count": 24,
     "metadata": {},
     "output_type": "execute_result"
    }
   ],
   "source": [
    "#Total no of outliers\n",
    "\n",
    "DiabData.shape[0] - DiabData_new.shape[0]"
   ]
  },
  {
   "cell_type": "markdown",
   "id": "a02d442a",
   "metadata": {},
   "source": [
    "# Box plot Method for finding outliers"
   ]
  },
  {
   "cell_type": "code",
   "execution_count": 17,
   "id": "0995a821",
   "metadata": {},
   "outputs": [
    {
     "data": {
      "text/plain": [
       "<AxesSubplot:xlabel='Diabetes'>"
      ]
     },
     "execution_count": 17,
     "metadata": {},
     "output_type": "execute_result"
    },
    {
     "data": {
      "image/png": "[encoded data removed]",
      "text/plain": [
       "<Figure size 432x288 with 1 Axes>"
      ]
     },
     "metadata": {
      "needs_background": "light"
     },
     "output_type": "display_data"
    }
   ],
   "source": [
    "# Display the box plot to show the outliers\n",
    "\n",
    "import seaborn as sns\n",
    "\n",
    "sns.boxplot(x=DiabData[\"Diabetes\"])"
   ]
  },
  {
   "cell_type": "code",
   "execution_count": 26,
   "id": "2d8ef8d0",
   "metadata": {},
   "outputs": [
    {
     "name": "stdout",
     "output_type": "stream",
     "text": [
      "<class 'pandas.core.frame.DataFrame'>\n",
      "RangeIndex: 768 entries, 0 to 767\n",
      "Data columns (total 4 columns):\n",
      " #   Column    Non-Null Count  Dtype  \n",
      "---  ------    --------------  -----  \n",
      " 0   Age       768 non-null    int64  \n",
      " 1   Glucose   768 non-null    int64  \n",
      " 2   BMI       768 non-null    float64\n",
      " 3   Diabetes  768 non-null    float64\n",
      "dtypes: float64(2), int64(2)\n",
      "memory usage: 24.1 KB\n"
     ]
    }
   ],
   "source": [
    "DiabData.info()"
   ]
  },
  {
   "cell_type": "code",
   "execution_count": 22,
   "id": "d0b40cd0",
   "metadata": {},
   "outputs": [
    {
     "name": "stdout",
     "output_type": "stream",
     "text": [
      "Age IQR 17.0\n",
      "Age Upper bound 66.5\n",
      "Age Lower bound -1.5\n",
      "Glucose IQR 41.25\n",
      "Glucose Upper bound 202.125\n",
      "Glucose Lower bound 37.125\n",
      "BMI IQR 9.3\n",
      "BMI Upper bound 50.55\n",
      "BMI Lower bound 13.35\n",
      "Diabetes IQR 0.38249999999999995\n",
      "Diabetes Upper bound 1.2\n",
      "Diabetes Lower bound -0.33\n"
     ]
    }
   ],
   "source": [
    "# Calculating the Q1, Q3 and Inter quartile range (IQR) for Age\n",
    "\n",
    "Age_first_quantile = DiabData[\"Age\"].quantile(.25)\n",
    "Age_third_quantile = DiabData[\"Age\"].quantile(.75)\n",
    "Age_IQR = Age_third_quantile - Age_first_quantile\n",
    "print(\"Age IQR\", Age_IQR)\n",
    "# Calculate the Upper bound for Age\n",
    "\n",
    "Age_Upper_bound = round(Age_third_quantile + 1.5 * Age_IQR, 3)\n",
    "print(\"Age Upper bound\", Age_Upper_bound )\n",
    "\n",
    "# Calculate the lower bound for Age\n",
    "\n",
    "Age_Lower_bound = round(Age_first_quantile - 1.5 * Age_IQR, 3)\n",
    "print(\"Age Lower bound\", Age_Lower_bound)\n",
    "\n",
    "\n",
    "\n",
    "\n",
    "# Calculating the Q1, Q3 and Inter quartile range (IQR) for Glucose\n",
    "\n",
    "Gluc_first_quantile = DiabData[\"Glucose\"].quantile(.25)\n",
    "Gluc_third_quantile = DiabData[\"Glucose\"].quantile(.75)\n",
    "Gluc_IQR = Gluc_third_quantile - Gluc_first_quantile\n",
    "print(\"Glucose IQR\", Gluc_IQR)\n",
    "# Calculate the Upper bound for Glucose\n",
    "\n",
    "Gluc_Upper_bound = round(Gluc_third_quantile + 1.5 * Gluc_IQR, 3)\n",
    "print(\"Glucose Upper bound\", Gluc_Upper_bound)\n",
    "\n",
    "# Calculate the lower bound for Glucose\n",
    "\n",
    "Gluc_Lower_bound = round(Gluc_first_quantile - 1.5 * Gluc_IQR, 3)\n",
    "print(\"Glucose Lower bound\", Gluc_Lower_bound)\n",
    "\n",
    "\n",
    "\n",
    "# Calculating the Q1, Q3 and Inter quartile range (IQR) for BMI\n",
    "\n",
    "BMI_first_quantile = DiabData[\"BMI\"].quantile(.25)\n",
    "BMI_third_quantile = DiabData[\"BMI\"].quantile(.75)\n",
    "BMI_IQR = BMI_third_quantile - BMI_first_quantile\n",
    "print(\"BMI IQR\", BMI_IQR)\n",
    "# Calculate the Upper bound for BMI\n",
    "\n",
    "BMI_Upper_bound = round(BMI_third_quantile + 1.5 * BMI_IQR, 3)\n",
    "print(\"BMI Upper bound\", BMI_Upper_bound)\n",
    "\n",
    "# Calculate the lower bound for BMI\n",
    "\n",
    "BMI_Lower_bound = round(BMI_first_quantile - 1.5 * BMI_IQR, 3)\n",
    "print(\"BMI Lower bound\", BMI_Lower_bound)\n",
    "\n",
    "\n",
    "\n",
    "## Calculating the Q1, Q3 and Inter quartile range (IQR) for Diabetes\n",
    "\n",
    "Diab_first_quantile = DiabData[\"Diabetes\"].quantile(.25)\n",
    "Diab_third_quantile = DiabData[\"Diabetes\"].quantile(.75)\n",
    "Diab_IQR = Diab_third_quantile - Diab_first_quantile\n",
    "print(\"Diabetes IQR\", Diab_IQR)\n",
    "\n",
    "# Calculate the Upper bound for Diabetes\n",
    "\n",
    "Diab_Upper_bound = round(Diab_third_quantile + 1.5 * Diab_IQR, 3)\n",
    "print(\"Diabetes Upper bound\", Diab_Upper_bound)\n",
    "\n",
    "# Calculate the lower bound for Diabetes\n",
    "\n",
    "Diab_Lower_bound = round(Diab_first_quantile - 1.5 * Diab_IQR, 3)\n",
    "print(\"Diabetes Lower bound\",Diab_Lower_bound)\n"
   ]
  },
  {
   "cell_type": "code",
   "execution_count": 23,
   "id": "aebadc1c",
   "metadata": {},
   "outputs": [
    {
     "data": {
      "text/html": [
       "<div>\n",
       "<style scoped>\n",
       "    .dataframe tbody tr th:only-of-type {\n",
       "        vertical-align: middle;\n",
       "    }\n",
       "\n",
       "    .dataframe tbody tr th {\n",
       "        vertical-align: top;\n",
       "    }\n",
       "\n",
       "    .dataframe thead th {\n",
       "        text-align: right;\n",
       "    }\n",
       "</style>\n",
       "<table border=\"1\" class=\"dataframe\">\n",
       "  <thead>\n",
       "    <tr style=\"text-align: right;\">\n",
       "      <th></th>\n",
       "      <th>Age</th>\n",
       "      <th>Glucose</th>\n",
       "      <th>BMI</th>\n",
       "      <th>Diabetes</th>\n",
       "    </tr>\n",
       "  </thead>\n",
       "  <tbody>\n",
       "    <tr>\n",
       "      <th>0</th>\n",
       "      <td>50</td>\n",
       "      <td>148</td>\n",
       "      <td>33.6</td>\n",
       "      <td>0.627</td>\n",
       "    </tr>\n",
       "    <tr>\n",
       "      <th>1</th>\n",
       "      <td>31</td>\n",
       "      <td>85</td>\n",
       "      <td>26.6</td>\n",
       "      <td>0.351</td>\n",
       "    </tr>\n",
       "    <tr>\n",
       "      <th>2</th>\n",
       "      <td>32</td>\n",
       "      <td>183</td>\n",
       "      <td>23.3</td>\n",
       "      <td>0.672</td>\n",
       "    </tr>\n",
       "    <tr>\n",
       "      <th>3</th>\n",
       "      <td>21</td>\n",
       "      <td>89</td>\n",
       "      <td>28.1</td>\n",
       "      <td>0.167</td>\n",
       "    </tr>\n",
       "    <tr>\n",
       "      <th>5</th>\n",
       "      <td>30</td>\n",
       "      <td>116</td>\n",
       "      <td>25.6</td>\n",
       "      <td>0.201</td>\n",
       "    </tr>\n",
       "  </tbody>\n",
       "</table>\n",
       "</div>"
      ],
      "text/plain": [
       "   Age  Glucose   BMI  Diabetes\n",
       "0   50      148  33.6     0.627\n",
       "1   31       85  26.6     0.351\n",
       "2   32      183  23.3     0.672\n",
       "3   21       89  28.1     0.167\n",
       "5   30      116  25.6     0.201"
      ]
     },
     "execution_count": 23,
     "metadata": {},
     "output_type": "execute_result"
    }
   ],
   "source": [
    "# Eliminate the outliers\n",
    "\n",
    "DiabData_new = DiabData[(DiabData.Age > Age_Lower_bound) & (DiabData.Age < Age_Upper_bound)]\n",
    "DiabData_new = DiabData_new[(DiabData_new.Glucose > Gluc_Lower_bound) & (DiabData_new.Glucose < Gluc_Upper_bound)]\n",
    "DiabData_new = DiabData_new[(DiabData_new.BMI > BMI_Lower_bound) & (DiabData_new.BMI < BMI_Upper_bound)]\n",
    "DiabData_new = DiabData_new[(DiabData_new.Diabetes > Diab_Lower_bound) & (DiabData_new.Diabetes < Diab_Upper_bound)]\n",
    "DiabData_new.head()"
   ]
  },
  {
   "cell_type": "code",
   "execution_count": 24,
   "id": "e57d9cb4",
   "metadata": {},
   "outputs": [
    {
     "data": {
      "text/plain": [
       "(709, 4)"
      ]
     },
     "execution_count": 24,
     "metadata": {},
     "output_type": "execute_result"
    }
   ],
   "source": [
    "DiabData_new.shape"
   ]
  },
  {
   "cell_type": "code",
   "execution_count": 25,
   "id": "c110cdb9",
   "metadata": {},
   "outputs": [
    {
     "data": {
      "text/plain": [
       "(768, 4)"
      ]
     },
     "execution_count": 25,
     "metadata": {},
     "output_type": "execute_result"
    }
   ],
   "source": [
    "DiabData.shape"
   ]
  },
  {
   "cell_type": "code",
   "execution_count": 26,
   "id": "ba083f89",
   "metadata": {},
   "outputs": [
    {
     "data": {
      "text/plain": [
       "59"
      ]
     },
     "execution_count": 26,
     "metadata": {},
     "output_type": "execute_result"
    }
   ],
   "source": [
    "#Total no of outliers removed by using Boxplot method\n",
    "\n",
    "DiabData.shape[0] - DiabData_new.shape[0]"
   ]
  },
  {
   "cell_type": "code",
   "execution_count": 27,
   "id": "2f48ad0d",
   "metadata": {},
   "outputs": [],
   "source": [
    "# Identify the Independent and Target variables\n",
    "\n",
    "IndepVar = []\n",
    "for col in DiabData_new.columns:\n",
    "    if col != 'Diabetes':\n",
    "        IndepVar.append(col)\n",
    "\n",
    "TargetVar = 'Diabetes'\n",
    "\n",
    "x = DiabData_new[IndepVar]\n",
    "y = DiabData_new[TargetVar]"
   ]
  },
  {
   "cell_type": "code",
   "execution_count": 28,
   "id": "97094efc",
   "metadata": {},
   "outputs": [],
   "source": [
    "# Splitting the dataset into train and test \n",
    "\n",
    "from sklearn.model_selection import train_test_split\n",
    "\n",
    "x_train, x_test, y_train, y_test = train_test_split(x, y,train_size = 0.7, test_size = 0.30, random_state = 42)"
   ]
  },
  {
   "cell_type": "code",
   "execution_count": 29,
   "id": "1a48d912",
   "metadata": {},
   "outputs": [],
   "source": [
    "# Scaling the features by using MinMaxScaler\n",
    "\n",
    "from sklearn.preprocessing import MinMaxScaler\n",
    "\n",
    "mmscaler = MinMaxScaler(feature_range=(0, 1))\n",
    "\n",
    "x_train = mmscaler.fit_transform(x_train)\n",
    "x_train = pd.DataFrame(x_train)\n",
    "\n",
    "x_test = mmscaler.fit_transform(x_test)\n",
    "x_test = pd.DataFrame(x_test)"
   ]
  },
  {
   "cell_type": "markdown",
   "id": "1c3a2c27",
   "metadata": {},
   "source": [
    "\n",
    "# Built the Multi Regression Model for Diabetes Data without outliers"
   ]
  },
  {
   "cell_type": "code",
   "execution_count": 36,
   "id": "0345898e",
   "metadata": {},
   "outputs": [
    {
     "name": "stdout",
     "output_type": "stream",
     "text": [
      "Mean Absolute Error (MAE): 0.197\n",
      "Mean Squared Error (MSE): 0.059\n",
      "Root Mean Squared Error (RMSE): 0.244\n",
      "R2_score: 0.018224\n",
      "Root Mean Squared Log Error (RMSLE): -1.413\n",
      "Mean Absolute Percentage Error (MAPE): 67.146 %\n",
      "Adj R Square:  0.014046\n"
     ]
    }
   ],
   "source": [
    "# Train the algorithm and build the model with train dataset\n",
    "\n",
    "from sklearn.linear_model import LinearRegression\n",
    "\n",
    "MulRGR = LinearRegression()\n",
    "\n",
    "# Train the model with training dataset\n",
    "\n",
    "MulRGR.fit(x_train, y_train)\n",
    "\n",
    "# Predict the model with test dataset\n",
    "\n",
    "y_pred = MulRGR.predict(x_test)\n",
    "\n",
    "# Evaluation metrics for Regression analysis\n",
    "\n",
    "from sklearn import metrics\n",
    "\n",
    "print('Mean Absolute Error (MAE):', round(metrics.mean_absolute_error(y_test, y_pred),3))  \n",
    "print('Mean Squared Error (MSE):', round(metrics.mean_squared_error(y_test, y_pred),3))  \n",
    "print('Root Mean Squared Error (RMSE):', round(np.sqrt(metrics.mean_squared_error(y_test, y_pred)),3))\n",
    "print('R2_score:', round(metrics.r2_score(y_test, y_pred),6))\n",
    "print('Root Mean Squared Log Error (RMSLE):', round(np.log(np.sqrt(metrics.mean_squared_error(y_test, y_pred))),3))\n",
    "\n",
    "# Define the function to calculate the MAPE - Mean Absolute Percentage Error\n",
    "\n",
    "def MAPE (y_test, y_pred): \n",
    "    y_test, y_pred = np.array(y_test), np.array(y_pred)\n",
    "    return np.mean(np.abs((y_test - y_pred) / y_test)) * 100\n",
    "\n",
    "# Evaluation of MAPE \n",
    "\n",
    "result = MAPE(y_test, y_pred)\n",
    "print('Mean Absolute Percentage Error (MAPE):', round(result, 3), '%')\n",
    "\n",
    "# Calculate Adjusted R squared values \n",
    "\n",
    "r_squared = round(metrics.r2_score(y_test, y_pred),6)\n",
    "adjusted_r_squared = round(1 - (1-r_squared)*(len(y)-1)/(len(y)-x.shape[1]-1),6)\n",
    "print('Adj R Square: ', adjusted_r_squared)"
   ]
  },
  {
   "cell_type": "markdown",
   "id": "c44f15ab",
   "metadata": {},
   "source": [
    "# # Built the Multi Regression Model for Diabetes Data with outliers i.e Original Dataset"
   ]
  },
  {
   "cell_type": "code",
   "execution_count": 38,
   "id": "5e9e7ae7",
   "metadata": {},
   "outputs": [
    {
     "data": {
      "text/plain": [
       "(768, 4)"
      ]
     },
     "execution_count": 38,
     "metadata": {},
     "output_type": "execute_result"
    }
   ],
   "source": [
    "#Diabetes dataset information\n",
    "\n",
    "DiabData.shape"
   ]
  },
  {
   "cell_type": "code",
   "execution_count": 32,
   "id": "c4fdea15",
   "metadata": {},
   "outputs": [],
   "source": [
    "# Identify the Independent and Target variables\n",
    "\n",
    "IndepVar = []\n",
    "for col in DiabData.columns:\n",
    "    if col != 'Diabetes':\n",
    "        IndepVar.append(col)\n",
    "\n",
    "TargetVar = 'Diabetes'\n",
    "\n",
    "x = DiabData[IndepVar]\n",
    "y = DiabData[TargetVar]"
   ]
  },
  {
   "cell_type": "code",
   "execution_count": 33,
   "id": "440142ce",
   "metadata": {},
   "outputs": [],
   "source": [
    "# Splitting the dataset into train and test \n",
    "\n",
    "from sklearn.model_selection import train_test_split\n",
    "\n",
    "x_train, x_test, y_train, y_test = train_test_split(x, y,train_size = 0.7, test_size = 0.30, random_state = 42)"
   ]
  },
  {
   "cell_type": "code",
   "execution_count": 34,
   "id": "5fa4d1bb",
   "metadata": {},
   "outputs": [],
   "source": [
    "# Scaling the features by using MinMaxScaler\n",
    "\n",
    "from sklearn.preprocessing import MinMaxScaler\n",
    "\n",
    "mmscaler = MinMaxScaler(feature_range=(0, 1))\n",
    "\n",
    "x_train = mmscaler.fit_transform(x_train)\n",
    "x_train = pd.DataFrame(x_train)\n",
    "\n",
    "x_test = mmscaler.fit_transform(x_test)\n",
    "x_test = pd.DataFrame(x_test)"
   ]
  },
  {
   "cell_type": "code",
   "execution_count": 35,
   "id": "2591c7b1",
   "metadata": {},
   "outputs": [
    {
     "name": "stdout",
     "output_type": "stream",
     "text": [
      "Mean Absolute Error (MAE): 0.241\n",
      "Mean Squared Error (MSE): 0.097\n",
      "Root Mean Squared Error (RMSE): 0.311\n",
      "R2_score: -0.038825\n",
      "Root Mean Squared Log Error (RMSLE): -1.169\n",
      "Mean Absolute Percentage Error (MAPE): 67.179 %\n",
      "Adj R Square:  -0.042904\n"
     ]
    }
   ],
   "source": [
    "# Train the algorithm and build the model with train dataset\n",
    "\n",
    "from sklearn.linear_model import LinearRegression\n",
    "\n",
    "MulRGR = LinearRegression()\n",
    "\n",
    "# Train the model with training dataset\n",
    "\n",
    "MulRGR.fit(x_train, y_train)\n",
    "\n",
    "# Predict the model with test dataset\n",
    "\n",
    "y_pred = MulRGR.predict(x_test)\n",
    "\n",
    "# Evaluation metrics for Regression analysis\n",
    "\n",
    "from sklearn import metrics\n",
    "\n",
    "print('Mean Absolute Error (MAE):', round(metrics.mean_absolute_error(y_test, y_pred),3))  \n",
    "print('Mean Squared Error (MSE):', round(metrics.mean_squared_error(y_test, y_pred),3))  \n",
    "print('Root Mean Squared Error (RMSE):', round(np.sqrt(metrics.mean_squared_error(y_test, y_pred)),3))\n",
    "print('R2_score:', round(metrics.r2_score(y_test, y_pred),6))\n",
    "print('Root Mean Squared Log Error (RMSLE):', round(np.log(np.sqrt(metrics.mean_squared_error(y_test, y_pred))),3))\n",
    "\n",
    "# Define the function to calculate the MAPE - Mean Absolute Percentage Error\n",
    "\n",
    "def MAPE (y_test, y_pred): \n",
    "    y_test, y_pred = np.array(y_test), np.array(y_pred)\n",
    "    return np.mean(np.abs((y_test - y_pred) / y_test)) * 100\n",
    "\n",
    "# Evaluation of MAPE \n",
    "\n",
    "result = MAPE(y_test, y_pred)\n",
    "print('Mean Absolute Percentage Error (MAPE):', round(result, 3), '%')\n",
    "\n",
    "# Calculate Adjusted R squared values \n",
    "\n",
    "r_squared = round(metrics.r2_score(y_test, y_pred),6)\n",
    "adjusted_r_squared = round(1 - (1-r_squared)*(len(y)-1)/(len(y)-x.shape[1]-1),6)\n",
    "print('Adj R Square: ', adjusted_r_squared)\n",
    "\n",
    "\n"
   ]
  },
  {
   "cell_type": "code",
   "execution_count": null,
   "id": "8a4b3be1",
   "metadata": {},
   "outputs": [],
   "source": []
  },
  {
   "cell_type": "code",
   "execution_count": null,
   "id": "f8b0ff93",
   "metadata": {},
   "outputs": [],
   "source": []
  }
 ],
 "metadata": {
  "kernelspec": {
   "display_name": "Python 3 (ipykernel)",
   "language": "python",
   "name": "python3"
  },
  "language_info": {
   "codemirror_mode": {
    "name": "ipython",
    "version": 3
   },
   "file_extension": ".py",
   "mimetype": "text/x-python",
   "name": "python",
   "nbconvert_exporter": "python",
   "pygments_lexer": "ipython3",
   "version": "3.9.12"
  }
 },
 "nbformat": 4,
 "nbformat_minor": 5
}
