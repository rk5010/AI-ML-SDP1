{
 "cells": [
  {
   "cell_type": "code",
   "execution_count": 1,
   "id": "7fbb0f45",
   "metadata": {},
   "outputs": [],
   "source": [
    "# Outliers in target variable? \n",
    "\n",
    "#  It depends. If you have enough training data available, you can choose to discard the outliers. But usually, it would \n",
    "# be a good idea to look at the data and decide the cause of the outlier before taking any action.\n",
    "\n",
    "# I believe dropping data is always a harsh step, and it should be taken only in extreme conditions when we’re sure that \n",
    "# the outlier is either a measurement/data entry error (it is not always known in the generic case though) or the artifact \n",
    "# to suboptimal sampling your training data\n",
    "\n",
    "# Before removing the outliers attributable to the measurement/data entry error, try to correct the error if possible \n",
    "# (before you drop the respective outlier)\n",
    "\n",
    "# If the extreme (outlier) value is a legitimate observation that is a natural part of the population you’re studying, \n",
    "# you should leave it in the training dataset\n",
    "\n",
    "# Whenever you decide to remove outliers, it would be nice to document the excluded data points as well as explain your \n",
    "# reasoning. You must be able to attribute a specific cause for removing outliers.\n",
    "\n",
    "# Another approach is to perform the analysis with and without these observations and discuss the differences. Comparing \n",
    "# results in this manner is particularly useful when you’re unsure about removing an outlier and when there is substantial \n",
    "# disagreement within a group over this question.\n",
    "\n",
    "# Last but not least, there are some good statistical and ML algorithms that can handle outliers in data solidly. If you \n",
    "# decide to engage with one of such algorithms in your ML experiments down the road, you can soften your outlier removal / \n",
    "# data correcting approach.\n"
   ]
  },
  {
   "cell_type": "code",
   "execution_count": 2,
   "id": "6be9f9f0",
   "metadata": {},
   "outputs": [],
   "source": [
    "# Importing the libraries\n",
    "\n",
    "import pandas as pd\n",
    "import numpy as np \n",
    "import matplotlib.pyplot as plt\n",
    "\n",
    "%matplotlib inline\n",
    "\n",
    "# Ignore harmless warnings \n",
    "\n",
    "import warnings \n",
    "warnings.filterwarnings(\"ignore\")\n",
    "\n",
    "# Set to display all the columns in dataset\n",
    "\n",
    "pd.set_option(\"display.max_columns\", None)\n",
    "\n",
    "# Import psql to run queries \n",
    "\n",
    "import pandasql as psql"
   ]
  },
  {
   "cell_type": "code",
   "execution_count": 23,
   "id": "13df532a",
   "metadata": {},
   "outputs": [
    {
     "data": {
      "text/html": [
       "<div>\n",
       "<style scoped>\n",
       "    .dataframe tbody tr th:only-of-type {\n",
       "        vertical-align: middle;\n",
       "    }\n",
       "\n",
       "    .dataframe tbody tr th {\n",
       "        vertical-align: top;\n",
       "    }\n",
       "\n",
       "    .dataframe thead th {\n",
       "        text-align: right;\n",
       "    }\n",
       "</style>\n",
       "<table border=\"1\" class=\"dataframe\">\n",
       "  <thead>\n",
       "    <tr style=\"text-align: right;\">\n",
       "      <th></th>\n",
       "      <th>HeightM</th>\n",
       "      <th>Weightkg</th>\n",
       "      <th>Fat</th>\n",
       "      <th>BMI</th>\n",
       "    </tr>\n",
       "  </thead>\n",
       "  <tbody>\n",
       "    <tr>\n",
       "      <th>0</th>\n",
       "      <td>1.60</td>\n",
       "      <td>49.44</td>\n",
       "      <td>23.9</td>\n",
       "      <td>19.31</td>\n",
       "    </tr>\n",
       "    <tr>\n",
       "      <th>1</th>\n",
       "      <td>1.65</td>\n",
       "      <td>62.60</td>\n",
       "      <td>28.8</td>\n",
       "      <td>22.96</td>\n",
       "    </tr>\n",
       "    <tr>\n",
       "      <th>2</th>\n",
       "      <td>1.65</td>\n",
       "      <td>75.75</td>\n",
       "      <td>32.4</td>\n",
       "      <td>27.79</td>\n",
       "    </tr>\n",
       "    <tr>\n",
       "      <th>3</th>\n",
       "      <td>1.53</td>\n",
       "      <td>48.99</td>\n",
       "      <td>25.8</td>\n",
       "      <td>20.92</td>\n",
       "    </tr>\n",
       "    <tr>\n",
       "      <th>4</th>\n",
       "      <td>1.45</td>\n",
       "      <td>43.09</td>\n",
       "      <td>22.5</td>\n",
       "      <td>20.38</td>\n",
       "    </tr>\n",
       "  </tbody>\n",
       "</table>\n",
       "</div>"
      ],
      "text/plain": [
       "   HeightM  Weightkg   Fat    BMI\n",
       "0     1.60     49.44  23.9  19.31\n",
       "1     1.65     62.60  28.8  22.96\n",
       "2     1.65     75.75  32.4  27.79\n",
       "3     1.53     48.99  25.8  20.92\n",
       "4     1.45     43.09  22.5  20.38"
      ]
     },
     "execution_count": 23,
     "metadata": {},
     "output_type": "execute_result"
    }
   ],
   "source": [
    "# Load the general dataset\n",
    "\n",
    "HOutliers = pd.read_excel(r\"C:\\Users\\Admin\\Downloads\\Raju Sir DLS\\Predict_BMI.xlsx\", header=0)\n",
    "HOutliers.head()"
   ]
  },
  {
   "cell_type": "code",
   "execution_count": 24,
   "id": "8f1691c7",
   "metadata": {},
   "outputs": [
    {
     "name": "stdout",
     "output_type": "stream",
     "text": [
      "<class 'pandas.core.frame.DataFrame'>\n",
      "RangeIndex: 92 entries, 0 to 91\n",
      "Data columns (total 4 columns):\n",
      " #   Column    Non-Null Count  Dtype  \n",
      "---  ------    --------------  -----  \n",
      " 0   HeightM   92 non-null     float64\n",
      " 1   Weightkg  92 non-null     float64\n",
      " 2   Fat       92 non-null     float64\n",
      " 3   BMI       92 non-null     float64\n",
      "dtypes: float64(4)\n",
      "memory usage: 3.0 KB\n"
     ]
    }
   ],
   "source": [
    "# Display the dataset information\n",
    "\n",
    "HOutliers.info()"
   ]
  },
  {
   "cell_type": "code",
   "execution_count": 25,
   "id": "021f4b68",
   "metadata": {},
   "outputs": [
    {
     "data": {
      "text/plain": [
       "(92, 4)"
      ]
     },
     "execution_count": 25,
     "metadata": {},
     "output_type": "execute_result"
    }
   ],
   "source": [
    "# Display the shape of the dataset\n",
    "\n",
    "HOutliers.shape"
   ]
  },
  {
   "cell_type": "code",
   "execution_count": 26,
   "id": "ac48403a",
   "metadata": {},
   "outputs": [
    {
     "data": {
      "text/html": [
       "<div>\n",
       "<style scoped>\n",
       "    .dataframe tbody tr th:only-of-type {\n",
       "        vertical-align: middle;\n",
       "    }\n",
       "\n",
       "    .dataframe tbody tr th {\n",
       "        vertical-align: top;\n",
       "    }\n",
       "\n",
       "    .dataframe thead th {\n",
       "        text-align: right;\n",
       "    }\n",
       "</style>\n",
       "<table border=\"1\" class=\"dataframe\">\n",
       "  <thead>\n",
       "    <tr style=\"text-align: right;\">\n",
       "      <th></th>\n",
       "      <th>HeightM</th>\n",
       "      <th>Weightkg</th>\n",
       "      <th>Fat</th>\n",
       "      <th>BMI</th>\n",
       "    </tr>\n",
       "  </thead>\n",
       "  <tbody>\n",
       "    <tr>\n",
       "      <th>count</th>\n",
       "      <td>92.000000</td>\n",
       "      <td>92.000000</td>\n",
       "      <td>92.000000</td>\n",
       "      <td>92.000000</td>\n",
       "    </tr>\n",
       "    <tr>\n",
       "      <th>mean</th>\n",
       "      <td>1.511522</td>\n",
       "      <td>47.865000</td>\n",
       "      <td>26.961957</td>\n",
       "      <td>20.705435</td>\n",
       "    </tr>\n",
       "    <tr>\n",
       "      <th>std</th>\n",
       "      <td>0.074035</td>\n",
       "      <td>13.077016</td>\n",
       "      <td>7.142888</td>\n",
       "      <td>4.325066</td>\n",
       "    </tr>\n",
       "    <tr>\n",
       "      <th>min</th>\n",
       "      <td>1.330000</td>\n",
       "      <td>29.260000</td>\n",
       "      <td>15.600000</td>\n",
       "      <td>14.990000</td>\n",
       "    </tr>\n",
       "    <tr>\n",
       "      <th>25%</th>\n",
       "      <td>1.460000</td>\n",
       "      <td>38.952500</td>\n",
       "      <td>21.075000</td>\n",
       "      <td>17.707500</td>\n",
       "    </tr>\n",
       "    <tr>\n",
       "      <th>50%</th>\n",
       "      <td>1.500000</td>\n",
       "      <td>45.475000</td>\n",
       "      <td>25.500000</td>\n",
       "      <td>19.480000</td>\n",
       "    </tr>\n",
       "    <tr>\n",
       "      <th>75%</th>\n",
       "      <td>1.570000</td>\n",
       "      <td>52.705000</td>\n",
       "      <td>31.975000</td>\n",
       "      <td>22.735000</td>\n",
       "    </tr>\n",
       "    <tr>\n",
       "      <th>max</th>\n",
       "      <td>1.660000</td>\n",
       "      <td>87.540000</td>\n",
       "      <td>46.000000</td>\n",
       "      <td>34.460000</td>\n",
       "    </tr>\n",
       "  </tbody>\n",
       "</table>\n",
       "</div>"
      ],
      "text/plain": [
       "         HeightM   Weightkg        Fat        BMI\n",
       "count  92.000000  92.000000  92.000000  92.000000\n",
       "mean    1.511522  47.865000  26.961957  20.705435\n",
       "std     0.074035  13.077016   7.142888   4.325066\n",
       "min     1.330000  29.260000  15.600000  14.990000\n",
       "25%     1.460000  38.952500  21.075000  17.707500\n",
       "50%     1.500000  45.475000  25.500000  19.480000\n",
       "75%     1.570000  52.705000  31.975000  22.735000\n",
       "max     1.660000  87.540000  46.000000  34.460000"
      ]
     },
     "execution_count": 26,
     "metadata": {},
     "output_type": "execute_result"
    }
   ],
   "source": [
    "# Display \"Descriptive Statistical Analysis\"\n",
    "\n",
    "HOutliers.describe()"
   ]
  },
  {
   "cell_type": "code",
   "execution_count": 27,
   "id": "178cf672",
   "metadata": {},
   "outputs": [
    {
     "data": {
      "image/png": "[encoded data removed]",
      "text/plain": [
       "<Figure size 432x288 with 1 Axes>"
      ]
     },
     "metadata": {
      "needs_background": "light"
     },
     "output_type": "display_data"
    }
   ],
   "source": [
    "# Plot Histogram\n",
    "\n",
    "plt.hist(HOutliers.BMI, bins=20, rwidth=0.8)\n",
    "plt.xlabel('BMI')\n",
    "plt.ylabel('Count')\n",
    "plt.show()"
   ]
  },
  {
   "cell_type": "code",
   "execution_count": 28,
   "id": "63230c3f",
   "metadata": {},
   "outputs": [
    {
     "data": {
      "text/plain": [
       "[<matplotlib.lines.Line2D at 0x264c9c5c520>]"
      ]
     },
     "execution_count": 28,
     "metadata": {},
     "output_type": "execute_result"
    },
    {
     "data": {
      "image/png": "[encoded data removed]",
      "text/plain": [
       "<Figure size 432x288 with 1 Axes>"
      ]
     },
     "metadata": {
      "needs_background": "light"
     },
     "output_type": "display_data"
    }
   ],
   "source": [
    "# Gaussian distribution (also known as normal distribution) is a bell-shaped curve\n",
    "\n",
    "from scipy.stats import norm\n",
    "\n",
    "plt.hist(HOutliers.BMI, bins=20, rwidth=0.8, density=True)\n",
    "plt.xlabel('BMI')\n",
    "plt.ylabel('Count')\n",
    "\n",
    "rng = np.arange(HOutliers.BMI.min(), HOutliers.BMI.max(), 0.1)\n",
    "plt.plot(rng, norm.pdf(rng, HOutliers.BMI.mean(),HOutliers.BMI.std()))"
   ]
  },
  {
   "cell_type": "code",
   "execution_count": 29,
   "id": "06c526eb",
   "metadata": {},
   "outputs": [
    {
     "data": {
      "text/plain": [
       "4.325066070267999"
      ]
     },
     "execution_count": 29,
     "metadata": {},
     "output_type": "execute_result"
    }
   ],
   "source": [
    "# Calculate the standard deviation\n",
    "\n",
    "HOutliers.BMI.std()"
   ]
  },
  {
   "cell_type": "code",
   "execution_count": 30,
   "id": "836a0b74",
   "metadata": {},
   "outputs": [
    {
     "data": {
      "text/plain": [
       "33.681"
      ]
     },
     "execution_count": 30,
     "metadata": {},
     "output_type": "execute_result"
    }
   ],
   "source": [
    "# Calculat upper limit as  \"Upper Limit = mean + 3 * std\"\n",
    "\n",
    "BMIupper_limit = round(HOutliers.BMI.mean() + 3 * HOutliers.BMI.std(),3)\n",
    "BMIupper_limit"
   ]
  },
  {
   "cell_type": "code",
   "execution_count": 31,
   "id": "898f5ea8",
   "metadata": {},
   "outputs": [
    {
     "data": {
      "text/plain": [
       "7.73"
      ]
     },
     "execution_count": 31,
     "metadata": {},
     "output_type": "execute_result"
    }
   ],
   "source": [
    "# Calculat Lower limit as \"Lower Limit = mean - 3 * std\" \n",
    "\n",
    "BMIlower_limit = round(HOutliers.BMI.mean() - 3 * HOutliers.BMI.std(), 3)\n",
    "BMIlower_limit"
   ]
  },
  {
   "cell_type": "code",
   "execution_count": 32,
   "id": "58802b77",
   "metadata": {},
   "outputs": [
    {
     "data": {
      "text/plain": [
       "48.391"
      ]
     },
     "execution_count": 32,
     "metadata": {},
     "output_type": "execute_result"
    }
   ],
   "source": [
    "#Upper Limit for Fat\n",
    "\n",
    "Fatupper_limit = round(HOutliers.Fat.mean() + 3 * HOutliers.Fat.std(), 3)\n",
    "Fatupper_limit\n",
    "\n"
   ]
  },
  {
   "cell_type": "code",
   "execution_count": 33,
   "id": "585899f5",
   "metadata": {},
   "outputs": [
    {
     "data": {
      "text/plain": [
       "5.533"
      ]
     },
     "execution_count": 33,
     "metadata": {},
     "output_type": "execute_result"
    }
   ],
   "source": [
    "#Lower limit for Fat\n",
    "\n",
    "Fatlower_limit = round(HOutliers.Fat.mean() - 3 * HOutliers.Fat.std(), 3)\n",
    "Fatlower_limit"
   ]
  },
  {
   "cell_type": "code",
   "execution_count": 37,
   "id": "e87bdbe9",
   "metadata": {},
   "outputs": [
    {
     "data": {
      "text/plain": [
       "87.096"
      ]
     },
     "execution_count": 37,
     "metadata": {},
     "output_type": "execute_result"
    }
   ],
   "source": [
    "#Upper Limit for Weight\n",
    "\n",
    "Wtupper_limit = round(HOutliers.Weightkg.mean() + 3 * HOutliers.Weightkg.std(), 3)\n",
    "Wtupper_limit\n"
   ]
  },
  {
   "cell_type": "code",
   "execution_count": 38,
   "id": "98d87066",
   "metadata": {},
   "outputs": [
    {
     "data": {
      "text/plain": [
       "8.634"
      ]
     },
     "execution_count": 38,
     "metadata": {},
     "output_type": "execute_result"
    }
   ],
   "source": [
    "#Lower limit for Weight\n",
    "\n",
    "Wtlower_limit = round(HOutliers.Weightkg.mean() - 3 * HOutliers.Weightkg.std(), 3)\n",
    "Wtlower_limit"
   ]
  },
  {
   "cell_type": "code",
   "execution_count": 39,
   "id": "91873112",
   "metadata": {},
   "outputs": [
    {
     "data": {
      "text/plain": [
       "1.734"
      ]
     },
     "execution_count": 39,
     "metadata": {},
     "output_type": "execute_result"
    }
   ],
   "source": [
    "#Upper Limit for Height\n",
    "\n",
    "Htupper_limit = round(HOutliers.HeightM.mean() + 3 * HOutliers.HeightM.std(), 3)\n",
    "Htupper_limit"
   ]
  },
  {
   "cell_type": "code",
   "execution_count": 40,
   "id": "c0d91e8e",
   "metadata": {},
   "outputs": [
    {
     "data": {
      "text/plain": [
       "1.289"
      ]
     },
     "execution_count": 40,
     "metadata": {},
     "output_type": "execute_result"
    }
   ],
   "source": [
    "#Lower limit for Weight\n",
    "\n",
    "Htlower_limit = round(HOutliers.HeightM.mean() - 3 * HOutliers.HeightM.std(), 3)\n",
    "Htlower_limit"
   ]
  },
  {
   "cell_type": "code",
   "execution_count": 41,
   "id": "66b4907b",
   "metadata": {},
   "outputs": [
    {
     "data": {
      "text/html": [
       "<div>\n",
       "<style scoped>\n",
       "    .dataframe tbody tr th:only-of-type {\n",
       "        vertical-align: middle;\n",
       "    }\n",
       "\n",
       "    .dataframe tbody tr th {\n",
       "        vertical-align: top;\n",
       "    }\n",
       "\n",
       "    .dataframe thead th {\n",
       "        text-align: right;\n",
       "    }\n",
       "</style>\n",
       "<table border=\"1\" class=\"dataframe\">\n",
       "  <thead>\n",
       "    <tr style=\"text-align: right;\">\n",
       "      <th></th>\n",
       "      <th>HeightM</th>\n",
       "      <th>Weightkg</th>\n",
       "      <th>Fat</th>\n",
       "      <th>BMI</th>\n",
       "    </tr>\n",
       "  </thead>\n",
       "  <tbody>\n",
       "    <tr>\n",
       "      <th>56</th>\n",
       "      <td>1.59</td>\n",
       "      <td>87.54</td>\n",
       "      <td>38.0</td>\n",
       "      <td>34.46</td>\n",
       "    </tr>\n",
       "  </tbody>\n",
       "</table>\n",
       "</div>"
      ],
      "text/plain": [
       "    HeightM  Weightkg   Fat    BMI\n",
       "56     1.59     87.54  38.0  34.46"
      ]
     },
     "execution_count": 41,
     "metadata": {},
     "output_type": "execute_result"
    }
   ],
   "source": [
    "# Display the outlier in the dataset\n",
    "\n",
    "HOutliers[(HOutliers.BMI>upper_limit) | (HOutliers.BMI<lower_limit)]"
   ]
  },
  {
   "cell_type": "code",
   "execution_count": 42,
   "id": "ad53bd68",
   "metadata": {},
   "outputs": [
    {
     "data": {
      "text/html": [
       "<div>\n",
       "<style scoped>\n",
       "    .dataframe tbody tr th:only-of-type {\n",
       "        vertical-align: middle;\n",
       "    }\n",
       "\n",
       "    .dataframe tbody tr th {\n",
       "        vertical-align: top;\n",
       "    }\n",
       "\n",
       "    .dataframe thead th {\n",
       "        text-align: right;\n",
       "    }\n",
       "</style>\n",
       "<table border=\"1\" class=\"dataframe\">\n",
       "  <thead>\n",
       "    <tr style=\"text-align: right;\">\n",
       "      <th></th>\n",
       "      <th>HeightM</th>\n",
       "      <th>Weightkg</th>\n",
       "      <th>Fat</th>\n",
       "      <th>BMI</th>\n",
       "    </tr>\n",
       "  </thead>\n",
       "  <tbody>\n",
       "    <tr>\n",
       "      <th>0</th>\n",
       "      <td>1.60</td>\n",
       "      <td>49.44</td>\n",
       "      <td>23.9</td>\n",
       "      <td>19.31</td>\n",
       "    </tr>\n",
       "    <tr>\n",
       "      <th>1</th>\n",
       "      <td>1.65</td>\n",
       "      <td>62.60</td>\n",
       "      <td>28.8</td>\n",
       "      <td>22.96</td>\n",
       "    </tr>\n",
       "    <tr>\n",
       "      <th>2</th>\n",
       "      <td>1.65</td>\n",
       "      <td>75.75</td>\n",
       "      <td>32.4</td>\n",
       "      <td>27.79</td>\n",
       "    </tr>\n",
       "    <tr>\n",
       "      <th>3</th>\n",
       "      <td>1.53</td>\n",
       "      <td>48.99</td>\n",
       "      <td>25.8</td>\n",
       "      <td>20.92</td>\n",
       "    </tr>\n",
       "    <tr>\n",
       "      <th>4</th>\n",
       "      <td>1.45</td>\n",
       "      <td>43.09</td>\n",
       "      <td>22.5</td>\n",
       "      <td>20.38</td>\n",
       "    </tr>\n",
       "  </tbody>\n",
       "</table>\n",
       "</div>"
      ],
      "text/plain": [
       "   HeightM  Weightkg   Fat    BMI\n",
       "0     1.60     49.44  23.9  19.31\n",
       "1     1.65     62.60  28.8  22.96\n",
       "2     1.65     75.75  32.4  27.79\n",
       "3     1.53     48.99  25.8  20.92\n",
       "4     1.45     43.09  22.5  20.38"
      ]
     },
     "execution_count": 42,
     "metadata": {},
     "output_type": "execute_result"
    }
   ],
   "source": [
    "# Eliminate the outlier and write data to new file\n",
    "\n",
    "HOutliers_new = HOutliers[(HOutliers.BMI>lower_limit) & (HOutliers.BMI<upper_limit)]\n",
    "HOutliers_new.head()"
   ]
  },
  {
   "cell_type": "code",
   "execution_count": 43,
   "id": "35219425",
   "metadata": {},
   "outputs": [
    {
     "data": {
      "text/plain": [
       "(91, 4)"
      ]
     },
     "execution_count": 43,
     "metadata": {},
     "output_type": "execute_result"
    }
   ],
   "source": [
    "HOutliers_new.shape"
   ]
  },
  {
   "cell_type": "code",
   "execution_count": 45,
   "id": "f5c2fb3b",
   "metadata": {},
   "outputs": [
    {
     "data": {
      "text/html": [
       "<div>\n",
       "<style scoped>\n",
       "    .dataframe tbody tr th:only-of-type {\n",
       "        vertical-align: middle;\n",
       "    }\n",
       "\n",
       "    .dataframe tbody tr th {\n",
       "        vertical-align: top;\n",
       "    }\n",
       "\n",
       "    .dataframe thead th {\n",
       "        text-align: right;\n",
       "    }\n",
       "</style>\n",
       "<table border=\"1\" class=\"dataframe\">\n",
       "  <thead>\n",
       "    <tr style=\"text-align: right;\">\n",
       "      <th></th>\n",
       "      <th>HeightM</th>\n",
       "      <th>Weightkg</th>\n",
       "      <th>Fat</th>\n",
       "      <th>BMI</th>\n",
       "    </tr>\n",
       "  </thead>\n",
       "  <tbody>\n",
       "    <tr>\n",
       "      <th>10</th>\n",
       "      <td>1.47</td>\n",
       "      <td>46.04</td>\n",
       "      <td>33.7</td>\n",
       "      <td>21.21</td>\n",
       "    </tr>\n",
       "    <tr>\n",
       "      <th>15</th>\n",
       "      <td>1.52</td>\n",
       "      <td>62.37</td>\n",
       "      <td>37.9</td>\n",
       "      <td>26.85</td>\n",
       "    </tr>\n",
       "    <tr>\n",
       "      <th>17</th>\n",
       "      <td>1.58</td>\n",
       "      <td>74.39</td>\n",
       "      <td>40.6</td>\n",
       "      <td>29.76</td>\n",
       "    </tr>\n",
       "    <tr>\n",
       "      <th>18</th>\n",
       "      <td>1.52</td>\n",
       "      <td>55.57</td>\n",
       "      <td>36.3</td>\n",
       "      <td>23.92</td>\n",
       "    </tr>\n",
       "    <tr>\n",
       "      <th>46</th>\n",
       "      <td>1.47</td>\n",
       "      <td>54.54</td>\n",
       "      <td>38.4</td>\n",
       "      <td>25.13</td>\n",
       "    </tr>\n",
       "    <tr>\n",
       "      <th>48</th>\n",
       "      <td>1.44</td>\n",
       "      <td>51.03</td>\n",
       "      <td>36.4</td>\n",
       "      <td>24.56</td>\n",
       "    </tr>\n",
       "    <tr>\n",
       "      <th>50</th>\n",
       "      <td>1.58</td>\n",
       "      <td>60.33</td>\n",
       "      <td>39.7</td>\n",
       "      <td>24.13</td>\n",
       "    </tr>\n",
       "    <tr>\n",
       "      <th>52</th>\n",
       "      <td>1.58</td>\n",
       "      <td>83.91</td>\n",
       "      <td>46.0</td>\n",
       "      <td>33.57</td>\n",
       "    </tr>\n",
       "    <tr>\n",
       "      <th>53</th>\n",
       "      <td>1.55</td>\n",
       "      <td>69.97</td>\n",
       "      <td>38.9</td>\n",
       "      <td>29.14</td>\n",
       "    </tr>\n",
       "    <tr>\n",
       "      <th>54</th>\n",
       "      <td>1.64</td>\n",
       "      <td>77.34</td>\n",
       "      <td>42.2</td>\n",
       "      <td>28.59</td>\n",
       "    </tr>\n",
       "    <tr>\n",
       "      <th>55</th>\n",
       "      <td>1.49</td>\n",
       "      <td>58.29</td>\n",
       "      <td>36.7</td>\n",
       "      <td>26.17</td>\n",
       "    </tr>\n",
       "    <tr>\n",
       "      <th>56</th>\n",
       "      <td>1.59</td>\n",
       "      <td>87.54</td>\n",
       "      <td>38.0</td>\n",
       "      <td>34.46</td>\n",
       "    </tr>\n",
       "    <tr>\n",
       "      <th>58</th>\n",
       "      <td>1.42</td>\n",
       "      <td>47.63</td>\n",
       "      <td>35.9</td>\n",
       "      <td>23.54</td>\n",
       "    </tr>\n",
       "    <tr>\n",
       "      <th>60</th>\n",
       "      <td>1.66</td>\n",
       "      <td>80.74</td>\n",
       "      <td>40.8</td>\n",
       "      <td>29.17</td>\n",
       "    </tr>\n",
       "    <tr>\n",
       "      <th>62</th>\n",
       "      <td>1.49</td>\n",
       "      <td>50.46</td>\n",
       "      <td>37.6</td>\n",
       "      <td>22.66</td>\n",
       "    </tr>\n",
       "    <tr>\n",
       "      <th>63</th>\n",
       "      <td>1.65</td>\n",
       "      <td>81.99</td>\n",
       "      <td>35.9</td>\n",
       "      <td>30.08</td>\n",
       "    </tr>\n",
       "    <tr>\n",
       "      <th>64</th>\n",
       "      <td>1.53</td>\n",
       "      <td>52.96</td>\n",
       "      <td>36.3</td>\n",
       "      <td>22.61</td>\n",
       "    </tr>\n",
       "    <tr>\n",
       "      <th>66</th>\n",
       "      <td>1.53</td>\n",
       "      <td>73.37</td>\n",
       "      <td>40.5</td>\n",
       "      <td>31.33</td>\n",
       "    </tr>\n",
       "  </tbody>\n",
       "</table>\n",
       "</div>"
      ],
      "text/plain": [
       "    HeightM  Weightkg   Fat    BMI\n",
       "10     1.47     46.04  33.7  21.21\n",
       "15     1.52     62.37  37.9  26.85\n",
       "17     1.58     74.39  40.6  29.76\n",
       "18     1.52     55.57  36.3  23.92\n",
       "46     1.47     54.54  38.4  25.13\n",
       "48     1.44     51.03  36.4  24.56\n",
       "50     1.58     60.33  39.7  24.13\n",
       "52     1.58     83.91  46.0  33.57\n",
       "53     1.55     69.97  38.9  29.14\n",
       "54     1.64     77.34  42.2  28.59\n",
       "55     1.49     58.29  36.7  26.17\n",
       "56     1.59     87.54  38.0  34.46\n",
       "58     1.42     47.63  35.9  23.54\n",
       "60     1.66     80.74  40.8  29.17\n",
       "62     1.49     50.46  37.6  22.66\n",
       "63     1.65     81.99  35.9  30.08\n",
       "64     1.53     52.96  36.3  22.61\n",
       "66     1.53     73.37  40.5  31.33"
      ]
     },
     "execution_count": 45,
     "metadata": {},
     "output_type": "execute_result"
    }
   ],
   "source": [
    "# Display the fat outlier in the dataset\n",
    "\n",
    "HOutliers[(HOutliers.Fat>upper_limit) | (HOutliers.Fat<lower_limit)]"
   ]
  },
  {
   "cell_type": "code",
   "execution_count": 46,
   "id": "9e4f23c0",
   "metadata": {},
   "outputs": [
    {
     "data": {
      "text/html": [
       "<div>\n",
       "<style scoped>\n",
       "    .dataframe tbody tr th:only-of-type {\n",
       "        vertical-align: middle;\n",
       "    }\n",
       "\n",
       "    .dataframe tbody tr th {\n",
       "        vertical-align: top;\n",
       "    }\n",
       "\n",
       "    .dataframe thead th {\n",
       "        text-align: right;\n",
       "    }\n",
       "</style>\n",
       "<table border=\"1\" class=\"dataframe\">\n",
       "  <thead>\n",
       "    <tr style=\"text-align: right;\">\n",
       "      <th></th>\n",
       "      <th>HeightM</th>\n",
       "      <th>Weightkg</th>\n",
       "      <th>Fat</th>\n",
       "      <th>BMI</th>\n",
       "    </tr>\n",
       "  </thead>\n",
       "  <tbody>\n",
       "    <tr>\n",
       "      <th>0</th>\n",
       "      <td>1.60</td>\n",
       "      <td>49.44</td>\n",
       "      <td>23.9</td>\n",
       "      <td>19.31</td>\n",
       "    </tr>\n",
       "    <tr>\n",
       "      <th>1</th>\n",
       "      <td>1.65</td>\n",
       "      <td>62.60</td>\n",
       "      <td>28.8</td>\n",
       "      <td>22.96</td>\n",
       "    </tr>\n",
       "    <tr>\n",
       "      <th>2</th>\n",
       "      <td>1.65</td>\n",
       "      <td>75.75</td>\n",
       "      <td>32.4</td>\n",
       "      <td>27.79</td>\n",
       "    </tr>\n",
       "    <tr>\n",
       "      <th>3</th>\n",
       "      <td>1.53</td>\n",
       "      <td>48.99</td>\n",
       "      <td>25.8</td>\n",
       "      <td>20.92</td>\n",
       "    </tr>\n",
       "    <tr>\n",
       "      <th>4</th>\n",
       "      <td>1.45</td>\n",
       "      <td>43.09</td>\n",
       "      <td>22.5</td>\n",
       "      <td>20.38</td>\n",
       "    </tr>\n",
       "  </tbody>\n",
       "</table>\n",
       "</div>"
      ],
      "text/plain": [
       "   HeightM  Weightkg   Fat    BMI\n",
       "0     1.60     49.44  23.9  19.31\n",
       "1     1.65     62.60  28.8  22.96\n",
       "2     1.65     75.75  32.4  27.79\n",
       "3     1.53     48.99  25.8  20.92\n",
       "4     1.45     43.09  22.5  20.38"
      ]
     },
     "execution_count": 46,
     "metadata": {},
     "output_type": "execute_result"
    }
   ],
   "source": [
    "# Eliminate the outlier and write data to new file\n",
    "\n",
    "HOutliers_new = HOutliers[(HOutliers.Fat>lower_limit) & (HOutliers.Fat<upper_limit)]\n",
    "HOutliers_new.head()"
   ]
  },
  {
   "cell_type": "code",
   "execution_count": 47,
   "id": "fe6be75c",
   "metadata": {},
   "outputs": [
    {
     "data": {
      "text/plain": [
       "(74, 4)"
      ]
     },
     "execution_count": 47,
     "metadata": {},
     "output_type": "execute_result"
    }
   ],
   "source": [
    "HOutliers_new.shape"
   ]
  },
  {
   "cell_type": "code",
   "execution_count": 48,
   "id": "4298de0e",
   "metadata": {},
   "outputs": [
    {
     "data": {
      "text/html": [
       "<div>\n",
       "<style scoped>\n",
       "    .dataframe tbody tr th:only-of-type {\n",
       "        vertical-align: middle;\n",
       "    }\n",
       "\n",
       "    .dataframe tbody tr th {\n",
       "        vertical-align: top;\n",
       "    }\n",
       "\n",
       "    .dataframe thead th {\n",
       "        text-align: right;\n",
       "    }\n",
       "</style>\n",
       "<table border=\"1\" class=\"dataframe\">\n",
       "  <thead>\n",
       "    <tr style=\"text-align: right;\">\n",
       "      <th></th>\n",
       "      <th>HeightM</th>\n",
       "      <th>Weightkg</th>\n",
       "      <th>Fat</th>\n",
       "      <th>BMI</th>\n",
       "    </tr>\n",
       "  </thead>\n",
       "  <tbody>\n",
       "    <tr>\n",
       "      <th>0</th>\n",
       "      <td>1.60</td>\n",
       "      <td>49.44</td>\n",
       "      <td>23.9</td>\n",
       "      <td>19.31</td>\n",
       "    </tr>\n",
       "    <tr>\n",
       "      <th>1</th>\n",
       "      <td>1.65</td>\n",
       "      <td>62.60</td>\n",
       "      <td>28.8</td>\n",
       "      <td>22.96</td>\n",
       "    </tr>\n",
       "    <tr>\n",
       "      <th>2</th>\n",
       "      <td>1.65</td>\n",
       "      <td>75.75</td>\n",
       "      <td>32.4</td>\n",
       "      <td>27.79</td>\n",
       "    </tr>\n",
       "    <tr>\n",
       "      <th>3</th>\n",
       "      <td>1.53</td>\n",
       "      <td>48.99</td>\n",
       "      <td>25.8</td>\n",
       "      <td>20.92</td>\n",
       "    </tr>\n",
       "    <tr>\n",
       "      <th>4</th>\n",
       "      <td>1.45</td>\n",
       "      <td>43.09</td>\n",
       "      <td>22.5</td>\n",
       "      <td>20.38</td>\n",
       "    </tr>\n",
       "    <tr>\n",
       "      <th>...</th>\n",
       "      <td>...</td>\n",
       "      <td>...</td>\n",
       "      <td>...</td>\n",
       "      <td>...</td>\n",
       "    </tr>\n",
       "    <tr>\n",
       "      <th>86</th>\n",
       "      <td>1.49</td>\n",
       "      <td>41.62</td>\n",
       "      <td>24.5</td>\n",
       "      <td>18.69</td>\n",
       "    </tr>\n",
       "    <tr>\n",
       "      <th>87</th>\n",
       "      <td>1.49</td>\n",
       "      <td>39.01</td>\n",
       "      <td>23.3</td>\n",
       "      <td>17.52</td>\n",
       "    </tr>\n",
       "    <tr>\n",
       "      <th>88</th>\n",
       "      <td>1.60</td>\n",
       "      <td>41.28</td>\n",
       "      <td>20.1</td>\n",
       "      <td>16.12</td>\n",
       "    </tr>\n",
       "    <tr>\n",
       "      <th>89</th>\n",
       "      <td>1.42</td>\n",
       "      <td>38.10</td>\n",
       "      <td>30.3</td>\n",
       "      <td>18.83</td>\n",
       "    </tr>\n",
       "    <tr>\n",
       "      <th>91</th>\n",
       "      <td>1.45</td>\n",
       "      <td>38.56</td>\n",
       "      <td>26.0</td>\n",
       "      <td>18.39</td>\n",
       "    </tr>\n",
       "  </tbody>\n",
       "</table>\n",
       "<p>84 rows × 4 columns</p>\n",
       "</div>"
      ],
      "text/plain": [
       "    HeightM  Weightkg   Fat    BMI\n",
       "0      1.60     49.44  23.9  19.31\n",
       "1      1.65     62.60  28.8  22.96\n",
       "2      1.65     75.75  32.4  27.79\n",
       "3      1.53     48.99  25.8  20.92\n",
       "4      1.45     43.09  22.5  20.38\n",
       "..      ...       ...   ...    ...\n",
       "86     1.49     41.62  24.5  18.69\n",
       "87     1.49     39.01  23.3  17.52\n",
       "88     1.60     41.28  20.1  16.12\n",
       "89     1.42     38.10  30.3  18.83\n",
       "91     1.45     38.56  26.0  18.39\n",
       "\n",
       "[84 rows x 4 columns]"
      ]
     },
     "execution_count": 48,
     "metadata": {},
     "output_type": "execute_result"
    }
   ],
   "source": [
    "# Display the weight outlier in the dataset\n",
    "\n",
    "HOutliers[(HOutliers.Weightkg>upper_limit) | (HOutliers.Weightkg<lower_limit)]"
   ]
  },
  {
   "cell_type": "code",
   "execution_count": 49,
   "id": "f892ee08",
   "metadata": {},
   "outputs": [
    {
     "data": {
      "text/html": [
       "<div>\n",
       "<style scoped>\n",
       "    .dataframe tbody tr th:only-of-type {\n",
       "        vertical-align: middle;\n",
       "    }\n",
       "\n",
       "    .dataframe tbody tr th {\n",
       "        vertical-align: top;\n",
       "    }\n",
       "\n",
       "    .dataframe thead th {\n",
       "        text-align: right;\n",
       "    }\n",
       "</style>\n",
       "<table border=\"1\" class=\"dataframe\">\n",
       "  <thead>\n",
       "    <tr style=\"text-align: right;\">\n",
       "      <th></th>\n",
       "      <th>HeightM</th>\n",
       "      <th>Weightkg</th>\n",
       "      <th>Fat</th>\n",
       "      <th>BMI</th>\n",
       "    </tr>\n",
       "  </thead>\n",
       "  <tbody>\n",
       "    <tr>\n",
       "      <th>34</th>\n",
       "      <td>1.45</td>\n",
       "      <td>33.45</td>\n",
       "      <td>18.7</td>\n",
       "      <td>15.82</td>\n",
       "    </tr>\n",
       "    <tr>\n",
       "      <th>36</th>\n",
       "      <td>1.42</td>\n",
       "      <td>30.05</td>\n",
       "      <td>17.1</td>\n",
       "      <td>14.99</td>\n",
       "    </tr>\n",
       "    <tr>\n",
       "      <th>37</th>\n",
       "      <td>1.38</td>\n",
       "      <td>32.09</td>\n",
       "      <td>26.2</td>\n",
       "      <td>16.75</td>\n",
       "    </tr>\n",
       "    <tr>\n",
       "      <th>41</th>\n",
       "      <td>1.45</td>\n",
       "      <td>32.66</td>\n",
       "      <td>18.1</td>\n",
       "      <td>15.58</td>\n",
       "    </tr>\n",
       "    <tr>\n",
       "      <th>42</th>\n",
       "      <td>1.33</td>\n",
       "      <td>30.50</td>\n",
       "      <td>29.8</td>\n",
       "      <td>17.15</td>\n",
       "    </tr>\n",
       "  </tbody>\n",
       "</table>\n",
       "</div>"
      ],
      "text/plain": [
       "    HeightM  Weightkg   Fat    BMI\n",
       "34     1.45     33.45  18.7  15.82\n",
       "36     1.42     30.05  17.1  14.99\n",
       "37     1.38     32.09  26.2  16.75\n",
       "41     1.45     32.66  18.1  15.58\n",
       "42     1.33     30.50  29.8  17.15"
      ]
     },
     "execution_count": 49,
     "metadata": {},
     "output_type": "execute_result"
    }
   ],
   "source": [
    "# Eliminate the outlier and write data to new file\n",
    "\n",
    "HOutliers_new = HOutliers[(HOutliers.Weightkg>lower_limit) & (HOutliers.Weightkg<upper_limit)]\n",
    "HOutliers_new.head()"
   ]
  },
  {
   "cell_type": "code",
   "execution_count": 50,
   "id": "2cb4317d",
   "metadata": {},
   "outputs": [
    {
     "data": {
      "text/plain": [
       "(8, 4)"
      ]
     },
     "execution_count": 50,
     "metadata": {},
     "output_type": "execute_result"
    }
   ],
   "source": [
    "HOutliers_new.shape"
   ]
  },
  {
   "cell_type": "code",
   "execution_count": 51,
   "id": "73da0a71",
   "metadata": {},
   "outputs": [
    {
     "data": {
      "text/html": [
       "<div>\n",
       "<style scoped>\n",
       "    .dataframe tbody tr th:only-of-type {\n",
       "        vertical-align: middle;\n",
       "    }\n",
       "\n",
       "    .dataframe tbody tr th {\n",
       "        vertical-align: top;\n",
       "    }\n",
       "\n",
       "    .dataframe thead th {\n",
       "        text-align: right;\n",
       "    }\n",
       "</style>\n",
       "<table border=\"1\" class=\"dataframe\">\n",
       "  <thead>\n",
       "    <tr style=\"text-align: right;\">\n",
       "      <th></th>\n",
       "      <th>HeightM</th>\n",
       "      <th>Weightkg</th>\n",
       "      <th>Fat</th>\n",
       "      <th>BMI</th>\n",
       "    </tr>\n",
       "  </thead>\n",
       "  <tbody>\n",
       "    <tr>\n",
       "      <th>0</th>\n",
       "      <td>1.60</td>\n",
       "      <td>49.44</td>\n",
       "      <td>23.9</td>\n",
       "      <td>19.31</td>\n",
       "    </tr>\n",
       "    <tr>\n",
       "      <th>1</th>\n",
       "      <td>1.65</td>\n",
       "      <td>62.60</td>\n",
       "      <td>28.8</td>\n",
       "      <td>22.96</td>\n",
       "    </tr>\n",
       "    <tr>\n",
       "      <th>2</th>\n",
       "      <td>1.65</td>\n",
       "      <td>75.75</td>\n",
       "      <td>32.4</td>\n",
       "      <td>27.79</td>\n",
       "    </tr>\n",
       "    <tr>\n",
       "      <th>3</th>\n",
       "      <td>1.53</td>\n",
       "      <td>48.99</td>\n",
       "      <td>25.8</td>\n",
       "      <td>20.92</td>\n",
       "    </tr>\n",
       "    <tr>\n",
       "      <th>4</th>\n",
       "      <td>1.45</td>\n",
       "      <td>43.09</td>\n",
       "      <td>22.5</td>\n",
       "      <td>20.38</td>\n",
       "    </tr>\n",
       "    <tr>\n",
       "      <th>...</th>\n",
       "      <td>...</td>\n",
       "      <td>...</td>\n",
       "      <td>...</td>\n",
       "      <td>...</td>\n",
       "    </tr>\n",
       "    <tr>\n",
       "      <th>87</th>\n",
       "      <td>1.49</td>\n",
       "      <td>39.01</td>\n",
       "      <td>23.3</td>\n",
       "      <td>17.52</td>\n",
       "    </tr>\n",
       "    <tr>\n",
       "      <th>88</th>\n",
       "      <td>1.60</td>\n",
       "      <td>41.28</td>\n",
       "      <td>20.1</td>\n",
       "      <td>16.12</td>\n",
       "    </tr>\n",
       "    <tr>\n",
       "      <th>89</th>\n",
       "      <td>1.42</td>\n",
       "      <td>38.10</td>\n",
       "      <td>30.3</td>\n",
       "      <td>18.83</td>\n",
       "    </tr>\n",
       "    <tr>\n",
       "      <th>90</th>\n",
       "      <td>1.40</td>\n",
       "      <td>30.16</td>\n",
       "      <td>20.6</td>\n",
       "      <td>15.46</td>\n",
       "    </tr>\n",
       "    <tr>\n",
       "      <th>91</th>\n",
       "      <td>1.45</td>\n",
       "      <td>38.56</td>\n",
       "      <td>26.0</td>\n",
       "      <td>18.39</td>\n",
       "    </tr>\n",
       "  </tbody>\n",
       "</table>\n",
       "<p>92 rows × 4 columns</p>\n",
       "</div>"
      ],
      "text/plain": [
       "    HeightM  Weightkg   Fat    BMI\n",
       "0      1.60     49.44  23.9  19.31\n",
       "1      1.65     62.60  28.8  22.96\n",
       "2      1.65     75.75  32.4  27.79\n",
       "3      1.53     48.99  25.8  20.92\n",
       "4      1.45     43.09  22.5  20.38\n",
       "..      ...       ...   ...    ...\n",
       "87     1.49     39.01  23.3  17.52\n",
       "88     1.60     41.28  20.1  16.12\n",
       "89     1.42     38.10  30.3  18.83\n",
       "90     1.40     30.16  20.6  15.46\n",
       "91     1.45     38.56  26.0  18.39\n",
       "\n",
       "[92 rows x 4 columns]"
      ]
     },
     "execution_count": 51,
     "metadata": {},
     "output_type": "execute_result"
    }
   ],
   "source": [
    "# Display the Height outlier in the dataset\n",
    "\n",
    "HOutliers[(HOutliers.HeightM>upper_limit) | (HOutliers.HeightM<lower_limit)]"
   ]
  },
  {
   "cell_type": "code",
   "execution_count": 52,
   "id": "c47326cc",
   "metadata": {},
   "outputs": [
    {
     "data": {
      "text/plain": [
       "(8, 4)"
      ]
     },
     "execution_count": 52,
     "metadata": {},
     "output_type": "execute_result"
    }
   ],
   "source": [
    "HOutliers_new.shape"
   ]
  },
  {
   "cell_type": "code",
   "execution_count": 53,
   "id": "7e8c014d",
   "metadata": {},
   "outputs": [
    {
     "data": {
      "text/plain": [
       "84"
      ]
     },
     "execution_count": 53,
     "metadata": {},
     "output_type": "execute_result"
    }
   ],
   "source": [
    "HOutliers.shape[0] - HOutliers_new.shape[0]"
   ]
  },
  {
   "cell_type": "code",
   "execution_count": 54,
   "id": "cd000b5e",
   "metadata": {},
   "outputs": [
    {
     "data": {
      "text/plain": [
       "(92, 4)"
      ]
     },
     "execution_count": 54,
     "metadata": {},
     "output_type": "execute_result"
    }
   ],
   "source": [
    "HOutliers.shape"
   ]
  },
  {
   "cell_type": "code",
   "execution_count": 55,
   "id": "a9aec80b",
   "metadata": {},
   "outputs": [
    {
     "data": {
      "text/plain": [
       "8"
      ]
     },
     "execution_count": 55,
     "metadata": {},
     "output_type": "execute_result"
    }
   ],
   "source": [
    "HOutliers_new.shape[0]"
   ]
  },
  {
   "cell_type": "code",
   "execution_count": null,
   "id": "4eef6309",
   "metadata": {},
   "outputs": [],
   "source": []
  }
 ],
 "metadata": {
  "kernelspec": {
   "display_name": "Python 3 (ipykernel)",
   "language": "python",
   "name": "python3"
  },
  "language_info": {
   "codemirror_mode": {
    "name": "ipython",
    "version": 3
   },
   "file_extension": ".py",
   "mimetype": "text/x-python",
   "name": "python",
   "nbconvert_exporter": "python",
   "pygments_lexer": "ipython3",
   "version": "3.9.12"
  }
 },
 "nbformat": 4,
 "nbformat_minor": 5
}
