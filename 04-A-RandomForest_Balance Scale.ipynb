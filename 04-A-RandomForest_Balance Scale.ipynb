{
 "cells": [
  {
   "cell_type": "code",
   "execution_count": 1,
   "metadata": {},
   "outputs": [],
   "source": [
    "\n",
    "# Importing the libraries \n",
    "\n",
    "import pandas as pd\n",
    "import numpy as np \n",
    "import matplotlib.pyplot as plt\n",
    "\n",
    "# Ignore harmless warnings \n",
    "\n",
    "import warnings \n",
    "warnings.filterwarnings(\"ignore\")\n",
    "\n",
    "# Set to display all the columns in dataset\n",
    "\n",
    "pd.set_option(\"display.max_columns\", None)\n",
    "\n",
    "# Import psql to run queries \n",
    "\n",
    "import pandasql as psql\n",
    "\n"
   ]
  },
  {
   "cell_type": "code",
   "execution_count": 2,
   "metadata": {},
   "outputs": [
    {
     "data": {
      "text/html": [
       "<div>\n",
       "<style scoped>\n",
       "    .dataframe tbody tr th:only-of-type {\n",
       "        vertical-align: middle;\n",
       "    }\n",
       "\n",
       "    .dataframe tbody tr th {\n",
       "        vertical-align: top;\n",
       "    }\n",
       "\n",
       "    .dataframe thead th {\n",
       "        text-align: right;\n",
       "    }\n",
       "</style>\n",
       "<table border=\"1\" class=\"dataframe\">\n",
       "  <thead>\n",
       "    <tr style=\"text-align: right;\">\n",
       "      <th></th>\n",
       "      <th>Class_Name</th>\n",
       "      <th>Left-Weight</th>\n",
       "      <th>Left-Distance</th>\n",
       "      <th>Right-Weight</th>\n",
       "      <th>Right-Distance</th>\n",
       "    </tr>\n",
       "  </thead>\n",
       "  <tbody>\n",
       "    <tr>\n",
       "      <th>0</th>\n",
       "      <td>B</td>\n",
       "      <td>1</td>\n",
       "      <td>1</td>\n",
       "      <td>1</td>\n",
       "      <td>1</td>\n",
       "    </tr>\n",
       "    <tr>\n",
       "      <th>1</th>\n",
       "      <td>R</td>\n",
       "      <td>1</td>\n",
       "      <td>1</td>\n",
       "      <td>1</td>\n",
       "      <td>2</td>\n",
       "    </tr>\n",
       "    <tr>\n",
       "      <th>2</th>\n",
       "      <td>R</td>\n",
       "      <td>1</td>\n",
       "      <td>1</td>\n",
       "      <td>1</td>\n",
       "      <td>3</td>\n",
       "    </tr>\n",
       "    <tr>\n",
       "      <th>3</th>\n",
       "      <td>R</td>\n",
       "      <td>1</td>\n",
       "      <td>1</td>\n",
       "      <td>1</td>\n",
       "      <td>4</td>\n",
       "    </tr>\n",
       "    <tr>\n",
       "      <th>4</th>\n",
       "      <td>R</td>\n",
       "      <td>1</td>\n",
       "      <td>1</td>\n",
       "      <td>1</td>\n",
       "      <td>5</td>\n",
       "    </tr>\n",
       "  </tbody>\n",
       "</table>\n",
       "</div>"
      ],
      "text/plain": [
       "  Class_Name  Left-Weight  Left-Distance  Right-Weight  Right-Distance\n",
       "0          B            1              1             1               1\n",
       "1          R            1              1             1               2\n",
       "2          R            1              1             1               3\n",
       "3          R            1              1             1               4\n",
       "4          R            1              1             1               5"
      ]
     },
     "execution_count": 2,
     "metadata": {},
     "output_type": "execute_result"
    }
   ],
   "source": [
    "# Load the Balance data\n",
    "\n",
    "BalScale = pd.read_csv(r\"C:\\Users\\Admin\\Downloads\\Raju Sir DLS\\BalanceScale.csv\", header=0) \n",
    "BalScale.head()"
   ]
  },
  {
   "cell_type": "code",
   "execution_count": 3,
   "metadata": {},
   "outputs": [
    {
     "name": "stdout",
     "output_type": "stream",
     "text": [
      "<class 'pandas.core.frame.DataFrame'>\n",
      "RangeIndex: 625 entries, 0 to 624\n",
      "Data columns (total 5 columns):\n",
      " #   Column          Non-Null Count  Dtype \n",
      "---  ------          --------------  ----- \n",
      " 0   Class_Name      625 non-null    object\n",
      " 1   Left-Weight     625 non-null    int64 \n",
      " 2   Left-Distance   625 non-null    int64 \n",
      " 3   Right-Weight    625 non-null    int64 \n",
      " 4   Right-Distance  625 non-null    int64 \n",
      "dtypes: int64(4), object(1)\n",
      "memory usage: 24.5+ KB\n"
     ]
    }
   ],
   "source": [
    "# Display the dataset information\n",
    "\n",
    "BalScale.info()"
   ]
  },
  {
   "cell_type": "code",
   "execution_count": 4,
   "metadata": {},
   "outputs": [
    {
     "data": {
      "text/plain": [
       "Class_Name        3\n",
       "Left-Weight       5\n",
       "Left-Distance     5\n",
       "Right-Weight      5\n",
       "Right-Distance    5\n",
       "dtype: int64"
      ]
     },
     "execution_count": 4,
     "metadata": {},
     "output_type": "execute_result"
    }
   ],
   "source": [
    "# Display the unique values of each variable\n",
    "\n",
    "BalScale.nunique()"
   ]
  },
  {
   "cell_type": "code",
   "execution_count": 5,
   "metadata": {},
   "outputs": [
    {
     "name": "stdout",
     "output_type": "stream",
     "text": [
      "R    288\n",
      "L    288\n",
      "B     49\n",
      "Name: Class_Name, dtype: int64\n",
      "1    125\n",
      "2    125\n",
      "3    125\n",
      "4    125\n",
      "5    125\n",
      "Name: Left-Weight, dtype: int64\n",
      "1    125\n",
      "2    125\n",
      "3    125\n",
      "4    125\n",
      "5    125\n",
      "Name: Left-Distance, dtype: int64\n",
      "1    125\n",
      "2    125\n",
      "3    125\n",
      "4    125\n",
      "5    125\n",
      "Name: Right-Weight, dtype: int64\n",
      "1    125\n",
      "2    125\n",
      "3    125\n",
      "4    125\n",
      "5    125\n",
      "Name: Right-Distance, dtype: int64\n"
     ]
    }
   ],
   "source": [
    "# Displaying all values for the columns\n",
    "\n",
    "for i in BalScale.columns:\n",
    "    print(BalScale[i].value_counts())"
   ]
  },
  {
   "cell_type": "code",
   "execution_count": 6,
   "metadata": {},
   "outputs": [],
   "source": [
    "# Replace target variable 'Class_Name', and convert to integer value.\n",
    "\n",
    "BalScale['Class_Name'] = BalScale['Class_Name'].str.replace('B', '1')\n",
    "BalScale['Class_Name'] = BalScale['Class_Name'].str.replace('L', '2')\n",
    "BalScale['Class_Name'] = BalScale['Class_Name'].str.replace('R', '3')\n",
    "BalScale['Class_Name'] = BalScale['Class_Name'].astype(int)"
   ]
  },
  {
   "cell_type": "code",
   "execution_count": 7,
   "metadata": {},
   "outputs": [],
   "source": [
    "# Identify the Independent and Target variables\n",
    "\n",
    "IndepVar = []\n",
    "for col in BalScale.columns:\n",
    "    if col != 'Class_Name':\n",
    "        IndepVar.append(col)\n",
    "\n",
    "TargetVar = 'Class_Name'\n",
    "\n",
    "x = BalScale[IndepVar]\n",
    "y = BalScale[TargetVar]"
   ]
  },
  {
   "cell_type": "code",
   "execution_count": 8,
   "metadata": {},
   "outputs": [],
   "source": [
    "# Splitting the dataset into train and test \n",
    "\n",
    "from sklearn.model_selection import train_test_split\n",
    "\n",
    "x_train, x_test, y_train, y_test = train_test_split(x, y, test_size = 0.3, random_state = 42)"
   ]
  },
  {
   "cell_type": "code",
   "execution_count": 9,
   "metadata": {},
   "outputs": [
    {
     "ename": "ImportError",
     "evalue": "cannot import name 'RandomForestClassifier' from 'sklearn.tree' (C:\\Users\\Admin\\anaconda3\\lib\\site-packages\\sklearn\\tree\\__init__.py)",
     "output_type": "error",
     "traceback": [
      "\u001b[1;31m---------------------------------------------------------------------------\u001b[0m",
      "\u001b[1;31mImportError\u001b[0m                               Traceback (most recent call last)",
      "Input \u001b[1;32mIn [9]\u001b[0m, in \u001b[0;36m<cell line: 3>\u001b[1;34m()\u001b[0m\n\u001b[0;32m      1\u001b[0m \u001b[38;5;66;03m# To build the decision tree model with random sampling\u001b[39;00m\n\u001b[1;32m----> 3\u001b[0m \u001b[38;5;28;01mfrom\u001b[39;00m \u001b[38;5;21;01msklearn\u001b[39;00m\u001b[38;5;21;01m.\u001b[39;00m\u001b[38;5;21;01mtree\u001b[39;00m \u001b[38;5;28;01mimport\u001b[39;00m RandomForestClassifier \n\u001b[0;32m      5\u001b[0m BalScaleDT \u001b[38;5;241m=\u001b[39m RandomForestClassifier(ccp_alpha\u001b[38;5;241m=\u001b[39m\u001b[38;5;241m0.0\u001b[39m, class_weight\u001b[38;5;241m=\u001b[39m\u001b[38;5;28;01mNone\u001b[39;00m, criterion\u001b[38;5;241m=\u001b[39m\u001b[38;5;124m'\u001b[39m\u001b[38;5;124mgini\u001b[39m\u001b[38;5;124m'\u001b[39m,\n\u001b[0;32m      6\u001b[0m                                     max_depth\u001b[38;5;241m=\u001b[39m\u001b[38;5;28;01mNone\u001b[39;00m, max_features\u001b[38;5;241m=\u001b[39m\u001b[38;5;28;01mNone\u001b[39;00m, max_leaf_nodes\u001b[38;5;241m=\u001b[39m\u001b[38;5;28;01mNone\u001b[39;00m,\n\u001b[0;32m      7\u001b[0m                                     min_impurity_decrease\u001b[38;5;241m=\u001b[39m\u001b[38;5;241m0.0\u001b[39m, min_impurity_split\u001b[38;5;241m=\u001b[39m\u001b[38;5;28;01mNone\u001b[39;00m,\n\u001b[0;32m      8\u001b[0m                                     min_samples_leaf\u001b[38;5;241m=\u001b[39m\u001b[38;5;241m1\u001b[39m, min_samples_split\u001b[38;5;241m=\u001b[39m\u001b[38;5;241m2\u001b[39m,min_weight_fraction_leaf\u001b[38;5;241m=\u001b[39m\u001b[38;5;241m0.0\u001b[39m,\n\u001b[0;32m      9\u001b[0m                                     random_state\u001b[38;5;241m=\u001b[39m\u001b[38;5;28;01mNone\u001b[39;00m, splitter\u001b[38;5;241m=\u001b[39m\u001b[38;5;124m'\u001b[39m\u001b[38;5;124mbest\u001b[39m\u001b[38;5;124m'\u001b[39m)\n\u001b[0;32m     11\u001b[0m BalScaleDT \u001b[38;5;241m=\u001b[39m BalScaleDT\u001b[38;5;241m.\u001b[39mfit(x_train,y_train)\n",
      "\u001b[1;31mImportError\u001b[0m: cannot import name 'RandomForestClassifier' from 'sklearn.tree' (C:\\Users\\Admin\\anaconda3\\lib\\site-packages\\sklearn\\tree\\__init__.py)"
     ]
    }
   ],
   "source": [
    "# To build the decision tree model with random sampling\n",
    "\n",
    "from sklearn.tree import RandomForestClassifier \n",
    "\n",
    "BalScaleDT = RandomForestClassifier(ccp_alpha=0.0, class_weight=None, criterion='gini',\n",
    "                                    max_depth=None, max_features=None, max_leaf_nodes=None,\n",
    "                                    min_impurity_decrease=0.0, min_impurity_split=None,\n",
    "                                    min_samples_leaf=1, min_samples_split=2,min_weight_fraction_leaf=0.0,\n",
    "                                    random_state=None, splitter='best')\n",
    "\n",
    "BalScaleDT = BalScaleDT.fit(x_train,y_train)"
   ]
  },
  {
   "cell_type": "code",
   "execution_count": 10,
   "metadata": {},
   "outputs": [],
   "source": [
    "# Predict the model with test data set\n",
    "\n",
    "y_pred = BalScaleDT.predict(x_test)\n",
    "y_pred_prob = BalScaleDT.predict_proba(x_test)"
   ]
  },
  {
   "cell_type": "code",
   "execution_count": 11,
   "metadata": {},
   "outputs": [
    {
     "name": "stdout",
     "output_type": "stream",
     "text": [
      "[[ 0 14  4]\n",
      " [ 5 74  1]\n",
      " [ 9  8 73]]\n",
      "              precision    recall  f1-score   support\n",
      "\n",
      "           1       0.00      0.00      0.00        18\n",
      "           2       0.77      0.93      0.84        80\n",
      "           3       0.94      0.81      0.87        90\n",
      "\n",
      "    accuracy                           0.78       188\n",
      "   macro avg       0.57      0.58      0.57       188\n",
      "weighted avg       0.78      0.78      0.77       188\n",
      "\n"
     ]
    }
   ],
   "source": [
    "# Display confusion matrix and classifiction report\n",
    "\n",
    "from sklearn.metrics import classification_report, confusion_matrix\n",
    "\n",
    "print(confusion_matrix(y_test, y_pred))\n",
    "print(classification_report(y_test, y_pred))"
   ]
  },
  {
   "cell_type": "code",
   "execution_count": 12,
   "metadata": {},
   "outputs": [
    {
     "name": "stdout",
     "output_type": "stream",
     "text": [
      "Feature: 0, Score: 0.25487\n",
      "Feature: 1, Score: 0.25966\n",
      "Feature: 2, Score: 0.26656\n",
      "Feature: 3, Score: 0.21891\n"
     ]
    },
    {
     "data": {
      "image/png": "[encoded data removed]",
      "text/plain": [
       "<Figure size 432x288 with 1 Axes>"
      ]
     },
     "metadata": {
      "needs_background": "light"
     },
     "output_type": "display_data"
    }
   ],
   "source": [
    "# To get feature importance\n",
    "\n",
    "from matplotlib import pyplot\n",
    "\n",
    "importance = BalScaleDT.feature_importances_\n",
    "\n",
    "# Summarize feature importance\n",
    "\n",
    "for i,v in enumerate(importance):\n",
    "    print('Feature: %0d, Score: %.5f' % (i,v))\n",
    "    \n",
    "# Plot feature importance\n",
    "\n",
    "pyplot.bar([x for x in range(len(importance))], importance)\n",
    "pyplot.show()"
   ]
  },
  {
   "cell_type": "code",
   "execution_count": 19,
   "metadata": {},
   "outputs": [
    {
     "name": "stdout",
     "output_type": "stream",
     "text": [
      "[[ 0  4 12]\n",
      " [14 74  6]\n",
      " [ 4  2 72]]\n",
      "Print Class: 0\n",
      "TP=0, FN=0, TN=188, FP=0\n",
      "Accuracy: 1.0\n",
      "Precision: nan\n",
      "Sensitivity: nan\n",
      "F1-Score: nan\n",
      "Specificity: 1.0\n",
      "Balanced Accuracy: nan\n",
      "MCC: nan\n",
      "\n",
      "Print Class: 1\n",
      "TP=0, FN=16, TN=154, FP=18\n",
      "Accuracy: 0.819\n",
      "Precision: 0.0\n",
      "Sensitivity: 0.0\n",
      "F1-Score: 0.0\n",
      "Specificity: 0.895\n",
      "Balanced Accuracy: 0.448\n",
      "MCC: -0.099\n",
      "\n",
      "Print Class: 2\n",
      "TP=74, FN=20, TN=88, FP=6\n",
      "Accuracy: 0.862\n",
      "Precision: 0.925\n",
      "Sensitivity: 0.787\n",
      "F1-Score: 0.851\n",
      "Specificity: 0.936\n",
      "Balanced Accuracy: 0.862\n",
      "MCC: 0.732\n",
      "\n"
     ]
    }
   ],
   "source": [
    "# To build the 'Multinominal Logistic Regression' model with random sampling\n",
    "\n",
    "from sklearn.tree import RandomForestClassifier \n",
    "\n",
    "BalScaleDT = RandomForestClassifier(ccp_alpha=0.0, class_weight=None, criterion='gini',\n",
    "                                    max_depth=None, max_features=None, max_leaf_nodes=None,\n",
    "                                    min_impurity_decrease=0.0, min_impurity_split=None,\n",
    "                                    min_samples_leaf=1, min_samples_split=2,min_weight_fraction_leaf=0.0,\n",
    "                                    random_state=None, splitter='best')\n",
    "\n",
    "BalScaleDT = BalScaleDT.fit(x_train,y_train)\n",
    "\n",
    "# Predict the model with test data set\n",
    "\n",
    "y_pred = BalScaleDT.predict(x_test)\n",
    "y_pred_prob = BalScaleDT.predict_proba(x_test)\n",
    "\n",
    "# confusion matrix in sklearn\n",
    "\n",
    "from sklearn.metrics import multilabel_confusion_matrix\n",
    "from sklearn.metrics import confusion_matrix\n",
    "from sklearn.metrics import classification_report\n",
    "from math import sqrt\n",
    "\n",
    "print(confusion_matrix(y_pred, y_test)) # Verticle is actual values & horizontal is predicted values\n",
    "\n",
    "# Actual and predicted classes\n",
    "\n",
    "lst_actual_class = y_test\n",
    "lst_predicted_class = y_pred\n",
    "\n",
    "# Class = Label 0-2\n",
    "\n",
    "lst_classes = [0, 1, 2]\n",
    "\n",
    "# Compute multi-class confusion matrix\n",
    "\n",
    "arr_out_matrix = multilabel_confusion_matrix(lst_actual_class, lst_predicted_class, labels=lst_classes)\n",
    "\n",
    "# Temp store results\n",
    "\n",
    "model_acc = [];\n",
    "model_recall = [];\n",
    "model_prec = [];\n",
    "model_fscore = [];\n",
    "model_spec = [];\n",
    "model_bal_acc = [];\n",
    "model_mcc = [];\n",
    "for no_class in range(len(lst_classes)):\n",
    "    arr_data = arr_out_matrix[no_class];\n",
    "    print(\"Print Class: {0}\".format(no_class));\n",
    "\n",
    "    tp = arr_data[1][1]\n",
    "    fn = arr_data[0][1]\n",
    "    tn = arr_data[0][0]\n",
    "    fp = arr_data[1][0]\n",
    "    \n",
    "    sensitivity = round(tp/(tp+fn), 3);\n",
    "    specificity = round(tn/(tn+fp), 3);\n",
    "    accuracy = round((tp+tn)/(tp+fp+tn+fn), 3);\n",
    "    balanced_accuracy = round((sensitivity+specificity)/2, 3);\n",
    "    \n",
    "    precision = round(tp/(tp+fp), 3);\n",
    "    f1Score = round((2*tp/(2*tp + fp + fn)), 3);\n",
    "    \n",
    "    mx = (tp+fp) * (tp+fn) * (tn+fp) * (tn+fn)\n",
    "    MCC = round(((tp * tn) - (fp * fn)) / sqrt(mx), 3)\n",
    "    model_acc.append(accuracy);\n",
    "    model_prec.append(precision);\n",
    "    model_recall.append(sensitivity);\n",
    "    model_fscore.append(f1Score);\n",
    "    model_spec.append(specificity);\n",
    "    model_bal_acc.append(balanced_accuracy);\n",
    "    model_mcc.append(MCC);\n",
    "    \n",
    "    print(\"TP={0}, FN={1}, TN={2}, FP={3}\".format(tp, fn, tn, fp));\n",
    "    print(\"Accuracy: {0}\".format(accuracy));    # Accuracy score\n",
    "    print(\"Precision: {0}\".format(precision)); # Precision score\n",
    "    print(\"Sensitivity: {0}\".format(sensitivity)); # Recall score\n",
    "    print(\"F1-Score: {0}\".format(f1Score)); # F1 score\n",
    "    print(\"Specificity: {0}\".format(specificity)); # True Nagative Rate\n",
    "    print(\"Balanced Accuracy: {0}\".format(balanced_accuracy)); # Balance accuracy score\n",
    "    print(\"MCC: {0}\\n\".format(MCC)); # Matthews Correlation Coefficient"
   ]
  },
  {
   "cell_type": "code",
   "execution_count": 20,
   "metadata": {},
   "outputs": [
    {
     "name": "stdout",
     "output_type": "stream",
     "text": [
      "Overall Performance Prediction:\n",
      "Accuracy: 89.3667%\n",
      "Precision: nan%\n",
      "Recall or Sensitivity: nan%\n",
      "F1-Score: nan\n",
      "Specificity or True Nagative Rate: 94.3667%\n",
      "Balanced Accuracy: nan%\n",
      "\n",
      "MCC: nan\n",
      "\n"
     ]
    }
   ],
   "source": [
    "# OVERALL - FINAL PREDICTION PERFORMANCE\n",
    "\n",
    "# importing mean() \n",
    "\n",
    "from statistics import mean\n",
    "import math\n",
    "\n",
    "print(\"Overall Performance Prediction:\");\n",
    "print(\"Accuracy: {0}%\".format(round(mean(model_acc)*100, 4)));\n",
    "print(\"Precision: {0}%\".format(round(mean(model_prec)*100, 4)));\n",
    "print(\"Recall or Sensitivity: {0}%\".format(round(mean(model_recall)*100, 4)));\n",
    "print(\"F1-Score: {0}\".format(round(mean(model_fscore), 4)));\n",
    "print(\"Specificity or True Nagative Rate: {0}%\".format(round(mean(model_spec)*100, 4)));\n",
    "print(\"Balanced Accuracy: {0}%\\n\".format(round(mean(model_bal_acc)*100, 4)));\n",
    "print(\"MCC: {0}\\n\".format(round(mean(model_mcc), 4)));"
   ]
  },
  {
   "cell_type": "code",
   "execution_count": 21,
   "metadata": {},
   "outputs": [
    {
     "data": {
      "text/html": [
       "<div>\n",
       "<style scoped>\n",
       "    .dataframe tbody tr th:only-of-type {\n",
       "        vertical-align: middle;\n",
       "    }\n",
       "\n",
       "    .dataframe tbody tr th {\n",
       "        vertical-align: top;\n",
       "    }\n",
       "\n",
       "    .dataframe thead th {\n",
       "        text-align: right;\n",
       "    }\n",
       "</style>\n",
       "<table border=\"1\" class=\"dataframe\">\n",
       "  <thead>\n",
       "    <tr style=\"text-align: right;\">\n",
       "      <th></th>\n",
       "      <th>Left-Weight</th>\n",
       "      <th>Left-Distance</th>\n",
       "      <th>Right-Weight</th>\n",
       "      <th>Right-Distance</th>\n",
       "      <th>Class_Name</th>\n",
       "      <th>Pred_Class_Name</th>\n",
       "    </tr>\n",
       "  </thead>\n",
       "  <tbody>\n",
       "    <tr>\n",
       "      <th>447</th>\n",
       "      <td>4</td>\n",
       "      <td>3</td>\n",
       "      <td>5</td>\n",
       "      <td>3</td>\n",
       "      <td>3</td>\n",
       "      <td>1</td>\n",
       "    </tr>\n",
       "    <tr>\n",
       "      <th>485</th>\n",
       "      <td>4</td>\n",
       "      <td>5</td>\n",
       "      <td>3</td>\n",
       "      <td>1</td>\n",
       "      <td>2</td>\n",
       "      <td>2</td>\n",
       "    </tr>\n",
       "    <tr>\n",
       "      <th>215</th>\n",
       "      <td>2</td>\n",
       "      <td>4</td>\n",
       "      <td>4</td>\n",
       "      <td>1</td>\n",
       "      <td>2</td>\n",
       "      <td>2</td>\n",
       "    </tr>\n",
       "    <tr>\n",
       "      <th>212</th>\n",
       "      <td>2</td>\n",
       "      <td>4</td>\n",
       "      <td>3</td>\n",
       "      <td>3</td>\n",
       "      <td>3</td>\n",
       "      <td>3</td>\n",
       "    </tr>\n",
       "    <tr>\n",
       "      <th>480</th>\n",
       "      <td>4</td>\n",
       "      <td>5</td>\n",
       "      <td>2</td>\n",
       "      <td>1</td>\n",
       "      <td>2</td>\n",
       "      <td>2</td>\n",
       "    </tr>\n",
       "  </tbody>\n",
       "</table>\n",
       "</div>"
      ],
      "text/plain": [
       "     Left-Weight  Left-Distance  Right-Weight  Right-Distance  Class_Name  \\\n",
       "447            4              3             5               3           3   \n",
       "485            4              5             3               1           2   \n",
       "215            2              4             4               1           2   \n",
       "212            2              4             3               3           3   \n",
       "480            4              5             2               1           2   \n",
       "\n",
       "     Pred_Class_Name  \n",
       "447                1  \n",
       "485                2  \n",
       "215                2  \n",
       "212                3  \n",
       "480                2  "
      ]
     },
     "execution_count": 21,
     "metadata": {},
     "output_type": "execute_result"
    }
   ],
   "source": [
    "# Merge two Dataframes on index of both the dataframes\n",
    "\n",
    "Results = pd.DataFrame({'Class_Name':y_test, 'Pred_Class_Name':y_pred})\n",
    "ResultsFinal = x_test.merge(Results, left_index=True, right_index=True)\n",
    "ResultsFinal.head()"
   ]
  },
  {
   "cell_type": "code",
   "execution_count": 22,
   "metadata": {},
   "outputs": [
    {
     "data": {
      "text/plain": [
       "<matplotlib.legend.Legend at 0x28745c9ccc8>"
      ]
     },
     "execution_count": 22,
     "metadata": {},
     "output_type": "execute_result"
    },
    {
     "data": {
      "image/png": "[encoded data removed]",
      "text/plain": [
       "<Figure size 432x288 with 1 Axes>"
      ]
     },
     "metadata": {
      "needs_background": "light"
     },
     "output_type": "display_data"
    }
   ],
   "source": [
    "# ROC curve for Multi classes \n",
    "\n",
    "from sklearn.multiclass import OneVsRestClassifier\n",
    "from sklearn.metrics import roc_curve, roc_auc_score\n",
    "\n",
    "fpr = {}\n",
    "tpr = {}\n",
    "thresh ={}\n",
    "\n",
    "n_class = 3\n",
    "\n",
    "for i in range(n_class):    \n",
    "    fpr[i], tpr[i], thresh[i] = roc_curve(y_test, y_pred_prob[:,i], pos_label=i)\n",
    "    \n",
    "# plotting    \n",
    "plt.plot(fpr[0], tpr[0], linestyle='--',color='brown', label='Class 0 vs Rest')\n",
    "plt.plot(fpr[1], tpr[1], linestyle='--',color='green', label='Class 1 vs Rest')\n",
    "plt.plot(fpr[2], tpr[2], linestyle='--',color='blue', label='Class 2 vs Rest')\n",
    "\n",
    "plt.title('Multiclass ROC curve')\n",
    "plt.xlabel('False Positive Rate')\n",
    "plt.ylabel('True Positive rate')\n",
    "plt.legend(loc='best')\n",
    "#plt.savefig('Multiclass ROC',dpi=600);  "
   ]
  },
  {
   "cell_type": "code",
   "execution_count": 23,
   "metadata": {},
   "outputs": [
    {
     "name": "stdout",
     "output_type": "stream",
     "text": [
      "roc_auc_score: 0.723\n"
     ]
    }
   ],
   "source": [
    "# ROC AUC score - one-vs-one (OvO) algorithm computes the average of the ROC AUC scores for each class against \n",
    "# all other classes. \n",
    "\n",
    "print('roc_auc_score:', round(roc_auc_score(y_test, y_pred_prob, multi_class='ovo', average='weighted'),3))"
   ]
  },
  {
   "cell_type": "code",
   "execution_count": 17,
   "metadata": {},
   "outputs": [
    {
     "data": {
      "image/png": "[encoded data removed]",
      "text/plain": [
       "<Figure size 1440x360 with 1 Axes>"
      ]
     },
     "metadata": {
      "needs_background": "light"
     },
     "output_type": "display_data"
    }
   ],
   "source": [
    "import matplotlib.pyplot as plt\n",
    "from sklearn import tree\n",
    "\n",
    "plt.figure(figsize=(20,5))\n",
    "tree.plot_tree(BalScaleDT);"
   ]
  },
  {
   "cell_type": "code",
   "execution_count": null,
   "metadata": {},
   "outputs": [],
   "source": []
  }
 ],
 "metadata": {
  "kernelspec": {
   "display_name": "Python 3 (ipykernel)",
   "language": "python",
   "name": "python3"
  },
  "language_info": {
   "codemirror_mode": {
    "name": "ipython",
    "version": 3
   },
   "file_extension": ".py",
   "mimetype": "text/x-python",
   "name": "python",
   "nbconvert_exporter": "python",
   "pygments_lexer": "ipython3",
   "version": "3.9.12"
  }
 },
 "nbformat": 4,
 "nbformat_minor": 4
}
