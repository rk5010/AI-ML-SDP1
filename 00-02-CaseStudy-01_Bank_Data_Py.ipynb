{
 "cells": [
  {
   "cell_type": "code",
   "execution_count": 1,
   "metadata": {},
   "outputs": [],
   "source": [
    "# Importing the libraries \n",
    "\n",
    "import pandas as pd\n",
    "import numpy as np \n",
    "import matplotlib.pyplot as plt \n",
    "import seaborn as sns\n",
    "%matplotlib inline\n",
    "\n",
    "# Ignore harmless warnings \n",
    "\n",
    "import warnings \n",
    "warnings.filterwarnings(\"ignore\")\n",
    "\n",
    "# Set to display all the columns in dataset\n",
    "\n",
    "pd.set_option(\"display.max_columns\", None)\n",
    "\n",
    "# Import psql to run queries \n",
    "\n",
    "import pandasql as psql\n",
    "\n",
    "# import datetime class from datetime module\n",
    "\n",
    "from datetime import datetime"
   ]
  },
  {
   "cell_type": "code",
   "execution_count": 2,
   "metadata": {},
   "outputs": [
    {
     "data": {
      "text/html": [
       "<div>\n",
       "<style scoped>\n",
       "    .dataframe tbody tr th:only-of-type {\n",
       "        vertical-align: middle;\n",
       "    }\n",
       "\n",
       "    .dataframe tbody tr th {\n",
       "        vertical-align: top;\n",
       "    }\n",
       "\n",
       "    .dataframe thead th {\n",
       "        text-align: right;\n",
       "    }\n",
       "</style>\n",
       "<table border=\"1\" class=\"dataframe\">\n",
       "  <thead>\n",
       "    <tr style=\"text-align: right;\">\n",
       "      <th></th>\n",
       "      <th>Account_Num</th>\n",
       "      <th>Region</th>\n",
       "      <th>Sincome</th>\n",
       "      <th>Education</th>\n",
       "      <th>Dependents</th>\n",
       "      <th>Abalance</th>\n",
       "      <th>AB&gt;$1000</th>\n",
       "      <th>Checkb</th>\n",
       "      <th>Aloan</th>\n",
       "      <th>Hloan</th>\n",
       "      <th>Dpayment</th>\n",
       "      <th>Ploan</th>\n",
       "      <th>SalAcc</th>\n",
       "      <th>CreditCard</th>\n",
       "    </tr>\n",
       "  </thead>\n",
       "  <tbody>\n",
       "    <tr>\n",
       "      <th>0</th>\n",
       "      <td>X505769783531</td>\n",
       "      <td>3</td>\n",
       "      <td>0</td>\n",
       "      <td>3</td>\n",
       "      <td>0</td>\n",
       "      <td>324.50</td>\n",
       "      <td>0</td>\n",
       "      <td>0</td>\n",
       "      <td>1</td>\n",
       "      <td>0</td>\n",
       "      <td>0</td>\n",
       "      <td>1</td>\n",
       "      <td>0</td>\n",
       "      <td>0</td>\n",
       "    </tr>\n",
       "    <tr>\n",
       "      <th>1</th>\n",
       "      <td>M545200231306</td>\n",
       "      <td>4</td>\n",
       "      <td>0</td>\n",
       "      <td>6</td>\n",
       "      <td>1</td>\n",
       "      <td>1324.75</td>\n",
       "      <td>9</td>\n",
       "      <td>0</td>\n",
       "      <td>0</td>\n",
       "      <td>0</td>\n",
       "      <td>0</td>\n",
       "      <td>1</td>\n",
       "      <td>0</td>\n",
       "      <td>1</td>\n",
       "    </tr>\n",
       "    <tr>\n",
       "      <th>2</th>\n",
       "      <td>N580752851900</td>\n",
       "      <td>4</td>\n",
       "      <td>0</td>\n",
       "      <td>1</td>\n",
       "      <td>2</td>\n",
       "      <td>891.42</td>\n",
       "      <td>3</td>\n",
       "      <td>0</td>\n",
       "      <td>0</td>\n",
       "      <td>0</td>\n",
       "      <td>0</td>\n",
       "      <td>1</td>\n",
       "      <td>0</td>\n",
       "      <td>0</td>\n",
       "    </tr>\n",
       "    <tr>\n",
       "      <th>3</th>\n",
       "      <td>U227398651926</td>\n",
       "      <td>1</td>\n",
       "      <td>0</td>\n",
       "      <td>1</td>\n",
       "      <td>0</td>\n",
       "      <td>907.25</td>\n",
       "      <td>4</td>\n",
       "      <td>0</td>\n",
       "      <td>0</td>\n",
       "      <td>0</td>\n",
       "      <td>0</td>\n",
       "      <td>0</td>\n",
       "      <td>0</td>\n",
       "      <td>0</td>\n",
       "    </tr>\n",
       "    <tr>\n",
       "      <th>4</th>\n",
       "      <td>S246589134072</td>\n",
       "      <td>1</td>\n",
       "      <td>1</td>\n",
       "      <td>3</td>\n",
       "      <td>3</td>\n",
       "      <td>1255.83</td>\n",
       "      <td>8</td>\n",
       "      <td>0</td>\n",
       "      <td>1</td>\n",
       "      <td>0</td>\n",
       "      <td>0</td>\n",
       "      <td>0</td>\n",
       "      <td>0</td>\n",
       "      <td>0</td>\n",
       "    </tr>\n",
       "  </tbody>\n",
       "</table>\n",
       "</div>"
      ],
      "text/plain": [
       "     Account_Num  Region  Sincome  Education  Dependents  Abalance  AB>$1000  \\\n",
       "0  X505769783531       3        0          3           0    324.50         0   \n",
       "1  M545200231306       4        0          6           1   1324.75         9   \n",
       "2  N580752851900       4        0          1           2    891.42         3   \n",
       "3  U227398651926       1        0          1           0    907.25         4   \n",
       "4  S246589134072       1        1          3           3   1255.83         8   \n",
       "\n",
       "   Checkb  Aloan  Hloan  Dpayment  Ploan  SalAcc  CreditCard  \n",
       "0       0      1      0         0      1       0           0  \n",
       "1       0      0      0         0      1       0           1  \n",
       "2       0      0      0         0      1       0           0  \n",
       "3       0      0      0         0      0       0           0  \n",
       "4       0      1      0         0      0       0           0  "
      ]
     },
     "execution_count": 2,
     "metadata": {},
     "output_type": "execute_result"
    }
   ],
   "source": [
    "# load the Bank dataset \n",
    "\n",
    "bank_data = pd.read_csv(r\"C:\\Users\\Admin\\Downloads\\Raju Sir DLS\\CaseStudy\\Bank_Data_Py.csv\", header=0)\n",
    "\n",
    "# Copy the bank data to back-up file\n",
    "\n",
    "bank_data_bk = bank_data.copy()\n",
    "\n",
    "# display first 5 records\n",
    "\n",
    "bank_data.head()"
   ]
  },
  {
   "cell_type": "code",
   "execution_count": 3,
   "metadata": {},
   "outputs": [
    {
     "name": "stdout",
     "output_type": "stream",
     "text": [
      "<class 'pandas.core.frame.DataFrame'>\n",
      "RangeIndex: 30246 entries, 0 to 30245\n",
      "Data columns (total 14 columns):\n",
      " #   Column       Non-Null Count  Dtype  \n",
      "---  ------       --------------  -----  \n",
      " 0   Account_Num  30246 non-null  object \n",
      " 1   Region       30246 non-null  int64  \n",
      " 2   Sincome      30246 non-null  int64  \n",
      " 3   Education    30246 non-null  int64  \n",
      " 4   Dependents   30246 non-null  int64  \n",
      " 5   Abalance     30246 non-null  float64\n",
      " 6   AB>$1000     30246 non-null  int64  \n",
      " 7   Checkb       30246 non-null  int64  \n",
      " 8   Aloan        30246 non-null  int64  \n",
      " 9   Hloan        30246 non-null  int64  \n",
      " 10  Dpayment     30246 non-null  int64  \n",
      " 11  Ploan        30246 non-null  int64  \n",
      " 12  SalAcc       30246 non-null  int64  \n",
      " 13  CreditCard   30246 non-null  int64  \n",
      "dtypes: float64(1), int64(12), object(1)\n",
      "memory usage: 3.2+ MB\n"
     ]
    }
   ],
   "source": [
    "# Dataset information \n",
    "\n",
    "bank_data.info()"
   ]
  },
  {
   "cell_type": "code",
   "execution_count": 4,
   "metadata": {},
   "outputs": [
    {
     "data": {
      "text/plain": [
       "Account_Num    30246\n",
       "Region             5\n",
       "Sincome            2\n",
       "Education          6\n",
       "Dependents         7\n",
       "Abalance        9246\n",
       "AB>$1000          13\n",
       "Checkb             2\n",
       "Aloan              2\n",
       "Hloan              2\n",
       "Dpayment           2\n",
       "Ploan              2\n",
       "SalAcc             2\n",
       "CreditCard         2\n",
       "dtype: int64"
      ]
     },
     "execution_count": 4,
     "metadata": {},
     "output_type": "execute_result"
    }
   ],
   "source": [
    "# Display the unique variables count\n",
    "\n",
    "bank_data.nunique()"
   ]
  },
  {
   "cell_type": "code",
   "execution_count": 5,
   "metadata": {},
   "outputs": [
    {
     "data": {
      "text/plain": [
       "Account_Num    0\n",
       "Region         0\n",
       "Sincome        0\n",
       "Education      0\n",
       "Dependents     0\n",
       "Abalance       0\n",
       "AB>$1000       0\n",
       "Checkb         0\n",
       "Aloan          0\n",
       "Hloan          0\n",
       "Dpayment       0\n",
       "Ploan          0\n",
       "SalAcc         0\n",
       "CreditCard     0\n",
       "dtype: int64"
      ]
     },
     "execution_count": 5,
     "metadata": {},
     "output_type": "execute_result"
    }
   ],
   "source": [
    "# Identify the missing data \n",
    "\n",
    "bank_data.isnull().sum()"
   ]
  },
  {
   "cell_type": "code",
   "execution_count": 6,
   "metadata": {},
   "outputs": [
    {
     "data": {
      "text/html": [
       "<div>\n",
       "<style scoped>\n",
       "    .dataframe tbody tr th:only-of-type {\n",
       "        vertical-align: middle;\n",
       "    }\n",
       "\n",
       "    .dataframe tbody tr th {\n",
       "        vertical-align: top;\n",
       "    }\n",
       "\n",
       "    .dataframe thead th {\n",
       "        text-align: right;\n",
       "    }\n",
       "</style>\n",
       "<table border=\"1\" class=\"dataframe\">\n",
       "  <thead>\n",
       "    <tr style=\"text-align: right;\">\n",
       "      <th></th>\n",
       "      <th>Account_Num</th>\n",
       "      <th>Region</th>\n",
       "      <th>Sincome</th>\n",
       "      <th>Education</th>\n",
       "      <th>Dependents</th>\n",
       "      <th>Abalance</th>\n",
       "      <th>AB&gt;$1000</th>\n",
       "      <th>Checkb</th>\n",
       "      <th>Aloan</th>\n",
       "      <th>Hloan</th>\n",
       "      <th>Dpayment</th>\n",
       "      <th>Ploan</th>\n",
       "      <th>SalAcc</th>\n",
       "      <th>CreditCard</th>\n",
       "    </tr>\n",
       "  </thead>\n",
       "  <tbody>\n",
       "  </tbody>\n",
       "</table>\n",
       "</div>"
      ],
      "text/plain": [
       "Empty DataFrame\n",
       "Columns: [Account_Num, Region, Sincome, Education, Dependents, Abalance, AB>$1000, Checkb, Aloan, Hloan, Dpayment, Ploan, SalAcc, CreditCard]\n",
       "Index: []"
      ]
     },
     "execution_count": 6,
     "metadata": {},
     "output_type": "execute_result"
    }
   ],
   "source": [
    "# Displaying Duplicate values with in dataset\n",
    "\n",
    "bank_data_dup = bank_data[bank_data.duplicated(keep='last')]\n",
    "bank_data_dup"
   ]
  },
  {
   "cell_type": "code",
   "execution_count": 7,
   "metadata": {},
   "outputs": [],
   "source": [
    "# Remove the identified duplicate records \n",
    "\n",
    "#bank_data = bank_data.drop_duplicates()\n",
    "#bank_data.shape"
   ]
  },
  {
   "cell_type": "code",
   "execution_count": 8,
   "metadata": {},
   "outputs": [],
   "source": [
    "# Re-setting the row index\n",
    "\n",
    "#bank_data = bank_data.reset_index(drop=True)"
   ]
  },
  {
   "cell_type": "code",
   "execution_count": 7,
   "metadata": {},
   "outputs": [
    {
     "name": "stdout",
     "output_type": "stream",
     "text": [
      "Class 0: 28193\n",
      "Class 1: 2053\n",
      "Proportion: 13.73 : 1\n",
      "Total Ins records: 30246\n"
     ]
    }
   ],
   "source": [
    "# Count the target or dependent variable by '0' & '1' and their proportion \n",
    "# (> 9 : 1, then the dataset is imbalance data)\n",
    "\n",
    "CreditCard_count = bank_data.CreditCard.value_counts()\n",
    "print('Class 0:', CreditCard_count[0])\n",
    "print('Class 1:', CreditCard_count[1])\n",
    "print('Proportion:', round(CreditCard_count[0] / CreditCard_count[1], 2), ': 1')\n",
    "print('Total Ins records:', len(bank_data))"
   ]
  },
  {
   "cell_type": "code",
   "execution_count": 10,
   "metadata": {},
   "outputs": [
    {
     "name": "stdout",
     "output_type": "stream",
     "text": [
      "X505769783531    1\n",
      "W254462616416    1\n",
      "K324015393219    1\n",
      "R524706614830    1\n",
      "S521373803218    1\n",
      "                ..\n",
      "Z457974807966    1\n",
      "H419191000870    1\n",
      "U106855387827    1\n",
      "A324334825793    1\n",
      "M438525339749    1\n",
      "Name: Account_Num, Length: 30246, dtype: int64\n",
      "3    8128\n",
      "4    6901\n",
      "2    6856\n",
      "1    4357\n",
      "5    4004\n",
      "Name: Region, dtype: int64\n",
      "0    26509\n",
      "1     3737\n",
      "Name: Sincome, dtype: int64\n",
      "2    6775\n",
      "3    6761\n",
      "4    6441\n",
      "1    5747\n",
      "5    2662\n",
      "6    1860\n",
      "Name: Education, dtype: int64\n",
      "2    6257\n",
      "3    5419\n",
      "1    5358\n",
      "0    4821\n",
      "4    4625\n",
      "5    1898\n",
      "6    1868\n",
      "Name: Dependents, dtype: int64\n",
      "332.33     19\n",
      "345.42     18\n",
      "325.92     17\n",
      "342.00     17\n",
      "357.00     17\n",
      "           ..\n",
      "868.67      1\n",
      "1043.92     1\n",
      "684.58      1\n",
      "956.08      1\n",
      "420.17      1\n",
      "Name: Abalance, Length: 9246, dtype: int64\n",
      "0     10082\n",
      "6      4439\n",
      "5      4025\n",
      "7      3537\n",
      "4      2742\n",
      "8      2268\n",
      "3      1351\n",
      "9       944\n",
      "2       419\n",
      "10      326\n",
      "11       65\n",
      "1        46\n",
      "12        2\n",
      "Name: AB>$1000, dtype: int64\n",
      "0    29270\n",
      "1      976\n",
      "Name: Checkb, dtype: int64\n",
      "0    26439\n",
      "1     3807\n",
      "Name: Aloan, dtype: int64\n",
      "0    28174\n",
      "1     2072\n",
      "Name: Hloan, dtype: int64\n",
      "0    27666\n",
      "1     2580\n",
      "Name: Dpayment, dtype: int64\n",
      "0    26852\n",
      "1     3394\n",
      "Name: Ploan, dtype: int64\n",
      "0    25949\n",
      "1     4297\n",
      "Name: SalAcc, dtype: int64\n",
      "0    28193\n",
      "1     2053\n",
      "Name: CreditCard, dtype: int64\n"
     ]
    }
   ],
   "source": [
    "# Display the values to check the junk values\n",
    "\n",
    "for i in bank_data.columns:\n",
    "    print(bank_data[i].value_counts())"
   ]
  },
  {
   "cell_type": "code",
   "execution_count": 8,
   "metadata": {},
   "outputs": [],
   "source": [
    "# Delete the variables which not influencing target variable\n",
    "\n",
    "del bank_data['Account_Num']"
   ]
  },
  {
   "cell_type": "code",
   "execution_count": 9,
   "metadata": {},
   "outputs": [],
   "source": [
    "# Identify the independent and Target variables\n",
    "\n",
    "IndepVar = []\n",
    "for col in bank_data.columns:\n",
    "    if col != 'CreditCard':\n",
    "        IndepVar.append(col)\n",
    "\n",
    "TargetVar = 'CreditCard'\n",
    "\n",
    "x = bank_data[IndepVar]\n",
    "y = bank_data[TargetVar]"
   ]
  },
  {
   "cell_type": "code",
   "execution_count": 11,
   "metadata": {},
   "outputs": [
    {
     "name": "stdout",
     "output_type": "stream",
     "text": [
      "(31012, 12)\n",
      "(31012,)\n"
     ]
    }
   ],
   "source": [
    "# Random oversampling can be implemented using the RandomOverSampler class\n",
    "\n",
    "from imblearn.over_sampling import RandomOverSampler\n",
    "\n",
    "#oversample = RandomOverSampler(sampling_strategy='minority')\n",
    "oversample = RandomOverSampler(sampling_strategy=0.10)\n",
    "x_over, y_over = oversample.fit_resample(x, y)\n",
    "print(x_over.shape)\n",
    "print(y_over.shape)"
   ]
  },
  {
   "cell_type": "code",
   "execution_count": 12,
   "metadata": {},
   "outputs": [
    {
     "data": {
      "text/plain": [
       "((21708, 12), (9304, 12), (21708,), (9304,))"
      ]
     },
     "execution_count": 12,
     "metadata": {},
     "output_type": "execute_result"
    }
   ],
   "source": [
    "# Split the Bank data into train and test (random sampling)\n",
    "\n",
    "from sklearn.model_selection import train_test_split \n",
    "\n",
    "x_train, x_test, y_train, y_test = train_test_split(x_over, y_over, test_size=0.3, random_state=42)\n",
    "x_train.shape, x_test.shape, y_train.shape, y_test.shape"
   ]
  },
  {
   "cell_type": "code",
   "execution_count": 13,
   "metadata": {},
   "outputs": [],
   "source": [
    "# Scaling the features by using MinMaxScaler\n",
    "\n",
    "from sklearn.preprocessing import MinMaxScaler\n",
    "\n",
    "mmscaler = MinMaxScaler(feature_range=(0, 1))\n",
    "\n",
    "x_train = mmscaler.fit_transform(x_train)\n",
    "x_train = pd.DataFrame(x_train)\n",
    "\n",
    "x_test = mmscaler.fit_transform(x_test)\n",
    "x_test = pd.DataFrame(x_test)"
   ]
  },
  {
   "cell_type": "code",
   "execution_count": 14,
   "metadata": {},
   "outputs": [
    {
     "data": {
      "text/html": [
       "<div>\n",
       "<style scoped>\n",
       "    .dataframe tbody tr th:only-of-type {\n",
       "        vertical-align: middle;\n",
       "    }\n",
       "\n",
       "    .dataframe tbody tr th {\n",
       "        vertical-align: top;\n",
       "    }\n",
       "\n",
       "    .dataframe thead th {\n",
       "        text-align: right;\n",
       "    }\n",
       "</style>\n",
       "<table border=\"1\" class=\"dataframe\">\n",
       "  <thead>\n",
       "    <tr style=\"text-align: right;\">\n",
       "      <th></th>\n",
       "      <th>Model Name</th>\n",
       "      <th>Accuracy</th>\n",
       "      <th>Precision</th>\n",
       "      <th>Recall</th>\n",
       "      <th>F1 Score</th>\n",
       "      <th>Specificity</th>\n",
       "      <th>MCC</th>\n",
       "      <th>ROC_AUC_Score</th>\n",
       "      <th>Balanced Accuracy</th>\n",
       "    </tr>\n",
       "  </thead>\n",
       "  <tbody>\n",
       "  </tbody>\n",
       "</table>\n",
       "</div>"
      ],
      "text/plain": [
       "Empty DataFrame\n",
       "Columns: [Model Name, Accuracy, Precision, Recall, F1 Score, Specificity, MCC, ROC_AUC_Score, Balanced Accuracy]\n",
       "Index: []"
      ]
     },
     "execution_count": 14,
     "metadata": {},
     "output_type": "execute_result"
    }
   ],
   "source": [
    "# Load the result dataset\n",
    "\n",
    "CSResults = pd.read_csv(r\"C:\\Users\\Admin\\Downloads\\Raju Sir DLS\\CaseStudy\\CSResults.csv\", header=0)\n",
    "CSResults.head()"
   ]
  },
  {
   "cell_type": "markdown",
   "metadata": {},
   "source": [
    "# Comparing the classification models"
   ]
  },
  {
   "cell_type": "code",
   "execution_count": 16,
   "metadata": {},
   "outputs": [
    {
     "name": "stdout",
     "output_type": "stream",
     "text": [
      "Model Name:  LogisticRegression()\n",
      "Confusion matrix : \n",
      " [[   0  847]\n",
      " [   0 8457]]\n",
      "Outcome values : \n",
      " 0 847 0 8457\n",
      "Classification report : \n",
      "               precision    recall  f1-score   support\n",
      "\n",
      "           1       0.00      0.00      0.00       847\n",
      "           0       0.91      1.00      0.95      8457\n",
      "\n",
      "    accuracy                           0.91      9304\n",
      "   macro avg       0.45      0.50      0.48      9304\n",
      "weighted avg       0.83      0.91      0.87      9304\n",
      "\n",
      "Accuracy : 90.9 %\n",
      "Precision : nan %\n",
      "Recall : 0.0 %\n",
      "F1 Score : 0.0\n",
      "Specificity or True Negative Rate : 100.0 %\n",
      "Balanced Accuracy : 50.0 %\n",
      "MCC : nan\n",
      "roc_auc_score: 0.5\n"
     ]
    },
    {
     "data": {
      "image/png": "[encoded data removed]",
      "text/plain": [
       "<Figure size 432x288 with 1 Axes>"
      ]
     },
     "metadata": {
      "needs_background": "light"
     },
     "output_type": "display_data"
    },
    {
     "name": "stdout",
     "output_type": "stream",
     "text": [
      "-----------------------------------------------------------------------------------------------------\n",
      "Model Name:  DecisionTreeClassifier()\n",
      "Confusion matrix : \n",
      " [[ 146  701]\n",
      " [ 754 7703]]\n",
      "Outcome values : \n",
      " 146 701 754 7703\n",
      "Classification report : \n",
      "               precision    recall  f1-score   support\n",
      "\n",
      "           1       0.16      0.17      0.17       847\n",
      "           0       0.92      0.91      0.91      8457\n",
      "\n",
      "    accuracy                           0.84      9304\n",
      "   macro avg       0.54      0.54      0.54      9304\n",
      "weighted avg       0.85      0.84      0.85      9304\n",
      "\n",
      "Accuracy : 84.4 %\n",
      "Precision : 16.2 %\n",
      "Recall : 17.2 %\n",
      "F1 Score : 0.167\n",
      "Specificity or True Negative Rate : 91.1 %\n",
      "Balanced Accuracy : 54.2 %\n",
      "MCC : 0.081\n",
      "roc_auc_score: 0.542\n"
     ]
    },
    {
     "data": {
      "image/png": "[encoded data removed]",
      "text/plain": [
       "<Figure size 432x288 with 1 Axes>"
      ]
     },
     "metadata": {
      "needs_background": "light"
     },
     "output_type": "display_data"
    },
    {
     "name": "stdout",
     "output_type": "stream",
     "text": [
      "-----------------------------------------------------------------------------------------------------\n",
      "Model Name:  RandomForestClassifier()\n",
      "Confusion matrix : \n",
      " [[ 162  685]\n",
      " [ 129 8328]]\n",
      "Outcome values : \n",
      " 162 685 129 8328\n",
      "Classification report : \n",
      "               precision    recall  f1-score   support\n",
      "\n",
      "           1       0.56      0.19      0.28       847\n",
      "           0       0.92      0.98      0.95      8457\n",
      "\n",
      "    accuracy                           0.91      9304\n",
      "   macro avg       0.74      0.59      0.62      9304\n",
      "weighted avg       0.89      0.91      0.89      9304\n",
      "\n",
      "Accuracy : 91.3 %\n",
      "Precision : 55.7 %\n",
      "Recall : 19.1 %\n",
      "F1 Score : 0.285\n",
      "Specificity or True Negative Rate : 98.5 %\n",
      "Balanced Accuracy : 58.8 %\n",
      "MCC : 0.291\n",
      "roc_auc_score: 0.588\n"
     ]
    },
    {
     "data": {
      "image/png": "[encoded data removed]",
      "text/plain": [
       "<Figure size 432x288 with 1 Axes>"
      ]
     },
     "metadata": {
      "needs_background": "light"
     },
     "output_type": "display_data"
    },
    {
     "name": "stdout",
     "output_type": "stream",
     "text": [
      "-----------------------------------------------------------------------------------------------------\n",
      "Model Name:  ExtraTreesClassifier()\n",
      "Confusion matrix : \n",
      " [[ 237  610]\n",
      " [ 262 8195]]\n",
      "Outcome values : \n",
      " 237 610 262 8195\n",
      "Classification report : \n",
      "               precision    recall  f1-score   support\n",
      "\n",
      "           1       0.47      0.28      0.35       847\n",
      "           0       0.93      0.97      0.95      8457\n",
      "\n",
      "    accuracy                           0.91      9304\n",
      "   macro avg       0.70      0.62      0.65      9304\n",
      "weighted avg       0.89      0.91      0.90      9304\n",
      "\n",
      "Accuracy : 90.6 %\n",
      "Precision : 47.5 %\n",
      "Recall : 28.0 %\n",
      "F1 Score : 0.352\n",
      "Specificity or True Negative Rate : 96.9 %\n",
      "Balanced Accuracy : 62.4 %\n",
      "MCC : 0.318\n",
      "roc_auc_score: 0.624\n"
     ]
    },
    {
     "data": {
      "image/png": "[encoded data removed]",
      "text/plain": [
       "<Figure size 432x288 with 1 Axes>"
      ]
     },
     "metadata": {
      "needs_background": "light"
     },
     "output_type": "display_data"
    },
    {
     "name": "stdout",
     "output_type": "stream",
     "text": [
      "-----------------------------------------------------------------------------------------------------\n",
      "Model Name:  KNeighborsClassifier()\n",
      "Confusion matrix : \n",
      " [[  36  811]\n",
      " [ 142 8315]]\n",
      "Outcome values : \n",
      " 36 811 142 8315\n",
      "Classification report : \n",
      "               precision    recall  f1-score   support\n",
      "\n",
      "           1       0.20      0.04      0.07       847\n",
      "           0       0.91      0.98      0.95      8457\n",
      "\n",
      "    accuracy                           0.90      9304\n",
      "   macro avg       0.56      0.51      0.51      9304\n",
      "weighted avg       0.85      0.90      0.87      9304\n",
      "\n",
      "Accuracy : 89.8 %\n",
      "Precision : 20.2 %\n",
      "Recall : 4.3 %\n",
      "F1 Score : 0.07\n",
      "Specificity or True Negative Rate : 98.3 %\n",
      "Balanced Accuracy : 51.3 %\n",
      "MCC : 0.054\n",
      "roc_auc_score: 0.513\n"
     ]
    },
    {
     "data": {
      "image/png": "[encoded data removed]",
      "text/plain": [
       "<Figure size 432x288 with 1 Axes>"
      ]
     },
     "metadata": {
      "needs_background": "light"
     },
     "output_type": "display_data"
    },
    {
     "name": "stdout",
     "output_type": "stream",
     "text": [
      "-----------------------------------------------------------------------------------------------------\n",
      "Model Name:  MLPClassifier()\n",
      "Confusion matrix : \n",
      " [[   5  842]\n",
      " [  19 8438]]\n",
      "Outcome values : \n",
      " 5 842 19 8438\n",
      "Classification report : \n",
      "               precision    recall  f1-score   support\n",
      "\n",
      "           1       0.21      0.01      0.01       847\n",
      "           0       0.91      1.00      0.95      8457\n",
      "\n",
      "    accuracy                           0.91      9304\n",
      "   macro avg       0.56      0.50      0.48      9304\n",
      "weighted avg       0.85      0.91      0.87      9304\n",
      "\n",
      "Accuracy : 90.7 %\n",
      "Precision : 20.8 %\n",
      "Recall : 0.6 %\n",
      "F1 Score : 0.011\n",
      "Specificity or True Negative Rate : 99.8 %\n",
      "Balanced Accuracy : 50.2 %\n",
      "MCC : 0.021\n",
      "roc_auc_score: 0.502\n"
     ]
    },
    {
     "data": {
      "image/png": "[encoded data removed]",
      "text/plain": [
       "<Figure size 432x288 with 1 Axes>"
      ]
     },
     "metadata": {
      "needs_background": "light"
     },
     "output_type": "display_data"
    },
    {
     "name": "stdout",
     "output_type": "stream",
     "text": [
      "-----------------------------------------------------------------------------------------------------\n",
      "Model Name:  SVC(probability=True)\n",
      "Confusion matrix : \n",
      " [[   0  847]\n",
      " [   0 8457]]\n",
      "Outcome values : \n",
      " 0 847 0 8457\n",
      "Classification report : \n",
      "               precision    recall  f1-score   support\n",
      "\n",
      "           1       0.00      0.00      0.00       847\n",
      "           0       0.91      1.00      0.95      8457\n",
      "\n",
      "    accuracy                           0.91      9304\n",
      "   macro avg       0.45      0.50      0.48      9304\n",
      "weighted avg       0.83      0.91      0.87      9304\n",
      "\n",
      "Accuracy : 90.9 %\n",
      "Precision : nan %\n",
      "Recall : 0.0 %\n",
      "F1 Score : 0.0\n",
      "Specificity or True Negative Rate : 100.0 %\n",
      "Balanced Accuracy : 50.0 %\n",
      "MCC : nan\n",
      "roc_auc_score: 0.5\n"
     ]
    },
    {
     "data": {
      "image/png": "[encoded data removed]",
      "text/plain": [
       "<Figure size 432x288 with 1 Axes>"
      ]
     },
     "metadata": {
      "needs_background": "light"
     },
     "output_type": "display_data"
    },
    {
     "name": "stdout",
     "output_type": "stream",
     "text": [
      "-----------------------------------------------------------------------------------------------------\n",
      "Model Name:  BaggingClassifier(n_estimators=100)\n",
      "Confusion matrix : \n",
      " [[  52  795]\n",
      " [  60 8397]]\n",
      "Outcome values : \n",
      " 52 795 60 8397\n",
      "Classification report : \n",
      "               precision    recall  f1-score   support\n",
      "\n",
      "           1       0.46      0.06      0.11       847\n",
      "           0       0.91      0.99      0.95      8457\n",
      "\n",
      "    accuracy                           0.91      9304\n",
      "   macro avg       0.69      0.53      0.53      9304\n",
      "weighted avg       0.87      0.91      0.87      9304\n",
      "\n",
      "Accuracy : 90.8 %\n",
      "Precision : 46.4 %\n",
      "Recall : 6.1 %\n",
      "F1 Score : 0.108\n",
      "Specificity or True Negative Rate : 99.3 %\n",
      "Balanced Accuracy : 52.7 %\n",
      "MCC : 0.143\n",
      "roc_auc_score: 0.527\n"
     ]
    },
    {
     "data": {
      "image/png": "[encoded data removed]",
      "text/plain": [
       "<Figure size 432x288 with 1 Axes>"
      ]
     },
     "metadata": {
      "needs_background": "light"
     },
     "output_type": "display_data"
    },
    {
     "name": "stdout",
     "output_type": "stream",
     "text": [
      "-----------------------------------------------------------------------------------------------------\n",
      "Model Name:  GradientBoostingClassifier(loss='deviance')\n",
      "Confusion matrix : \n",
      " [[  12  835]\n",
      " [   8 8449]]\n",
      "Outcome values : \n",
      " 12 835 8 8449\n",
      "Classification report : \n",
      "               precision    recall  f1-score   support\n",
      "\n",
      "           1       0.60      0.01      0.03       847\n",
      "           0       0.91      1.00      0.95      8457\n",
      "\n",
      "    accuracy                           0.91      9304\n",
      "   macro avg       0.76      0.51      0.49      9304\n",
      "weighted avg       0.88      0.91      0.87      9304\n",
      "\n",
      "Accuracy : 90.9 %\n",
      "Precision : 60.0 %\n",
      "Recall : 1.4 %\n",
      "F1 Score : 0.028\n",
      "Specificity or True Negative Rate : 99.9 %\n",
      "Balanced Accuracy : 50.6 %\n",
      "MCC : 0.082\n",
      "roc_auc_score: 0.507\n"
     ]
    },
    {
     "data": {
      "image/png": "[encoded data removed]",
      "text/plain": [
       "<Figure size 432x288 with 1 Axes>"
      ]
     },
     "metadata": {
      "needs_background": "light"
     },
     "output_type": "display_data"
    },
    {
     "name": "stdout",
     "output_type": "stream",
     "text": [
      "-----------------------------------------------------------------------------------------------------\n",
      "Model Name:  GaussianNB()\n",
      "Confusion matrix : \n",
      " [[   0  847]\n",
      " [   0 8457]]\n",
      "Outcome values : \n",
      " 0 847 0 8457\n",
      "Classification report : \n",
      "               precision    recall  f1-score   support\n",
      "\n",
      "           1       0.00      0.00      0.00       847\n",
      "           0       0.91      1.00      0.95      8457\n",
      "\n",
      "    accuracy                           0.91      9304\n",
      "   macro avg       0.45      0.50      0.48      9304\n",
      "weighted avg       0.83      0.91      0.87      9304\n",
      "\n",
      "Accuracy : 90.9 %\n",
      "Precision : nan %\n",
      "Recall : 0.0 %\n",
      "F1 Score : 0.0\n",
      "Specificity or True Negative Rate : 100.0 %\n",
      "Balanced Accuracy : 50.0 %\n",
      "MCC : nan\n",
      "roc_auc_score: 0.5\n"
     ]
    },
    {
     "data": {
      "image/png": "[encoded data removed]",
      "text/plain": [
       "<Figure size 432x288 with 1 Axes>"
      ]
     },
     "metadata": {
      "needs_background": "light"
     },
     "output_type": "display_data"
    },
    {
     "name": "stdout",
     "output_type": "stream",
     "text": [
      "-----------------------------------------------------------------------------------------------------\n"
     ]
    }
   ],
   "source": [
    "# Build the Calssification models and compare the results\n",
    "\n",
    "from sklearn.linear_model import LogisticRegression\n",
    "from sklearn.tree import DecisionTreeClassifier\n",
    "from sklearn.ensemble import RandomForestClassifier\n",
    "from sklearn.ensemble import ExtraTreesClassifier\n",
    "from sklearn.neighbors import KNeighborsClassifier\n",
    "from sklearn.neural_network import MLPClassifier\n",
    "from sklearn.naive_bayes import GaussianNB\n",
    "from sklearn.svm import SVC\n",
    "from sklearn.ensemble import BaggingClassifier\n",
    "from sklearn.ensemble import GradientBoostingClassifier\n",
    "\n",
    "# Create objects of classification algorithm with default hyper-parameters\n",
    "\n",
    "ModelLR = LogisticRegression()\n",
    "ModelDC = DecisionTreeClassifier()\n",
    "ModelRF = RandomForestClassifier()\n",
    "ModelET = ExtraTreesClassifier()\n",
    "ModelKNN = KNeighborsClassifier(n_neighbors=5)\n",
    "ModelMLP = MLPClassifier()\n",
    "ModelGNB = GaussianNB()\n",
    "ModelSVM = SVC(probability=True)\n",
    "\n",
    "modelBAG = BaggingClassifier(base_estimator=None, n_estimators=100, max_samples=1.0, max_features=1.0,\n",
    "                             bootstrap=True, bootstrap_features=False, oob_score=False, warm_start=False,\n",
    "                             n_jobs=None, random_state=None, verbose=0)\n",
    "\n",
    "ModelGB = GradientBoostingClassifier(loss='deviance', learning_rate=0.1, n_estimators=100, subsample=1.0, \n",
    "                                     criterion='friedman_mse', min_samples_split=2, min_samples_leaf=1, \n",
    "                                     min_weight_fraction_leaf=0.0, max_depth=3, min_impurity_decrease=0.0,\n",
    "                                     init=None, random_state=None,\n",
    "                                     max_features=None, verbose=0, max_leaf_nodes=None, warm_start=False,\n",
    "                                     validation_fraction=0.1, n_iter_no_change=None, tol=0.0001, ccp_alpha=0.0)\n",
    "\n",
    "# Evalution matrix for all the algorithms\n",
    "\n",
    "MM = [ModelLR, ModelDC, ModelRF, ModelET, ModelKNN, ModelMLP, ModelSVM, modelBAG, ModelGB, ModelGNB]\n",
    "for models in MM:\n",
    "    \n",
    "    # Fit the model\n",
    "    \n",
    "    models.fit(x_train, y_train)\n",
    "    \n",
    "    # Prediction\n",
    "    \n",
    "    y_pred = models.predict(x_test)\n",
    "    y_pred_prob = models.predict_proba(x_test)\n",
    "    \n",
    "    # Print the model name\n",
    "    \n",
    "    print('Model Name: ', models)\n",
    "    \n",
    "    # confusion matrix in sklearn\n",
    "\n",
    "    from sklearn.metrics import confusion_matrix\n",
    "    from sklearn.metrics import classification_report\n",
    "\n",
    "    # actual values\n",
    "\n",
    "    actual = y_test\n",
    "\n",
    "    # predicted values\n",
    "\n",
    "    predicted = y_pred\n",
    "\n",
    "    # confusion matrix\n",
    "\n",
    "    matrix = confusion_matrix(actual,predicted, labels=[1,0],sample_weight=None, normalize=None)\n",
    "    print('Confusion matrix : \\n', matrix)\n",
    "\n",
    "    # outcome values order in sklearn\n",
    "\n",
    "    tp, fn, fp, tn = confusion_matrix(actual,predicted,labels=[1,0]).reshape(-1)\n",
    "    print('Outcome values : \\n', tp, fn, fp, tn)\n",
    "\n",
    "    # classification report for precision, recall f1-score and accuracy\n",
    "\n",
    "    C_Report = classification_report(actual,predicted,labels=[1,0])\n",
    "\n",
    "    print('Classification report : \\n', C_Report)\n",
    "\n",
    "    # calculating the metrics\n",
    "\n",
    "    sensitivity = round(tp/(tp+fn), 3);\n",
    "    specificity = round(tn/(tn+fp), 3);\n",
    "    accuracy = round((tp+tn)/(tp+fp+tn+fn), 3);\n",
    "    balanced_accuracy = round((sensitivity+specificity)/2, 3);\n",
    "    \n",
    "    precision = round(tp/(tp+fp), 3);\n",
    "    f1Score = round((2*tp/(2*tp + fp + fn)), 3);\n",
    "\n",
    "    # Matthews Correlation Coefficient (MCC). Range of values of MCC lie between -1 to +1. \n",
    "    # A model with a score of +1 is a perfect model and -1 is a poor model\n",
    "\n",
    "    from math import sqrt\n",
    "\n",
    "    mx = (tp+fp) * (tp+fn) * (tn+fp) * (tn+fn)\n",
    "    MCC = round(((tp * tn) - (fp * fn)) / sqrt(mx), 3)\n",
    "\n",
    "    print('Accuracy :', round(accuracy*100, 2),'%')\n",
    "    print('Precision :', round(precision*100, 2),'%')\n",
    "    print('Recall :', round(sensitivity*100,2), '%')\n",
    "    print('F1 Score :', f1Score)\n",
    "    print('Specificity or True Negative Rate :', round(specificity*100,2), '%'  )\n",
    "    print('Balanced Accuracy :', round(balanced_accuracy*100, 2),'%')\n",
    "    print('MCC :', MCC)\n",
    "\n",
    "    # Area under ROC curve \n",
    "\n",
    "    from sklearn.metrics import roc_curve, roc_auc_score\n",
    "\n",
    "    print('roc_auc_score:', round(roc_auc_score(y_test, y_pred), 3))\n",
    "    \n",
    "    # ROC Curve\n",
    "    \n",
    "    from sklearn.metrics import roc_auc_score\n",
    "    from sklearn.metrics import roc_curve\n",
    "    logit_roc_auc = roc_auc_score(y_test, y_pred)\n",
    "    fpr, tpr, thresholds = roc_curve(y_test, models.predict_proba(x_test)[:,1])\n",
    "    plt.figure()\n",
    "    # plt.plot(fpr, tpr, label='Logistic Regression (area = %0.2f)' % logit_roc_auc)\n",
    "    plt.plot(fpr, tpr, label= 'Classification Model' % logit_roc_auc)\n",
    "    plt.plot([0, 1], [0, 1],'r--')\n",
    "    plt.xlim([0.0, 1.0])\n",
    "    plt.ylim([0.0, 1.05])\n",
    "    plt.xlabel('False Positive Rate')\n",
    "    plt.ylabel('True Positive Rate')\n",
    "    plt.title('Receiver operating characteristic')\n",
    "    plt.legend(loc=\"lower right\")\n",
    "    plt.savefig('Log_ROC')\n",
    "    plt.show()\n",
    "    print('-----------------------------------------------------------------------------------------------------')\n",
    "    #----------------------------------------------------------------------------------------------------------\n",
    "    new_row = {'Model Name' : models,\n",
    "               'Accuracy' : accuracy,\n",
    "               'Precision' : precision,\n",
    "               'Recall' : sensitivity,\n",
    "               'F1 Score' : f1Score,\n",
    "               'Specificity' : specificity,\n",
    "               'MCC':MCC,\n",
    "               'ROC_AUC_Score':roc_auc_score(y_test, y_pred),\n",
    "               'Balanced Accuracy':balanced_accuracy}\n",
    "    CSResults = CSResults.append(new_row, ignore_index=True)\n",
    "    #----------------------------------------------------------------------------------------------------------"
   ]
  },
  {
   "cell_type": "code",
   "execution_count": 18,
   "metadata": {},
   "outputs": [
    {
     "data": {
      "text/html": [
       "<div>\n",
       "<style scoped>\n",
       "    .dataframe tbody tr th:only-of-type {\n",
       "        vertical-align: middle;\n",
       "    }\n",
       "\n",
       "    .dataframe tbody tr th {\n",
       "        vertical-align: top;\n",
       "    }\n",
       "\n",
       "    .dataframe thead th {\n",
       "        text-align: right;\n",
       "    }\n",
       "</style>\n",
       "<table border=\"1\" class=\"dataframe\">\n",
       "  <thead>\n",
       "    <tr style=\"text-align: right;\">\n",
       "      <th></th>\n",
       "      <th>Model Name</th>\n",
       "      <th>Accuracy</th>\n",
       "      <th>Precision</th>\n",
       "      <th>Recall</th>\n",
       "      <th>F1 Score</th>\n",
       "      <th>Specificity</th>\n",
       "      <th>MCC</th>\n",
       "      <th>ROC_AUC_Score</th>\n",
       "      <th>Balanced Accuracy</th>\n",
       "    </tr>\n",
       "  </thead>\n",
       "  <tbody>\n",
       "    <tr>\n",
       "      <th>0</th>\n",
       "      <td>LogisticRegression()</td>\n",
       "      <td>0.909</td>\n",
       "      <td>NaN</td>\n",
       "      <td>0.0</td>\n",
       "      <td>0.0</td>\n",
       "      <td>1.0</td>\n",
       "      <td>NaN</td>\n",
       "      <td>0.5</td>\n",
       "      <td>0.5</td>\n",
       "    </tr>\n",
       "    <tr>\n",
       "      <th>1</th>\n",
       "      <td>DecisionTreeClassifier()</td>\n",
       "      <td>0.844</td>\n",
       "      <td>0.162</td>\n",
       "      <td>0.172</td>\n",
       "      <td>0.167</td>\n",
       "      <td>0.911</td>\n",
       "      <td>0.081</td>\n",
       "      <td>0.541608</td>\n",
       "      <td>0.542</td>\n",
       "    </tr>\n",
       "    <tr>\n",
       "      <th>2</th>\n",
       "      <td>(DecisionTreeClassifier(max_features='sqrt', r...</td>\n",
       "      <td>0.913</td>\n",
       "      <td>0.557</td>\n",
       "      <td>0.191</td>\n",
       "      <td>0.285</td>\n",
       "      <td>0.985</td>\n",
       "      <td>0.291</td>\n",
       "      <td>0.588005</td>\n",
       "      <td>0.588</td>\n",
       "    </tr>\n",
       "    <tr>\n",
       "      <th>3</th>\n",
       "      <td>(ExtraTreeClassifier(random_state=119555615), ...</td>\n",
       "      <td>0.906</td>\n",
       "      <td>0.475</td>\n",
       "      <td>0.28</td>\n",
       "      <td>0.352</td>\n",
       "      <td>0.969</td>\n",
       "      <td>0.318</td>\n",
       "      <td>0.624415</td>\n",
       "      <td>0.624</td>\n",
       "    </tr>\n",
       "    <tr>\n",
       "      <th>4</th>\n",
       "      <td>KNeighborsClassifier()</td>\n",
       "      <td>0.898</td>\n",
       "      <td>0.202</td>\n",
       "      <td>0.043</td>\n",
       "      <td>0.07</td>\n",
       "      <td>0.983</td>\n",
       "      <td>0.054</td>\n",
       "      <td>0.512856</td>\n",
       "      <td>0.513</td>\n",
       "    </tr>\n",
       "    <tr>\n",
       "      <th>5</th>\n",
       "      <td>MLPClassifier()</td>\n",
       "      <td>0.907</td>\n",
       "      <td>0.208</td>\n",
       "      <td>0.006</td>\n",
       "      <td>0.011</td>\n",
       "      <td>0.998</td>\n",
       "      <td>0.021</td>\n",
       "      <td>0.501828</td>\n",
       "      <td>0.502</td>\n",
       "    </tr>\n",
       "    <tr>\n",
       "      <th>6</th>\n",
       "      <td>SVC(probability=True)</td>\n",
       "      <td>0.909</td>\n",
       "      <td>NaN</td>\n",
       "      <td>0.0</td>\n",
       "      <td>0.0</td>\n",
       "      <td>1.0</td>\n",
       "      <td>NaN</td>\n",
       "      <td>0.5</td>\n",
       "      <td>0.5</td>\n",
       "    </tr>\n",
       "    <tr>\n",
       "      <th>7</th>\n",
       "      <td>(DecisionTreeClassifier(random_state=793850313...</td>\n",
       "      <td>0.908</td>\n",
       "      <td>0.464</td>\n",
       "      <td>0.061</td>\n",
       "      <td>0.108</td>\n",
       "      <td>0.993</td>\n",
       "      <td>0.143</td>\n",
       "      <td>0.527149</td>\n",
       "      <td>0.527</td>\n",
       "    </tr>\n",
       "    <tr>\n",
       "      <th>8</th>\n",
       "      <td>([DecisionTreeRegressor(criterion='friedman_ms...</td>\n",
       "      <td>0.909</td>\n",
       "      <td>0.6</td>\n",
       "      <td>0.014</td>\n",
       "      <td>0.028</td>\n",
       "      <td>0.999</td>\n",
       "      <td>0.082</td>\n",
       "      <td>0.506611</td>\n",
       "      <td>0.506</td>\n",
       "    </tr>\n",
       "    <tr>\n",
       "      <th>9</th>\n",
       "      <td>GaussianNB()</td>\n",
       "      <td>0.909</td>\n",
       "      <td>NaN</td>\n",
       "      <td>0.0</td>\n",
       "      <td>0.0</td>\n",
       "      <td>1.0</td>\n",
       "      <td>NaN</td>\n",
       "      <td>0.5</td>\n",
       "      <td>0.5</td>\n",
       "    </tr>\n",
       "  </tbody>\n",
       "</table>\n",
       "</div>"
      ],
      "text/plain": [
       "                                          Model Name Accuracy Precision  \\\n",
       "0                               LogisticRegression()    0.909       NaN   \n",
       "1                           DecisionTreeClassifier()    0.844     0.162   \n",
       "2  (DecisionTreeClassifier(max_features='sqrt', r...    0.913     0.557   \n",
       "3  (ExtraTreeClassifier(random_state=119555615), ...    0.906     0.475   \n",
       "4                             KNeighborsClassifier()    0.898     0.202   \n",
       "5                                    MLPClassifier()    0.907     0.208   \n",
       "6                              SVC(probability=True)    0.909       NaN   \n",
       "7  (DecisionTreeClassifier(random_state=793850313...    0.908     0.464   \n",
       "8  ([DecisionTreeRegressor(criterion='friedman_ms...    0.909       0.6   \n",
       "9                                       GaussianNB()    0.909       NaN   \n",
       "\n",
       "  Recall F1 Score Specificity    MCC ROC_AUC_Score Balanced Accuracy  \n",
       "0    0.0      0.0         1.0    NaN           0.5               0.5  \n",
       "1  0.172    0.167       0.911  0.081      0.541608             0.542  \n",
       "2  0.191    0.285       0.985  0.291      0.588005             0.588  \n",
       "3   0.28    0.352       0.969  0.318      0.624415             0.624  \n",
       "4  0.043     0.07       0.983  0.054      0.512856             0.513  \n",
       "5  0.006    0.011       0.998  0.021      0.501828             0.502  \n",
       "6    0.0      0.0         1.0    NaN           0.5               0.5  \n",
       "7  0.061    0.108       0.993  0.143      0.527149             0.527  \n",
       "8  0.014    0.028       0.999  0.082      0.506611             0.506  \n",
       "9    0.0      0.0         1.0    NaN           0.5               0.5  "
      ]
     },
     "execution_count": 18,
     "metadata": {},
     "output_type": "execute_result"
    }
   ],
   "source": [
    "# Results with comparing the all the algorithms \n",
    "\n",
    "CSResults.to_csv(\"C://Users//Admin//Downloads//Raju Sir DLS//CaseStudy//CSResults_12.csv\")\n",
    "\n",
    "CSResults.head(20)"
   ]
  },
  {
   "cell_type": "code",
   "execution_count": null,
   "metadata": {},
   "outputs": [],
   "source": []
  }
 ],
 "metadata": {
  "kernelspec": {
   "display_name": "Python 3 (ipykernel)",
   "language": "python",
   "name": "python3"
  },
  "language_info": {
   "codemirror_mode": {
    "name": "ipython",
    "version": 3
   },
   "file_extension": ".py",
   "mimetype": "text/x-python",
   "name": "python",
   "nbconvert_exporter": "python",
   "pygments_lexer": "ipython3",
   "version": "3.9.12"
  }
 },
 "nbformat": 4,
 "nbformat_minor": 4
}
