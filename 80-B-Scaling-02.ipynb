{
 "cells": [
  {
   "cell_type": "code",
   "execution_count": 31,
   "metadata": {},
   "outputs": [],
   "source": [
    "# Importing the libraries\n",
    "\n",
    "import pandas as pd\n",
    "import numpy as np \n",
    "import matplotlib.pyplot as plt\n",
    "\n",
    "# Ignore harmless warnings \n",
    "\n",
    "import warnings \n",
    "warnings.filterwarnings(\"ignore\")\n",
    "\n",
    "# Set to display all the columns in dataset\n",
    "\n",
    "pd.set_option(\"display.max_columns\", None)\n",
    "\n",
    "# Import psql to run queries \n",
    "\n",
    "#import pandasql as psql"
   ]
  },
  {
   "cell_type": "code",
   "execution_count": 32,
   "metadata": {},
   "outputs": [
    {
     "data": {
      "text/html": [
       "<div>\n",
       "<style scoped>\n",
       "    .dataframe tbody tr th:only-of-type {\n",
       "        vertical-align: middle;\n",
       "    }\n",
       "\n",
       "    .dataframe tbody tr th {\n",
       "        vertical-align: top;\n",
       "    }\n",
       "\n",
       "    .dataframe thead th {\n",
       "        text-align: right;\n",
       "    }\n",
       "</style>\n",
       "<table border=\"1\" class=\"dataframe\">\n",
       "  <thead>\n",
       "    <tr style=\"text-align: right;\">\n",
       "      <th></th>\n",
       "      <th>HeightM</th>\n",
       "      <th>Weightkg</th>\n",
       "      <th>Fat</th>\n",
       "      <th>BMI</th>\n",
       "    </tr>\n",
       "  </thead>\n",
       "  <tbody>\n",
       "    <tr>\n",
       "      <th>0</th>\n",
       "      <td>1.60</td>\n",
       "      <td>49.44</td>\n",
       "      <td>23.9</td>\n",
       "      <td>19.31</td>\n",
       "    </tr>\n",
       "    <tr>\n",
       "      <th>1</th>\n",
       "      <td>1.65</td>\n",
       "      <td>62.60</td>\n",
       "      <td>28.8</td>\n",
       "      <td>22.96</td>\n",
       "    </tr>\n",
       "    <tr>\n",
       "      <th>2</th>\n",
       "      <td>1.65</td>\n",
       "      <td>75.75</td>\n",
       "      <td>32.4</td>\n",
       "      <td>27.79</td>\n",
       "    </tr>\n",
       "    <tr>\n",
       "      <th>3</th>\n",
       "      <td>1.53</td>\n",
       "      <td>48.99</td>\n",
       "      <td>25.8</td>\n",
       "      <td>20.92</td>\n",
       "    </tr>\n",
       "    <tr>\n",
       "      <th>4</th>\n",
       "      <td>1.45</td>\n",
       "      <td>43.09</td>\n",
       "      <td>22.5</td>\n",
       "      <td>20.38</td>\n",
       "    </tr>\n",
       "  </tbody>\n",
       "</table>\n",
       "</div>"
      ],
      "text/plain": [
       "   HeightM  Weightkg   Fat    BMI\n",
       "0     1.60     49.44  23.9  19.31\n",
       "1     1.65     62.60  28.8  22.96\n",
       "2     1.65     75.75  32.4  27.79\n",
       "3     1.53     48.99  25.8  20.92\n",
       "4     1.45     43.09  22.5  20.38"
      ]
     },
     "execution_count": 32,
     "metadata": {},
     "output_type": "execute_result"
    }
   ],
   "source": [
    "# load the BMI dataset \n",
    "\n",
    "bmidata = pd.read_excel(r\"C:\\Users\\Admin\\Downloads\\Raju Sir DLS\\Predict_BMI.xlsx\", header=0) \n",
    "bmidata.head()"
   ]
  },
  {
   "cell_type": "code",
   "execution_count": 33,
   "metadata": {},
   "outputs": [
    {
     "data": {
      "text/html": [
       "<div>\n",
       "<style scoped>\n",
       "    .dataframe tbody tr th:only-of-type {\n",
       "        vertical-align: middle;\n",
       "    }\n",
       "\n",
       "    .dataframe tbody tr th {\n",
       "        vertical-align: top;\n",
       "    }\n",
       "\n",
       "    .dataframe thead th {\n",
       "        text-align: right;\n",
       "    }\n",
       "</style>\n",
       "<table border=\"1\" class=\"dataframe\">\n",
       "  <thead>\n",
       "    <tr style=\"text-align: right;\">\n",
       "      <th></th>\n",
       "      <th>HeightM</th>\n",
       "      <th>Weightkg</th>\n",
       "      <th>Fat</th>\n",
       "      <th>BMI</th>\n",
       "    </tr>\n",
       "  </thead>\n",
       "  <tbody>\n",
       "    <tr>\n",
       "      <th>0</th>\n",
       "      <td>1.60</td>\n",
       "      <td>49.44</td>\n",
       "      <td>23.9</td>\n",
       "      <td>19.31</td>\n",
       "    </tr>\n",
       "    <tr>\n",
       "      <th>1</th>\n",
       "      <td>1.65</td>\n",
       "      <td>62.60</td>\n",
       "      <td>28.8</td>\n",
       "      <td>22.96</td>\n",
       "    </tr>\n",
       "    <tr>\n",
       "      <th>2</th>\n",
       "      <td>1.65</td>\n",
       "      <td>75.75</td>\n",
       "      <td>32.4</td>\n",
       "      <td>27.79</td>\n",
       "    </tr>\n",
       "    <tr>\n",
       "      <th>3</th>\n",
       "      <td>1.53</td>\n",
       "      <td>48.99</td>\n",
       "      <td>25.8</td>\n",
       "      <td>20.92</td>\n",
       "    </tr>\n",
       "    <tr>\n",
       "      <th>4</th>\n",
       "      <td>1.45</td>\n",
       "      <td>43.09</td>\n",
       "      <td>22.5</td>\n",
       "      <td>20.38</td>\n",
       "    </tr>\n",
       "  </tbody>\n",
       "</table>\n",
       "</div>"
      ],
      "text/plain": [
       "   HeightM  Weightkg   Fat    BMI\n",
       "0     1.60     49.44  23.9  19.31\n",
       "1     1.65     62.60  28.8  22.96\n",
       "2     1.65     75.75  32.4  27.79\n",
       "3     1.53     48.99  25.8  20.92\n",
       "4     1.45     43.09  22.5  20.38"
      ]
     },
     "execution_count": 33,
     "metadata": {},
     "output_type": "execute_result"
    }
   ],
   "source": [
    "# Copy file to new file \n",
    "\n",
    "bmidata_scaled = bmidata.copy()\n",
    "col_names = ['HeightM', 'Weightkg', 'Fat', 'BMI']\n",
    "features = bmidata_scaled[col_names]\n",
    "features.head()"
   ]
  },
  {
   "cell_type": "code",
   "execution_count": 34,
   "metadata": {},
   "outputs": [
    {
     "data": {
      "text/html": [
       "<div>\n",
       "<style scoped>\n",
       "    .dataframe tbody tr th:only-of-type {\n",
       "        vertical-align: middle;\n",
       "    }\n",
       "\n",
       "    .dataframe tbody tr th {\n",
       "        vertical-align: top;\n",
       "    }\n",
       "\n",
       "    .dataframe thead th {\n",
       "        text-align: right;\n",
       "    }\n",
       "</style>\n",
       "<table border=\"1\" class=\"dataframe\">\n",
       "  <thead>\n",
       "    <tr style=\"text-align: right;\">\n",
       "      <th></th>\n",
       "      <th>HeightM</th>\n",
       "      <th>Weightkg</th>\n",
       "      <th>Fat</th>\n",
       "      <th>BMI</th>\n",
       "    </tr>\n",
       "  </thead>\n",
       "  <tbody>\n",
       "    <tr>\n",
       "      <th>HeightM</th>\n",
       "      <td>1.000000</td>\n",
       "      <td>0.687894</td>\n",
       "      <td>0.273390</td>\n",
       "      <td>0.429862</td>\n",
       "    </tr>\n",
       "    <tr>\n",
       "      <th>Weightkg</th>\n",
       "      <td>0.687894</td>\n",
       "      <td>1.000000</td>\n",
       "      <td>0.780368</td>\n",
       "      <td>0.946975</td>\n",
       "    </tr>\n",
       "    <tr>\n",
       "      <th>Fat</th>\n",
       "      <td>0.273390</td>\n",
       "      <td>0.780368</td>\n",
       "      <td>1.000000</td>\n",
       "      <td>0.862530</td>\n",
       "    </tr>\n",
       "    <tr>\n",
       "      <th>BMI</th>\n",
       "      <td>0.429862</td>\n",
       "      <td>0.946975</td>\n",
       "      <td>0.862530</td>\n",
       "      <td>1.000000</td>\n",
       "    </tr>\n",
       "  </tbody>\n",
       "</table>\n",
       "</div>"
      ],
      "text/plain": [
       "           HeightM  Weightkg       Fat       BMI\n",
       "HeightM   1.000000  0.687894  0.273390  0.429862\n",
       "Weightkg  0.687894  1.000000  0.780368  0.946975\n",
       "Fat       0.273390  0.780368  1.000000  0.862530\n",
       "BMI       0.429862  0.946975  0.862530  1.000000"
      ]
     },
     "execution_count": 34,
     "metadata": {},
     "output_type": "execute_result"
    }
   ],
   "source": [
    "# Disply the  correlation coefficient\n",
    "\n",
    "bmidata.corr()"
   ]
  },
  {
   "cell_type": "code",
   "execution_count": 35,
   "metadata": {},
   "outputs": [
    {
     "data": {
      "image/png": "[encoded data removed]",
      "text/plain": [
       "<Figure size 432x288 with 1 Axes>"
      ]
     },
     "metadata": {
      "needs_background": "light"
     },
     "output_type": "display_data"
    }
   ],
   "source": [
    "#import numpy as np\n",
    "#import matplotlib.pyplot as plt\n",
    "\n",
    "data1 = bmidata['Weightkg']\n",
    "  \n",
    "# Plotting the histogram.\n",
    "\n",
    "plt.hist(data1, bins=10, density=True, alpha=0.6, color='b')\n",
    "\n",
    "plt.show()"
   ]
  },
  {
   "cell_type": "code",
   "execution_count": 36,
   "metadata": {},
   "outputs": [
    {
     "data": {
      "image/png": "[encoded data removed]",
      "text/plain": [
       "<Figure size 432x288 with 1 Axes>"
      ]
     },
     "metadata": {
      "needs_background": "light"
     },
     "output_type": "display_data"
    }
   ],
   "source": [
    "#import numpy as np\n",
    "from scipy.stats import norm\n",
    "#import matplotlib.pyplot as plt\n",
    "  \n",
    "data2 = bmidata['Weightkg']\n",
    "  \n",
    "# Fit a normal distribution to the data\n",
    "# mean and standard deviation\n",
    "\n",
    "mu, std = norm.fit(data2) \n",
    "  \n",
    "# Plot the histogram\n",
    "\n",
    "plt.hist(data2, bins=10, density=True, alpha=0.6, color='b')\n",
    "  \n",
    "# Plot the PDF\n",
    "\n",
    "xmin, xmax = plt.xlim()\n",
    "x = np.linspace(xmin, xmax, 100)\n",
    "p = norm.pdf(x, mu, std)\n",
    "  \n",
    "plt.plot(x, p, 'k', linewidth=2)\n",
    "title = \"Fit Values: {:.2f} and {:.2f}\".format(mu, std)\n",
    "plt.title(title)\n",
    "  \n",
    "plt.show()"
   ]
  },
  {
   "cell_type": "code",
   "execution_count": 37,
   "metadata": {},
   "outputs": [
    {
     "data": {
      "image/png": "[encoded data removed]",
      "text/plain": [
       "<Figure size 720x432 with 1 Axes>"
      ]
     },
     "metadata": {
      "needs_background": "light"
     },
     "output_type": "display_data"
    }
   ],
   "source": [
    "import matplotlib.pyplot as plt\n",
    "import pandas as pd\n",
    "\n",
    "fig, ax = plt.subplots(figsize=(10, 6))\n",
    "ax.scatter(x = bmidata['Weightkg'], y = bmidata['BMI'])\n",
    "plt.xlabel(\"Weight in Kgs\")\n",
    "plt.ylabel(\"BMI\")\n",
    "\n",
    "plt.show()"
   ]
  },
  {
   "cell_type": "code",
   "execution_count": 38,
   "metadata": {},
   "outputs": [],
   "source": [
    "# The MinMax scaler is one of the simplest scalers to understand.  It just scales all the data between 0 and 1.\n",
    "# Though (0, 1) is the default range, we can define our range of max and min values as well.\n",
    "# MinMax Scaler => x_scaled = (x – x_min)/(x_max – x_min)\n",
    "\n",
    "from sklearn.preprocessing import MinMaxScaler\n",
    "\n",
    "mmscaler = MinMaxScaler()"
   ]
  },
  {
   "cell_type": "code",
   "execution_count": 39,
   "metadata": {},
   "outputs": [
    {
     "data": {
      "text/html": [
       "<div>\n",
       "<style scoped>\n",
       "    .dataframe tbody tr th:only-of-type {\n",
       "        vertical-align: middle;\n",
       "    }\n",
       "\n",
       "    .dataframe tbody tr th {\n",
       "        vertical-align: top;\n",
       "    }\n",
       "\n",
       "    .dataframe thead th {\n",
       "        text-align: right;\n",
       "    }\n",
       "</style>\n",
       "<table border=\"1\" class=\"dataframe\">\n",
       "  <thead>\n",
       "    <tr style=\"text-align: right;\">\n",
       "      <th></th>\n",
       "      <th>HeightM</th>\n",
       "      <th>Weightkg</th>\n",
       "      <th>Fat</th>\n",
       "      <th>BMI</th>\n",
       "    </tr>\n",
       "  </thead>\n",
       "  <tbody>\n",
       "    <tr>\n",
       "      <th>0</th>\n",
       "      <td>0.818182</td>\n",
       "      <td>0.346259</td>\n",
       "      <td>0.273026</td>\n",
       "      <td>0.221880</td>\n",
       "    </tr>\n",
       "    <tr>\n",
       "      <th>1</th>\n",
       "      <td>0.969697</td>\n",
       "      <td>0.572066</td>\n",
       "      <td>0.434211</td>\n",
       "      <td>0.409348</td>\n",
       "    </tr>\n",
       "    <tr>\n",
       "      <th>2</th>\n",
       "      <td>0.969697</td>\n",
       "      <td>0.797701</td>\n",
       "      <td>0.552632</td>\n",
       "      <td>0.657422</td>\n",
       "    </tr>\n",
       "    <tr>\n",
       "      <th>3</th>\n",
       "      <td>0.606061</td>\n",
       "      <td>0.338538</td>\n",
       "      <td>0.335526</td>\n",
       "      <td>0.304571</td>\n",
       "    </tr>\n",
       "    <tr>\n",
       "      <th>4</th>\n",
       "      <td>0.363636</td>\n",
       "      <td>0.237303</td>\n",
       "      <td>0.226974</td>\n",
       "      <td>0.276836</td>\n",
       "    </tr>\n",
       "  </tbody>\n",
       "</table>\n",
       "</div>"
      ],
      "text/plain": [
       "    HeightM  Weightkg       Fat       BMI\n",
       "0  0.818182  0.346259  0.273026  0.221880\n",
       "1  0.969697  0.572066  0.434211  0.409348\n",
       "2  0.969697  0.797701  0.552632  0.657422\n",
       "3  0.606061  0.338538  0.335526  0.304571\n",
       "4  0.363636  0.237303  0.226974  0.276836"
      ]
     },
     "execution_count": 39,
     "metadata": {},
     "output_type": "execute_result"
    }
   ],
   "source": [
    "# Apply the MinMax scaler to BMI dataset\n",
    "\n",
    "bmidata_scaled[col_names] = mmscaler.fit_transform(features.values)\n",
    "bmidata_scaled.head()"
   ]
  },
  {
   "cell_type": "code",
   "execution_count": 40,
   "metadata": {},
   "outputs": [
    {
     "data": {
      "text/html": [
       "<div>\n",
       "<style scoped>\n",
       "    .dataframe tbody tr th:only-of-type {\n",
       "        vertical-align: middle;\n",
       "    }\n",
       "\n",
       "    .dataframe tbody tr th {\n",
       "        vertical-align: top;\n",
       "    }\n",
       "\n",
       "    .dataframe thead th {\n",
       "        text-align: right;\n",
       "    }\n",
       "</style>\n",
       "<table border=\"1\" class=\"dataframe\">\n",
       "  <thead>\n",
       "    <tr style=\"text-align: right;\">\n",
       "      <th></th>\n",
       "      <th>HeightM</th>\n",
       "      <th>Weightkg</th>\n",
       "      <th>Fat</th>\n",
       "      <th>BMI</th>\n",
       "    </tr>\n",
       "  </thead>\n",
       "  <tbody>\n",
       "    <tr>\n",
       "      <th>HeightM</th>\n",
       "      <td>1.000000</td>\n",
       "      <td>0.687894</td>\n",
       "      <td>0.273390</td>\n",
       "      <td>0.429862</td>\n",
       "    </tr>\n",
       "    <tr>\n",
       "      <th>Weightkg</th>\n",
       "      <td>0.687894</td>\n",
       "      <td>1.000000</td>\n",
       "      <td>0.780368</td>\n",
       "      <td>0.946975</td>\n",
       "    </tr>\n",
       "    <tr>\n",
       "      <th>Fat</th>\n",
       "      <td>0.273390</td>\n",
       "      <td>0.780368</td>\n",
       "      <td>1.000000</td>\n",
       "      <td>0.862530</td>\n",
       "    </tr>\n",
       "    <tr>\n",
       "      <th>BMI</th>\n",
       "      <td>0.429862</td>\n",
       "      <td>0.946975</td>\n",
       "      <td>0.862530</td>\n",
       "      <td>1.000000</td>\n",
       "    </tr>\n",
       "  </tbody>\n",
       "</table>\n",
       "</div>"
      ],
      "text/plain": [
       "           HeightM  Weightkg       Fat       BMI\n",
       "HeightM   1.000000  0.687894  0.273390  0.429862\n",
       "Weightkg  0.687894  1.000000  0.780368  0.946975\n",
       "Fat       0.273390  0.780368  1.000000  0.862530\n",
       "BMI       0.429862  0.946975  0.862530  1.000000"
      ]
     },
     "execution_count": 40,
     "metadata": {},
     "output_type": "execute_result"
    }
   ],
   "source": [
    "# Disply the correlation coefficient (after)\n",
    "\n",
    "bmidata_scaled.corr()"
   ]
  },
  {
   "cell_type": "code",
   "execution_count": 41,
   "metadata": {},
   "outputs": [
    {
     "data": {
      "image/png": "[encoded data removed]",
      "text/plain": [
       "<Figure size 720x432 with 2 Axes>"
      ]
     },
     "metadata": {
      "needs_background": "light"
     },
     "output_type": "display_data"
    }
   ],
   "source": [
    "import matplotlib.pyplot as plt\n",
    "import pandas as pd\n",
    "\n",
    "fig, ax = plt.subplots(2, figsize=(10, 6))\n",
    "ax[0].scatter(x = bmidata['Weightkg'], y = bmidata['BMI'], color = \"blue\")\n",
    "ax[0].set_xlabel(\"Weight in Kgs\")\n",
    "ax[0].set_ylabel(\"BMI\")\n",
    "\n",
    "ax[1].scatter(x = bmidata_scaled['Weightkg'], y = bmidata_scaled['BMI'], color = \"green\")\n",
    "ax[1].set_xlabel(\"Weight in Kgs\")\n",
    "ax[1].set_ylabel(\"BMI\")\n",
    "\n",
    "plt.show()"
   ]
  },
  {
   "cell_type": "code",
   "execution_count": 42,
   "metadata": {},
   "outputs": [
    {
     "data": {
      "image/png": "[encoded data removed]",
      "text/plain": [
       "<Figure size 720x432 with 2 Axes>"
      ]
     },
     "metadata": {
      "needs_background": "light"
     },
     "output_type": "display_data"
    }
   ],
   "source": [
    "import matplotlib.pyplot as plt\n",
    "import pandas as pd\n",
    "\n",
    "fig, ax = plt.subplots(2, figsize=(10, 6))\n",
    "ax[0].scatter(x = bmidata['HeightM'], y = bmidata['BMI'], color = \"blue\")\n",
    "ax[0].set_xlabel(\"Height in mts\")\n",
    "ax[0].set_ylabel(\"BMI\")\n",
    "\n",
    "ax[1].scatter(x = bmidata_scaled['HeightM'], y = bmidata_scaled['BMI'], color = \"green\")\n",
    "ax[1].set_xlabel(\"Height in mts\")\n",
    "ax[1].set_ylabel(\"BMI\")\n",
    "\n",
    "plt.show()"
   ]
  },
  {
   "cell_type": "code",
   "execution_count": 43,
   "metadata": {},
   "outputs": [
    {
     "data": {
      "image/png": "[encoded data removed]",
      "text/plain": [
       "<Figure size 720x432 with 2 Axes>"
      ]
     },
     "metadata": {
      "needs_background": "light"
     },
     "output_type": "display_data"
    }
   ],
   "source": [
    "import matplotlib.pyplot as plt\n",
    "import pandas as pd\n",
    "\n",
    "fig, ax = plt.subplots(2, figsize=(10, 6))\n",
    "ax[0].scatter(x = bmidata['Fat'], y = bmidata['BMI'], color = \"blue\")\n",
    "ax[0].set_xlabel(\"%Fat\")\n",
    "ax[0].set_ylabel(\"BMI\")\n",
    "\n",
    "ax[1].scatter(x = bmidata_scaled['Fat'], y = bmidata_scaled['BMI'], color = \"green\")\n",
    "ax[1].set_xlabel(\"%Fat\")\n",
    "ax[1].set_ylabel(\"BMI\")\n",
    "\n",
    "plt.show()"
   ]
  },
  {
   "cell_type": "code",
   "execution_count": 44,
   "metadata": {},
   "outputs": [],
   "source": [
    "# Apply the MinMax scaler to BMI dataset with range of max and min values\n",
    "\n",
    "from sklearn.preprocessing import MinMaxScaler\n",
    "mmscaler1 = MinMaxScaler(feature_range=(5, 10))"
   ]
  },
  {
   "cell_type": "code",
   "execution_count": 45,
   "metadata": {},
   "outputs": [],
   "source": [
    "# copy file to new file \n",
    "\n",
    "bmidata_scaled1 = bmidata.copy()\n",
    "col_names1 = ['HeightM', 'Weightkg', 'Fat', 'BMI']\n",
    "features1 = bmidata_scaled1[col_names1]"
   ]
  },
  {
   "cell_type": "code",
   "execution_count": 46,
   "metadata": {},
   "outputs": [
    {
     "data": {
      "text/html": [
       "<div>\n",
       "<style scoped>\n",
       "    .dataframe tbody tr th:only-of-type {\n",
       "        vertical-align: middle;\n",
       "    }\n",
       "\n",
       "    .dataframe tbody tr th {\n",
       "        vertical-align: top;\n",
       "    }\n",
       "\n",
       "    .dataframe thead th {\n",
       "        text-align: right;\n",
       "    }\n",
       "</style>\n",
       "<table border=\"1\" class=\"dataframe\">\n",
       "  <thead>\n",
       "    <tr style=\"text-align: right;\">\n",
       "      <th></th>\n",
       "      <th>HeightM</th>\n",
       "      <th>Weightkg</th>\n",
       "      <th>Fat</th>\n",
       "      <th>BMI</th>\n",
       "    </tr>\n",
       "  </thead>\n",
       "  <tbody>\n",
       "    <tr>\n",
       "      <th>0</th>\n",
       "      <td>9.090909</td>\n",
       "      <td>6.731297</td>\n",
       "      <td>6.365132</td>\n",
       "      <td>6.109399</td>\n",
       "    </tr>\n",
       "    <tr>\n",
       "      <th>1</th>\n",
       "      <td>9.848485</td>\n",
       "      <td>7.860329</td>\n",
       "      <td>7.171053</td>\n",
       "      <td>7.046739</td>\n",
       "    </tr>\n",
       "    <tr>\n",
       "      <th>2</th>\n",
       "      <td>9.848485</td>\n",
       "      <td>8.988504</td>\n",
       "      <td>7.763158</td>\n",
       "      <td>8.287108</td>\n",
       "    </tr>\n",
       "    <tr>\n",
       "      <th>3</th>\n",
       "      <td>8.030303</td>\n",
       "      <td>6.692690</td>\n",
       "      <td>6.677632</td>\n",
       "      <td>6.522856</td>\n",
       "    </tr>\n",
       "    <tr>\n",
       "      <th>4</th>\n",
       "      <td>6.818182</td>\n",
       "      <td>6.186513</td>\n",
       "      <td>6.134868</td>\n",
       "      <td>6.384181</td>\n",
       "    </tr>\n",
       "  </tbody>\n",
       "</table>\n",
       "</div>"
      ],
      "text/plain": [
       "    HeightM  Weightkg       Fat       BMI\n",
       "0  9.090909  6.731297  6.365132  6.109399\n",
       "1  9.848485  7.860329  7.171053  7.046739\n",
       "2  9.848485  8.988504  7.763158  8.287108\n",
       "3  8.030303  6.692690  6.677632  6.522856\n",
       "4  6.818182  6.186513  6.134868  6.384181"
      ]
     },
     "execution_count": 46,
     "metadata": {},
     "output_type": "execute_result"
    }
   ],
   "source": [
    "# Apply the MinMax scaler to BMI dataset\n",
    "\n",
    "bmidata_scaled1[col_names1] = mmscaler1.fit_transform(features1.values)\n",
    "bmidata_scaled1.head()"
   ]
  },
  {
   "cell_type": "code",
   "execution_count": 47,
   "metadata": {},
   "outputs": [
    {
     "data": {
      "text/html": [
       "<div>\n",
       "<style scoped>\n",
       "    .dataframe tbody tr th:only-of-type {\n",
       "        vertical-align: middle;\n",
       "    }\n",
       "\n",
       "    .dataframe tbody tr th {\n",
       "        vertical-align: top;\n",
       "    }\n",
       "\n",
       "    .dataframe thead th {\n",
       "        text-align: right;\n",
       "    }\n",
       "</style>\n",
       "<table border=\"1\" class=\"dataframe\">\n",
       "  <thead>\n",
       "    <tr style=\"text-align: right;\">\n",
       "      <th></th>\n",
       "      <th>HeightM</th>\n",
       "      <th>Weightkg</th>\n",
       "      <th>Fat</th>\n",
       "      <th>BMI</th>\n",
       "    </tr>\n",
       "  </thead>\n",
       "  <tbody>\n",
       "    <tr>\n",
       "      <th>HeightM</th>\n",
       "      <td>1.000000</td>\n",
       "      <td>0.687894</td>\n",
       "      <td>0.273390</td>\n",
       "      <td>0.429862</td>\n",
       "    </tr>\n",
       "    <tr>\n",
       "      <th>Weightkg</th>\n",
       "      <td>0.687894</td>\n",
       "      <td>1.000000</td>\n",
       "      <td>0.780368</td>\n",
       "      <td>0.946975</td>\n",
       "    </tr>\n",
       "    <tr>\n",
       "      <th>Fat</th>\n",
       "      <td>0.273390</td>\n",
       "      <td>0.780368</td>\n",
       "      <td>1.000000</td>\n",
       "      <td>0.862530</td>\n",
       "    </tr>\n",
       "    <tr>\n",
       "      <th>BMI</th>\n",
       "      <td>0.429862</td>\n",
       "      <td>0.946975</td>\n",
       "      <td>0.862530</td>\n",
       "      <td>1.000000</td>\n",
       "    </tr>\n",
       "  </tbody>\n",
       "</table>\n",
       "</div>"
      ],
      "text/plain": [
       "           HeightM  Weightkg       Fat       BMI\n",
       "HeightM   1.000000  0.687894  0.273390  0.429862\n",
       "Weightkg  0.687894  1.000000  0.780368  0.946975\n",
       "Fat       0.273390  0.780368  1.000000  0.862530\n",
       "BMI       0.429862  0.946975  0.862530  1.000000"
      ]
     },
     "execution_count": 47,
     "metadata": {},
     "output_type": "execute_result"
    }
   ],
   "source": [
    "# Disply the  correlation coefficient (after)\n",
    "\n",
    "bmidata_scaled1.corr()"
   ]
  },
  {
   "cell_type": "code",
   "execution_count": 48,
   "metadata": {},
   "outputs": [
    {
     "data": {
      "image/png": "[encoded data removed]",
      "text/plain": [
       "<Figure size 720x720 with 3 Axes>"
      ]
     },
     "metadata": {
      "needs_background": "light"
     },
     "output_type": "display_data"
    }
   ],
   "source": [
    "import matplotlib.pyplot as plt\n",
    "import pandas as pd\n",
    "\n",
    "fig, ax = plt.subplots(3, figsize=(10, 10))\n",
    "ax[0].scatter(x = bmidata['Weightkg'], y = bmidata['BMI'], color = \"blue\")\n",
    "ax[0].set_xlabel(\"Weight in Kgs\")\n",
    "ax[0].set_ylabel(\"BMI\")\n",
    "\n",
    "ax[1].scatter(x = bmidata_scaled['Weightkg'], y = bmidata_scaled['BMI'], color = \"green\")\n",
    "ax[1].set_xlabel(\"Weight in Kgs\")\n",
    "ax[1].set_ylabel(\"BMI\")\n",
    "\n",
    "ax[2].scatter(x = bmidata_scaled1['Weightkg'], y = bmidata_scaled1['BMI'], color = \"orange\")\n",
    "ax[2].set_xlabel(\"Weight in Kgs\")\n",
    "ax[2].set_ylabel(\"BMI\")\n",
    "\n",
    "plt.show()"
   ]
  },
  {
   "cell_type": "code",
   "execution_count": 49,
   "metadata": {},
   "outputs": [],
   "source": [
    "# Apply the MinMax scaler to BMI dataset with range of max and min values\n",
    "\n",
    "from sklearn.preprocessing import MinMaxScaler\n",
    "mmscaler2 = MinMaxScaler(feature_range=(-1, +1))"
   ]
  },
  {
   "cell_type": "code",
   "execution_count": 50,
   "metadata": {},
   "outputs": [],
   "source": [
    "# Copy file to new file \n",
    "\n",
    "bmidata_scaled2 = bmidata.copy()\n",
    "col_names2 = ['HeightM', 'Weightkg', 'Fat', 'BMI']\n",
    "features2 = bmidata_scaled2[col_names2]"
   ]
  },
  {
   "cell_type": "code",
   "execution_count": 51,
   "metadata": {},
   "outputs": [
    {
     "data": {
      "text/html": [
       "<div>\n",
       "<style scoped>\n",
       "    .dataframe tbody tr th:only-of-type {\n",
       "        vertical-align: middle;\n",
       "    }\n",
       "\n",
       "    .dataframe tbody tr th {\n",
       "        vertical-align: top;\n",
       "    }\n",
       "\n",
       "    .dataframe thead th {\n",
       "        text-align: right;\n",
       "    }\n",
       "</style>\n",
       "<table border=\"1\" class=\"dataframe\">\n",
       "  <thead>\n",
       "    <tr style=\"text-align: right;\">\n",
       "      <th></th>\n",
       "      <th>HeightM</th>\n",
       "      <th>Weightkg</th>\n",
       "      <th>Fat</th>\n",
       "      <th>BMI</th>\n",
       "    </tr>\n",
       "  </thead>\n",
       "  <tbody>\n",
       "    <tr>\n",
       "      <th>0</th>\n",
       "      <td>0.636364</td>\n",
       "      <td>-0.307481</td>\n",
       "      <td>-0.453947</td>\n",
       "      <td>-0.556240</td>\n",
       "    </tr>\n",
       "    <tr>\n",
       "      <th>1</th>\n",
       "      <td>0.939394</td>\n",
       "      <td>0.144132</td>\n",
       "      <td>-0.131579</td>\n",
       "      <td>-0.181305</td>\n",
       "    </tr>\n",
       "    <tr>\n",
       "      <th>2</th>\n",
       "      <td>0.939394</td>\n",
       "      <td>0.595402</td>\n",
       "      <td>0.105263</td>\n",
       "      <td>0.314843</td>\n",
       "    </tr>\n",
       "    <tr>\n",
       "      <th>3</th>\n",
       "      <td>0.212121</td>\n",
       "      <td>-0.322924</td>\n",
       "      <td>-0.328947</td>\n",
       "      <td>-0.390858</td>\n",
       "    </tr>\n",
       "    <tr>\n",
       "      <th>4</th>\n",
       "      <td>-0.272727</td>\n",
       "      <td>-0.525395</td>\n",
       "      <td>-0.546053</td>\n",
       "      <td>-0.446328</td>\n",
       "    </tr>\n",
       "  </tbody>\n",
       "</table>\n",
       "</div>"
      ],
      "text/plain": [
       "    HeightM  Weightkg       Fat       BMI\n",
       "0  0.636364 -0.307481 -0.453947 -0.556240\n",
       "1  0.939394  0.144132 -0.131579 -0.181305\n",
       "2  0.939394  0.595402  0.105263  0.314843\n",
       "3  0.212121 -0.322924 -0.328947 -0.390858\n",
       "4 -0.272727 -0.525395 -0.546053 -0.446328"
      ]
     },
     "execution_count": 51,
     "metadata": {},
     "output_type": "execute_result"
    }
   ],
   "source": [
    "# Apply the MinMax scaler to BMI dataset\n",
    "\n",
    "bmidata_scaled2[col_names2] = mmscaler2.fit_transform(features2.values)\n",
    "bmidata_scaled2.head()"
   ]
  },
  {
   "cell_type": "code",
   "execution_count": 52,
   "metadata": {},
   "outputs": [
    {
     "ename": "KeyError",
     "evalue": "'Weight kg'",
     "output_type": "error",
     "traceback": [
      "\u001b[1;31m---------------------------------------------------------------------------\u001b[0m",
      "\u001b[1;31mKeyError\u001b[0m                                  Traceback (most recent call last)",
      "File \u001b[1;32m~\\anaconda3\\lib\\site-packages\\pandas\\core\\indexes\\base.py:3621\u001b[0m, in \u001b[0;36mIndex.get_loc\u001b[1;34m(self, key, method, tolerance)\u001b[0m\n\u001b[0;32m   3620\u001b[0m \u001b[38;5;28;01mtry\u001b[39;00m:\n\u001b[1;32m-> 3621\u001b[0m     \u001b[38;5;28;01mreturn\u001b[39;00m \u001b[38;5;28;43mself\u001b[39;49m\u001b[38;5;241;43m.\u001b[39;49m\u001b[43m_engine\u001b[49m\u001b[38;5;241;43m.\u001b[39;49m\u001b[43mget_loc\u001b[49m\u001b[43m(\u001b[49m\u001b[43mcasted_key\u001b[49m\u001b[43m)\u001b[49m\n\u001b[0;32m   3622\u001b[0m \u001b[38;5;28;01mexcept\u001b[39;00m \u001b[38;5;167;01mKeyError\u001b[39;00m \u001b[38;5;28;01mas\u001b[39;00m err:\n",
      "File \u001b[1;32m~\\anaconda3\\lib\\site-packages\\pandas\\_libs\\index.pyx:136\u001b[0m, in \u001b[0;36mpandas._libs.index.IndexEngine.get_loc\u001b[1;34m()\u001b[0m\n",
      "File \u001b[1;32m~\\anaconda3\\lib\\site-packages\\pandas\\_libs\\index.pyx:163\u001b[0m, in \u001b[0;36mpandas._libs.index.IndexEngine.get_loc\u001b[1;34m()\u001b[0m\n",
      "File \u001b[1;32mpandas\\_libs\\hashtable_class_helper.pxi:5198\u001b[0m, in \u001b[0;36mpandas._libs.hashtable.PyObjectHashTable.get_item\u001b[1;34m()\u001b[0m\n",
      "File \u001b[1;32mpandas\\_libs\\hashtable_class_helper.pxi:5206\u001b[0m, in \u001b[0;36mpandas._libs.hashtable.PyObjectHashTable.get_item\u001b[1;34m()\u001b[0m\n",
      "\u001b[1;31mKeyError\u001b[0m: 'Weight kg'",
      "\nThe above exception was the direct cause of the following exception:\n",
      "\u001b[1;31mKeyError\u001b[0m                                  Traceback (most recent call last)",
      "Input \u001b[1;32mIn [52]\u001b[0m, in \u001b[0;36m<cell line: 5>\u001b[1;34m()\u001b[0m\n\u001b[0;32m      2\u001b[0m \u001b[38;5;28;01mimport\u001b[39;00m \u001b[38;5;21;01mpandas\u001b[39;00m \u001b[38;5;28;01mas\u001b[39;00m \u001b[38;5;21;01mpd\u001b[39;00m\n\u001b[0;32m      4\u001b[0m fig, ax \u001b[38;5;241m=\u001b[39m plt\u001b[38;5;241m.\u001b[39msubplots(\u001b[38;5;241m4\u001b[39m, figsize\u001b[38;5;241m=\u001b[39m(\u001b[38;5;241m10\u001b[39m, \u001b[38;5;241m10\u001b[39m))\n\u001b[1;32m----> 5\u001b[0m ax[\u001b[38;5;241m0\u001b[39m]\u001b[38;5;241m.\u001b[39mscatter(x \u001b[38;5;241m=\u001b[39m \u001b[43mbmidata\u001b[49m\u001b[43m[\u001b[49m\u001b[38;5;124;43m'\u001b[39;49m\u001b[38;5;124;43mWeight kg\u001b[39;49m\u001b[38;5;124;43m'\u001b[39;49m\u001b[43m]\u001b[49m, y \u001b[38;5;241m=\u001b[39m bmidata[\u001b[38;5;124m'\u001b[39m\u001b[38;5;124mBMI\u001b[39m\u001b[38;5;124m'\u001b[39m], color \u001b[38;5;241m=\u001b[39m \u001b[38;5;124m\"\u001b[39m\u001b[38;5;124mblue\u001b[39m\u001b[38;5;124m\"\u001b[39m)\n\u001b[0;32m      6\u001b[0m ax[\u001b[38;5;241m0\u001b[39m]\u001b[38;5;241m.\u001b[39mset_xlabel(\u001b[38;5;124m\"\u001b[39m\u001b[38;5;124mWeight in Kgs\u001b[39m\u001b[38;5;124m\"\u001b[39m)\n\u001b[0;32m      7\u001b[0m ax[\u001b[38;5;241m0\u001b[39m]\u001b[38;5;241m.\u001b[39mset_ylabel(\u001b[38;5;124m\"\u001b[39m\u001b[38;5;124mBMI\u001b[39m\u001b[38;5;124m\"\u001b[39m)\n",
      "File \u001b[1;32m~\\anaconda3\\lib\\site-packages\\pandas\\core\\frame.py:3505\u001b[0m, in \u001b[0;36mDataFrame.__getitem__\u001b[1;34m(self, key)\u001b[0m\n\u001b[0;32m   3503\u001b[0m \u001b[38;5;28;01mif\u001b[39;00m \u001b[38;5;28mself\u001b[39m\u001b[38;5;241m.\u001b[39mcolumns\u001b[38;5;241m.\u001b[39mnlevels \u001b[38;5;241m>\u001b[39m \u001b[38;5;241m1\u001b[39m:\n\u001b[0;32m   3504\u001b[0m     \u001b[38;5;28;01mreturn\u001b[39;00m \u001b[38;5;28mself\u001b[39m\u001b[38;5;241m.\u001b[39m_getitem_multilevel(key)\n\u001b[1;32m-> 3505\u001b[0m indexer \u001b[38;5;241m=\u001b[39m \u001b[38;5;28;43mself\u001b[39;49m\u001b[38;5;241;43m.\u001b[39;49m\u001b[43mcolumns\u001b[49m\u001b[38;5;241;43m.\u001b[39;49m\u001b[43mget_loc\u001b[49m\u001b[43m(\u001b[49m\u001b[43mkey\u001b[49m\u001b[43m)\u001b[49m\n\u001b[0;32m   3506\u001b[0m \u001b[38;5;28;01mif\u001b[39;00m is_integer(indexer):\n\u001b[0;32m   3507\u001b[0m     indexer \u001b[38;5;241m=\u001b[39m [indexer]\n",
      "File \u001b[1;32m~\\anaconda3\\lib\\site-packages\\pandas\\core\\indexes\\base.py:3623\u001b[0m, in \u001b[0;36mIndex.get_loc\u001b[1;34m(self, key, method, tolerance)\u001b[0m\n\u001b[0;32m   3621\u001b[0m     \u001b[38;5;28;01mreturn\u001b[39;00m \u001b[38;5;28mself\u001b[39m\u001b[38;5;241m.\u001b[39m_engine\u001b[38;5;241m.\u001b[39mget_loc(casted_key)\n\u001b[0;32m   3622\u001b[0m \u001b[38;5;28;01mexcept\u001b[39;00m \u001b[38;5;167;01mKeyError\u001b[39;00m \u001b[38;5;28;01mas\u001b[39;00m err:\n\u001b[1;32m-> 3623\u001b[0m     \u001b[38;5;28;01mraise\u001b[39;00m \u001b[38;5;167;01mKeyError\u001b[39;00m(key) \u001b[38;5;28;01mfrom\u001b[39;00m \u001b[38;5;21;01merr\u001b[39;00m\n\u001b[0;32m   3624\u001b[0m \u001b[38;5;28;01mexcept\u001b[39;00m \u001b[38;5;167;01mTypeError\u001b[39;00m:\n\u001b[0;32m   3625\u001b[0m     \u001b[38;5;66;03m# If we have a listlike key, _check_indexing_error will raise\u001b[39;00m\n\u001b[0;32m   3626\u001b[0m     \u001b[38;5;66;03m#  InvalidIndexError. Otherwise we fall through and re-raise\u001b[39;00m\n\u001b[0;32m   3627\u001b[0m     \u001b[38;5;66;03m#  the TypeError.\u001b[39;00m\n\u001b[0;32m   3628\u001b[0m     \u001b[38;5;28mself\u001b[39m\u001b[38;5;241m.\u001b[39m_check_indexing_error(key)\n",
      "\u001b[1;31mKeyError\u001b[0m: 'Weight kg'"
     ]
    },
    {
     "data": {
      "image/png": "[encoded data removed]",
      "text/plain": [
       "<Figure size 720x720 with 4 Axes>"
      ]
     },
     "metadata": {
      "needs_background": "light"
     },
     "output_type": "display_data"
    }
   ],
   "source": [
    "import matplotlib.pyplot as plt\n",
    "import pandas as pd\n",
    "\n",
    "fig, ax = plt.subplots(4, figsize=(10, 10))\n",
    "ax[0].scatter(x = bmidata['Weight kg'], y = bmidata['BMI'], color = \"blue\")\n",
    "ax[0].set_xlabel(\"Weight in Kgs\")\n",
    "ax[0].set_ylabel(\"BMI\")\n",
    "\n",
    "ax[1].scatter(x = bmidata_scaled['Weight kg'], y = bmidata_scaled['BMI'], color = \"red\")\n",
    "ax[1].set_xlabel(\"Weight in Kgs\")\n",
    "ax[1].set_ylabel(\"BMI\")\n",
    "\n",
    "ax[2].scatter(x = bmidata_scaled1['Weight kg'], y = bmidata_scaled1['BMI'], color = \"green\")\n",
    "ax[2].set_xlabel(\"Weight in Kgs\")\n",
    "ax[2].set_ylabel(\"BMI\")\n",
    "\n",
    "ax[3].scatter(x = bmidata_scaled2['Weight kg'], y = bmidata_scaled1['BMI'], color = \"orange\")\n",
    "ax[3].set_xlabel(\"Weight in Kgs\")\n",
    "ax[3].set_ylabel(\"BMI\")\n",
    "\n",
    "plt.show()"
   ]
  },
  {
   "cell_type": "code",
   "execution_count": 54,
   "metadata": {},
   "outputs": [
    {
     "data": {
      "image/png": "[encoded data removed]",
      "text/plain": [
       "<Figure size 720x720 with 4 Axes>"
      ]
     },
     "metadata": {
      "needs_background": "light"
     },
     "output_type": "display_data"
    }
   ],
   "source": [
    "import matplotlib.pyplot as plt\n",
    "import pandas as pd\n",
    "\n",
    "fig, ax = plt.subplots(4, figsize=(10, 10))\n",
    "ax[0].scatter(x = bmidata['HeightM'], y = bmidata['BMI'], color = \"blue\")\n",
    "ax[0].set_xlabel(\"Height in mts\")\n",
    "ax[0].set_ylabel(\"BMI\")\n",
    "\n",
    "ax[1].scatter(x = bmidata_scaled['HeightM'], y = bmidata_scaled['BMI'], color = \"red\")\n",
    "ax[1].set_xlabel(\"Weight in mts\")\n",
    "ax[1].set_ylabel(\"BMI\")\n",
    "\n",
    "ax[2].scatter(x = bmidata_scaled1['HeightM'], y = bmidata_scaled1['BMI'], color = \"green\")\n",
    "ax[2].set_xlabel(\"Weight in mts\")\n",
    "ax[2].set_ylabel(\"BMI\")\n",
    "\n",
    "ax[3].scatter(x = bmidata_scaled2['HeightM'], y = bmidata_scaled1['BMI'], color = \"orange\")\n",
    "ax[3].set_xlabel(\"Weight in mts\")\n",
    "ax[3].set_ylabel(\"BMI\")\n",
    "\n",
    "plt.show()"
   ]
  },
  {
   "cell_type": "code",
   "execution_count": 55,
   "metadata": {},
   "outputs": [],
   "source": [
    "# Standard Scaler scales the values such that the mean is 0 and the standard deviation is 1(or the unit variance).\n",
    "#   x_scaled = (x – mean)/std_dev\n",
    "# Standard Scaler assumes that the distribution of the variable is normal. Thus, in case, the variables \n",
    "# are not normally distributed, we \n",
    "# 01) either choose a different scaler\n",
    "# 02) or first, convert the variables to a normal distribution and then apply this scaler\n",
    "\n",
    "from sklearn.preprocessing import StandardScaler\n",
    "\n",
    "stdscaler = StandardScaler()"
   ]
  },
  {
   "cell_type": "code",
   "execution_count": 56,
   "metadata": {},
   "outputs": [],
   "source": [
    "bmidata_scaled3 = bmidata.copy()\n",
    "col_names3 = ['HeightM', 'Weightkg', 'Fat', 'BMI']\n",
    "features3 = bmidata_scaled3[col_names3]"
   ]
  },
  {
   "cell_type": "code",
   "execution_count": 57,
   "metadata": {},
   "outputs": [
    {
     "data": {
      "text/html": [
       "<div>\n",
       "<style scoped>\n",
       "    .dataframe tbody tr th:only-of-type {\n",
       "        vertical-align: middle;\n",
       "    }\n",
       "\n",
       "    .dataframe tbody tr th {\n",
       "        vertical-align: top;\n",
       "    }\n",
       "\n",
       "    .dataframe thead th {\n",
       "        text-align: right;\n",
       "    }\n",
       "</style>\n",
       "<table border=\"1\" class=\"dataframe\">\n",
       "  <thead>\n",
       "    <tr style=\"text-align: right;\">\n",
       "      <th></th>\n",
       "      <th>HeightM</th>\n",
       "      <th>Weightkg</th>\n",
       "      <th>Fat</th>\n",
       "      <th>BMI</th>\n",
       "    </tr>\n",
       "  </thead>\n",
       "  <tbody>\n",
       "    <tr>\n",
       "      <th>0</th>\n",
       "      <td>1.201636</td>\n",
       "      <td>0.121100</td>\n",
       "      <td>-0.431021</td>\n",
       "      <td>-0.324407</td>\n",
       "    </tr>\n",
       "    <tr>\n",
       "      <th>1</th>\n",
       "      <td>1.880693</td>\n",
       "      <td>1.132960</td>\n",
       "      <td>0.258735</td>\n",
       "      <td>0.524135</td>\n",
       "    </tr>\n",
       "    <tr>\n",
       "      <th>2</th>\n",
       "      <td>1.880693</td>\n",
       "      <td>2.144051</td>\n",
       "      <td>0.765494</td>\n",
       "      <td>1.647000</td>\n",
       "    </tr>\n",
       "    <tr>\n",
       "      <th>3</th>\n",
       "      <td>0.250956</td>\n",
       "      <td>0.086500</td>\n",
       "      <td>-0.163565</td>\n",
       "      <td>0.049882</td>\n",
       "    </tr>\n",
       "    <tr>\n",
       "      <th>4</th>\n",
       "      <td>-0.835536</td>\n",
       "      <td>-0.367145</td>\n",
       "      <td>-0.628094</td>\n",
       "      <td>-0.075656</td>\n",
       "    </tr>\n",
       "  </tbody>\n",
       "</table>\n",
       "</div>"
      ],
      "text/plain": [
       "    HeightM  Weightkg       Fat       BMI\n",
       "0  1.201636  0.121100 -0.431021 -0.324407\n",
       "1  1.880693  1.132960  0.258735  0.524135\n",
       "2  1.880693  2.144051  0.765494  1.647000\n",
       "3  0.250956  0.086500 -0.163565  0.049882\n",
       "4 -0.835536 -0.367145 -0.628094 -0.075656"
      ]
     },
     "execution_count": 57,
     "metadata": {},
     "output_type": "execute_result"
    }
   ],
   "source": [
    "bmidata_scaled3[col_names3] = stdscaler.fit_transform(features3.values)\n",
    "bmidata_scaled3.head()"
   ]
  },
  {
   "cell_type": "code",
   "execution_count": 58,
   "metadata": {},
   "outputs": [
    {
     "data": {
      "text/html": [
       "<div>\n",
       "<style scoped>\n",
       "    .dataframe tbody tr th:only-of-type {\n",
       "        vertical-align: middle;\n",
       "    }\n",
       "\n",
       "    .dataframe tbody tr th {\n",
       "        vertical-align: top;\n",
       "    }\n",
       "\n",
       "    .dataframe thead th {\n",
       "        text-align: right;\n",
       "    }\n",
       "</style>\n",
       "<table border=\"1\" class=\"dataframe\">\n",
       "  <thead>\n",
       "    <tr style=\"text-align: right;\">\n",
       "      <th></th>\n",
       "      <th>count</th>\n",
       "      <th>mean</th>\n",
       "      <th>std</th>\n",
       "      <th>min</th>\n",
       "      <th>25%</th>\n",
       "      <th>50%</th>\n",
       "      <th>75%</th>\n",
       "      <th>max</th>\n",
       "    </tr>\n",
       "  </thead>\n",
       "  <tbody>\n",
       "    <tr>\n",
       "      <th>HeightM</th>\n",
       "      <td>92.0</td>\n",
       "      <td>3.495996e-15</td>\n",
       "      <td>1.005479</td>\n",
       "      <td>-2.465273</td>\n",
       "      <td>-0.699724</td>\n",
       "      <td>-0.156478</td>\n",
       "      <td>0.794202</td>\n",
       "      <td>2.016505</td>\n",
       "    </tr>\n",
       "    <tr>\n",
       "      <th>Weightkg</th>\n",
       "      <td>92.0</td>\n",
       "      <td>-9.895466e-17</td>\n",
       "      <td>1.005479</td>\n",
       "      <td>-1.430521</td>\n",
       "      <td>-0.685274</td>\n",
       "      <td>-0.183765</td>\n",
       "      <td>0.372143</td>\n",
       "      <td>3.050574</td>\n",
       "    </tr>\n",
       "    <tr>\n",
       "      <th>Fat</th>\n",
       "      <td>92.0</td>\n",
       "      <td>2.256649e-16</td>\n",
       "      <td>1.005479</td>\n",
       "      <td>-1.599383</td>\n",
       "      <td>-0.828686</td>\n",
       "      <td>-0.205795</td>\n",
       "      <td>0.705669</td>\n",
       "      <td>2.679919</td>\n",
       "    </tr>\n",
       "    <tr>\n",
       "      <th>BMI</th>\n",
       "      <td>92.0</td>\n",
       "      <td>1.846349e-16</td>\n",
       "      <td>1.005479</td>\n",
       "      <td>-1.328709</td>\n",
       "      <td>-0.696952</td>\n",
       "      <td>-0.284886</td>\n",
       "      <td>0.471828</td>\n",
       "      <td>3.197624</td>\n",
       "    </tr>\n",
       "  </tbody>\n",
       "</table>\n",
       "</div>"
      ],
      "text/plain": [
       "          count          mean       std       min       25%       50%  \\\n",
       "HeightM    92.0  3.495996e-15  1.005479 -2.465273 -0.699724 -0.156478   \n",
       "Weightkg   92.0 -9.895466e-17  1.005479 -1.430521 -0.685274 -0.183765   \n",
       "Fat        92.0  2.256649e-16  1.005479 -1.599383 -0.828686 -0.205795   \n",
       "BMI        92.0  1.846349e-16  1.005479 -1.328709 -0.696952 -0.284886   \n",
       "\n",
       "               75%       max  \n",
       "HeightM   0.794202  2.016505  \n",
       "Weightkg  0.372143  3.050574  \n",
       "Fat       0.705669  2.679919  \n",
       "BMI       0.471828  3.197624  "
      ]
     },
     "execution_count": 58,
     "metadata": {},
     "output_type": "execute_result"
    }
   ],
   "source": [
    "bmidata_scaled3.describe().T"
   ]
  },
  {
   "cell_type": "code",
   "execution_count": 59,
   "metadata": {},
   "outputs": [
    {
     "data": {
      "text/html": [
       "<div>\n",
       "<style scoped>\n",
       "    .dataframe tbody tr th:only-of-type {\n",
       "        vertical-align: middle;\n",
       "    }\n",
       "\n",
       "    .dataframe tbody tr th {\n",
       "        vertical-align: top;\n",
       "    }\n",
       "\n",
       "    .dataframe thead th {\n",
       "        text-align: right;\n",
       "    }\n",
       "</style>\n",
       "<table border=\"1\" class=\"dataframe\">\n",
       "  <thead>\n",
       "    <tr style=\"text-align: right;\">\n",
       "      <th></th>\n",
       "      <th>HeightM</th>\n",
       "      <th>Weightkg</th>\n",
       "      <th>Fat</th>\n",
       "      <th>BMI</th>\n",
       "    </tr>\n",
       "  </thead>\n",
       "  <tbody>\n",
       "    <tr>\n",
       "      <th>count</th>\n",
       "      <td>9.200000e+01</td>\n",
       "      <td>9.200000e+01</td>\n",
       "      <td>9.200000e+01</td>\n",
       "      <td>9.200000e+01</td>\n",
       "    </tr>\n",
       "    <tr>\n",
       "      <th>mean</th>\n",
       "      <td>3.495996e-15</td>\n",
       "      <td>-9.895466e-17</td>\n",
       "      <td>2.256649e-16</td>\n",
       "      <td>1.846349e-16</td>\n",
       "    </tr>\n",
       "    <tr>\n",
       "      <th>std</th>\n",
       "      <td>1.005479e+00</td>\n",
       "      <td>1.005479e+00</td>\n",
       "      <td>1.005479e+00</td>\n",
       "      <td>1.005479e+00</td>\n",
       "    </tr>\n",
       "    <tr>\n",
       "      <th>min</th>\n",
       "      <td>-2.465273e+00</td>\n",
       "      <td>-1.430521e+00</td>\n",
       "      <td>-1.599383e+00</td>\n",
       "      <td>-1.328709e+00</td>\n",
       "    </tr>\n",
       "    <tr>\n",
       "      <th>25%</th>\n",
       "      <td>-6.997242e-01</td>\n",
       "      <td>-6.852738e-01</td>\n",
       "      <td>-8.286864e-01</td>\n",
       "      <td>-6.969517e-01</td>\n",
       "    </tr>\n",
       "    <tr>\n",
       "      <th>50%</th>\n",
       "      <td>-1.564784e-01</td>\n",
       "      <td>-1.837649e-01</td>\n",
       "      <td>-2.057945e-01</td>\n",
       "      <td>-2.848857e-01</td>\n",
       "    </tr>\n",
       "    <tr>\n",
       "      <th>75%</th>\n",
       "      <td>7.942017e-01</td>\n",
       "      <td>3.721431e-01</td>\n",
       "      <td>7.056687e-01</td>\n",
       "      <td>4.718278e-01</td>\n",
       "    </tr>\n",
       "    <tr>\n",
       "      <th>max</th>\n",
       "      <td>2.016505e+00</td>\n",
       "      <td>3.050574e+00</td>\n",
       "      <td>2.679919e+00</td>\n",
       "      <td>3.197624e+00</td>\n",
       "    </tr>\n",
       "  </tbody>\n",
       "</table>\n",
       "</div>"
      ],
      "text/plain": [
       "            HeightM      Weightkg           Fat           BMI\n",
       "count  9.200000e+01  9.200000e+01  9.200000e+01  9.200000e+01\n",
       "mean   3.495996e-15 -9.895466e-17  2.256649e-16  1.846349e-16\n",
       "std    1.005479e+00  1.005479e+00  1.005479e+00  1.005479e+00\n",
       "min   -2.465273e+00 -1.430521e+00 -1.599383e+00 -1.328709e+00\n",
       "25%   -6.997242e-01 -6.852738e-01 -8.286864e-01 -6.969517e-01\n",
       "50%   -1.564784e-01 -1.837649e-01 -2.057945e-01 -2.848857e-01\n",
       "75%    7.942017e-01  3.721431e-01  7.056687e-01  4.718278e-01\n",
       "max    2.016505e+00  3.050574e+00  2.679919e+00  3.197624e+00"
      ]
     },
     "execution_count": 59,
     "metadata": {},
     "output_type": "execute_result"
    }
   ],
   "source": [
    "bmidata_scaled3.describe()"
   ]
  },
  {
   "cell_type": "code",
   "execution_count": 61,
   "metadata": {},
   "outputs": [
    {
     "data": {
      "image/png": "[encoded data removed]",
      "text/plain": [
       "<Figure size 720x720 with 2 Axes>"
      ]
     },
     "metadata": {
      "needs_background": "light"
     },
     "output_type": "display_data"
    }
   ],
   "source": [
    "import matplotlib.pyplot as plt\n",
    "import pandas as pd\n",
    "\n",
    "fig, ax = plt.subplots(2, figsize=(10, 10))\n",
    "ax[0].scatter(x = bmidata['Weightkg'], y = bmidata['BMI'], color = \"blue\")\n",
    "ax[0].set_xlabel(\"Weight in Kgs\")\n",
    "ax[0].set_ylabel(\"BMI\")\n",
    "\n",
    "ax[1].scatter(x = bmidata_scaled3['Weightkg'], y = bmidata_scaled3['BMI'], color = \"red\")\n",
    "ax[1].set_xlabel(\"Weight in Kgs\")\n",
    "ax[1].set_ylabel(\"BMI\")\n",
    "\n",
    "plt.show()"
   ]
  },
  {
   "cell_type": "code",
   "execution_count": 62,
   "metadata": {},
   "outputs": [],
   "source": [
    "# Robust Scaler : This Scaler, as the name suggests is not sensitive to outliers. This scaler-\n",
    "# 01) removes the median from the data\n",
    "# 02) scales the data by the InterQuartile Range(IQR)\n",
    "# IQR = Q3-Q1 , x_scaled = (x-Q1)/(Q3-Q1)\n",
    "\n",
    "from sklearn.preprocessing import RobustScaler\n",
    "\n",
    "rscaler = RobustScaler()"
   ]
  },
  {
   "cell_type": "code",
   "execution_count": 63,
   "metadata": {},
   "outputs": [],
   "source": [
    "bmidata_scaled4 = bmidata.copy()\n",
    "col_names4 = ['HeightM', 'Weightkg', 'Fat', 'BMI']\n",
    "features4 = bmidata_scaled4[col_names4]"
   ]
  },
  {
   "cell_type": "code",
   "execution_count": 64,
   "metadata": {},
   "outputs": [
    {
     "data": {
      "text/html": [
       "<div>\n",
       "<style scoped>\n",
       "    .dataframe tbody tr th:only-of-type {\n",
       "        vertical-align: middle;\n",
       "    }\n",
       "\n",
       "    .dataframe tbody tr th {\n",
       "        vertical-align: top;\n",
       "    }\n",
       "\n",
       "    .dataframe thead th {\n",
       "        text-align: right;\n",
       "    }\n",
       "</style>\n",
       "<table border=\"1\" class=\"dataframe\">\n",
       "  <thead>\n",
       "    <tr style=\"text-align: right;\">\n",
       "      <th></th>\n",
       "      <th>HeightM</th>\n",
       "      <th>Weightkg</th>\n",
       "      <th>Fat</th>\n",
       "      <th>BMI</th>\n",
       "    </tr>\n",
       "  </thead>\n",
       "  <tbody>\n",
       "    <tr>\n",
       "      <th>0</th>\n",
       "      <td>0.909091</td>\n",
       "      <td>0.288311</td>\n",
       "      <td>-0.146789</td>\n",
       "      <td>-0.033814</td>\n",
       "    </tr>\n",
       "    <tr>\n",
       "      <th>1</th>\n",
       "      <td>1.363636</td>\n",
       "      <td>1.245228</td>\n",
       "      <td>0.302752</td>\n",
       "      <td>0.692193</td>\n",
       "    </tr>\n",
       "    <tr>\n",
       "      <th>2</th>\n",
       "      <td>1.363636</td>\n",
       "      <td>2.201418</td>\n",
       "      <td>0.633028</td>\n",
       "      <td>1.652909</td>\n",
       "    </tr>\n",
       "    <tr>\n",
       "      <th>3</th>\n",
       "      <td>0.272727</td>\n",
       "      <td>0.255590</td>\n",
       "      <td>0.027523</td>\n",
       "      <td>0.286425</td>\n",
       "    </tr>\n",
       "    <tr>\n",
       "      <th>4</th>\n",
       "      <td>-0.454545</td>\n",
       "      <td>-0.173423</td>\n",
       "      <td>-0.275229</td>\n",
       "      <td>0.179015</td>\n",
       "    </tr>\n",
       "  </tbody>\n",
       "</table>\n",
       "</div>"
      ],
      "text/plain": [
       "    HeightM  Weightkg       Fat       BMI\n",
       "0  0.909091  0.288311 -0.146789 -0.033814\n",
       "1  1.363636  1.245228  0.302752  0.692193\n",
       "2  1.363636  2.201418  0.633028  1.652909\n",
       "3  0.272727  0.255590  0.027523  0.286425\n",
       "4 -0.454545 -0.173423 -0.275229  0.179015"
      ]
     },
     "execution_count": 64,
     "metadata": {},
     "output_type": "execute_result"
    }
   ],
   "source": [
    "bmidata_scaled4[col_names4] = rscaler.fit_transform(features4.values)\n",
    "bmidata_scaled4.head()"
   ]
  },
  {
   "cell_type": "code",
   "execution_count": 65,
   "metadata": {},
   "outputs": [
    {
     "data": {
      "text/html": [
       "<div>\n",
       "<style scoped>\n",
       "    .dataframe tbody tr th:only-of-type {\n",
       "        vertical-align: middle;\n",
       "    }\n",
       "\n",
       "    .dataframe tbody tr th {\n",
       "        vertical-align: top;\n",
       "    }\n",
       "\n",
       "    .dataframe thead th {\n",
       "        text-align: right;\n",
       "    }\n",
       "</style>\n",
       "<table border=\"1\" class=\"dataframe\">\n",
       "  <thead>\n",
       "    <tr style=\"text-align: right;\">\n",
       "      <th></th>\n",
       "      <th>HeightM</th>\n",
       "      <th>Weightkg</th>\n",
       "      <th>Fat</th>\n",
       "      <th>BMI</th>\n",
       "    </tr>\n",
       "  </thead>\n",
       "  <tbody>\n",
       "    <tr>\n",
       "      <th>HeightM</th>\n",
       "      <td>1.000000</td>\n",
       "      <td>0.687894</td>\n",
       "      <td>0.273390</td>\n",
       "      <td>0.429862</td>\n",
       "    </tr>\n",
       "    <tr>\n",
       "      <th>Weightkg</th>\n",
       "      <td>0.687894</td>\n",
       "      <td>1.000000</td>\n",
       "      <td>0.780368</td>\n",
       "      <td>0.946975</td>\n",
       "    </tr>\n",
       "    <tr>\n",
       "      <th>Fat</th>\n",
       "      <td>0.273390</td>\n",
       "      <td>0.780368</td>\n",
       "      <td>1.000000</td>\n",
       "      <td>0.862530</td>\n",
       "    </tr>\n",
       "    <tr>\n",
       "      <th>BMI</th>\n",
       "      <td>0.429862</td>\n",
       "      <td>0.946975</td>\n",
       "      <td>0.862530</td>\n",
       "      <td>1.000000</td>\n",
       "    </tr>\n",
       "  </tbody>\n",
       "</table>\n",
       "</div>"
      ],
      "text/plain": [
       "           HeightM  Weightkg       Fat       BMI\n",
       "HeightM   1.000000  0.687894  0.273390  0.429862\n",
       "Weightkg  0.687894  1.000000  0.780368  0.946975\n",
       "Fat       0.273390  0.780368  1.000000  0.862530\n",
       "BMI       0.429862  0.946975  0.862530  1.000000"
      ]
     },
     "execution_count": 65,
     "metadata": {},
     "output_type": "execute_result"
    }
   ],
   "source": [
    "bmidata_scaled4.corr()"
   ]
  },
  {
   "cell_type": "code",
   "execution_count": 35,
   "metadata": {},
   "outputs": [
    {
     "data": {
      "image/png": "[encoded data removed]",
      "text/plain": [
       "<Figure size 720x720 with 2 Axes>"
      ]
     },
     "metadata": {
      "needs_background": "light"
     },
     "output_type": "display_data"
    }
   ],
   "source": [
    "import matplotlib.pyplot as plt\n",
    "import pandas as pd\n",
    "\n",
    "fig, ax = plt.subplots(2, figsize=(10, 10))\n",
    "ax[0].scatter(x = bmidata['Weight kg'], y = bmidata['BMI'], color = \"blue\")\n",
    "ax[0].set_xlabel(\"Weight in Kgs\")\n",
    "ax[0].set_ylabel(\"BMI\")\n",
    "\n",
    "ax[1].scatter(x = bmidata_scaled4['Weight kg'], y = bmidata_scaled4['BMI'], color = \"red\")\n",
    "ax[1].set_xlabel(\"Weight in Kgs\")\n",
    "ax[1].set_ylabel(\"BMI\")\n",
    "\n",
    "plt.show()"
   ]
  },
  {
   "cell_type": "code",
   "execution_count": 36,
   "metadata": {},
   "outputs": [],
   "source": [
    "# Why scale, standardize, or normalize?\n",
    "# Most of machine learning algorithms, such as neural networks, regression-based algorithms, K-nearest neighbors, \n",
    "# support vector machines with radial bias kernel functions, principal components analysis, and algorithms using \n",
    "# linear discriminant analysis don't perform as well if the features are not on relatively similar scales.\n",
    "\n",
    "# 01) Use MinMaxScaler as your default\n",
    "# 02) Use RobustScaler if you have outliers and can handle a larger range\n",
    "# 03) Use StandardScaler if you need normalized features"
   ]
  },
  {
   "cell_type": "code",
   "execution_count": 36,
   "metadata": {},
   "outputs": [],
   "source": [
    "# What is Normalization?\n",
    "# Normalization is a scaling technique in which values are shifted and rescaled so that they end up \n",
    "# ranging between 0 and 1. It is also known as Min-Max scaling.\n",
    "\n",
    "#            Formula for normalization:     x_scaled = (x – x_min)/(x_max – x_min)\n",
    "\n",
    "# What is Standardization?\n",
    "# Standardization is another scaling technique where the values are centered around the mean with \n",
    "# a unit standard deviation. This means that the mean of the attribute becomes zero and the resultant \n",
    "# distribution has a unit standard deviation.\n",
    "\n",
    "#            Formula for standardization: x_scaled = (x – mean)/std_dev\n",
    "\n",
    "# The Big Question – Normalize or Standardize?\n",
    "# Normalization vs. standardization is an eternal question among machine learning newcomers. Let me elaborate \n",
    "# on the answer in this section.\n",
    "\n",
    "# 01) Normalization is good to use when you know that the distribution of your data does not follow a \n",
    "# Gaussian distribution. This can be useful in algorithms that do not assume any distribution of the \n",
    "# data like K-Nearest Neighbors and Neural Networks.\n",
    "\n",
    "# 02) Standardization, on the other hand, can be helpful in cases where the data follows a Gaussian distribution. \n",
    "# However, this does not have to be necessarily true. Also, unlike normalization, standardization does not have \n",
    "# a bounding range. So, even if you have outliers in your data, they will not be affected by standardization."
   ]
  },
  {
   "cell_type": "code",
   "execution_count": 37,
   "metadata": {},
   "outputs": [],
   "source": [
    "# Why Should we use Feature Scaling?\n",
    "\n",
    "# Some machine learning algorithms are sensitive to feature scaling while others are virtually invariant to it.\n",
    "\n",
    "# 01) Gradient Descent Based Algorithms\n",
    "# Machine learning algorithms like linear regression, logistic regression, neural network, etc. that use \n",
    "# gradient descent as an optimization technique require data to be scaled\n",
    "\n",
    "# 02) Distance-Based Algorithms\n",
    "# Distance algorithms like KNN, K-means, and SVM are most affected by the range of features. This is because \n",
    "# behind the scenes they are using distances between data points to determine their similarity.\n",
    "\n",
    "# 03) Tree-Based Algorithms\n",
    "# Tree-based algorithms, on the other hand, are fairly insensitive to the scale of the features. Think about it, \n",
    "# a decision tree is only splitting a node based on a single feature. The decision tree splits a node on a \n",
    "# feature that increases the homogeneity of the node. This split on a feature is not influenced by other features.\n",
    "# So, there is virtually no effect of the remaining features on the split. This is what makes them invariant to \n",
    "# the scale of the features!"
   ]
  },
  {
   "cell_type": "code",
   "execution_count": null,
   "metadata": {},
   "outputs": [],
   "source": []
  }
 ],
 "metadata": {
  "kernelspec": {
   "display_name": "Python 3 (ipykernel)",
   "language": "python",
   "name": "python3"
  },
  "language_info": {
   "codemirror_mode": {
    "name": "ipython",
    "version": 3
   },
   "file_extension": ".py",
   "mimetype": "text/x-python",
   "name": "python",
   "nbconvert_exporter": "python",
   "pygments_lexer": "ipython3",
   "version": "3.9.12"
  }
 },
 "nbformat": 4,
 "nbformat_minor": 4
}
